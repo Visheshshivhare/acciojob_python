{
  "nbformat": 4,
  "nbformat_minor": 0,
  "metadata": {
    "colab": {
      "provenance": [],
      "authorship_tag": "ABX9TyPsQXVvXnKm4KJnLs3qIupV",
      "include_colab_link": true
    },
    "kernelspec": {
      "name": "python3",
      "display_name": "Python 3"
    },
    "language_info": {
      "name": "python"
    }
  },
  "cells": [
    {
      "cell_type": "markdown",
      "metadata": {
        "id": "view-in-github",
        "colab_type": "text"
      },
      "source": [
        "<a href=\"https://colab.research.google.com/github/starlordali4444/acciojob_python/blob/main/day2_conditional_control_statements.ipynb\" target=\"_parent\"><img src=\"https://colab.research.google.com/assets/colab-badge.svg\" alt=\"Open In Colab\"/></a>"
      ]
    },
    {
      "cell_type": "markdown",
      "source": [
        "---\n",
        "\n",
        "**Today's Agenda**\n",
        "\n",
        "---\n",
        "\n",
        "*   f string\n",
        "*   r sting\n",
        "*   format()\n",
        "\n",
        "\n",
        "---\n",
        "**Conditional Statements**\n",
        "\n",
        "---\n",
        "\n",
        "*   pass\n",
        "*   Simple If\n",
        "*   If - Else\n",
        "*   elif\n",
        "*   Nested If\n",
        "*   Elif Ladder\n",
        "---\n",
        "\n",
        "**Control & Control Flow Statements**\n",
        "\n",
        "---\n",
        "\n",
        "*   while\n",
        "*   for\n",
        "*   continue\n",
        "*   break\n"
      ],
      "metadata": {
        "id": "kxnkQYuB13Lp"
      }
    },
    {
      "cell_type": "code",
      "execution_count": null,
      "metadata": {
        "id": "mbufsuLM12NR"
      },
      "outputs": [],
      "source": []
    }
  ]
}