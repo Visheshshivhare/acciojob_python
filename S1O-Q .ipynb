{
 "cells": [
  {
   "cell_type": "markdown",
   "id": "5a7a5caf",
   "metadata": {},
   "source": [
    "# Mathematical operations\n",
    "addition, subtraction, division, multiplication, etc. One thing to note here is that NumPy comes with its own set of methods and operations. You should not assume that the operators will work in the same way as lists. Look at the example below."
   ]
  },
  {
   "cell_type": "code",
   "execution_count": 1,
   "id": "b7f70282",
   "metadata": {},
   "outputs": [
    {
     "data": {
      "text/plain": [
       "[1, 2, 3, 4, 5, 6]"
      ]
     },
     "execution_count": 1,
     "metadata": {},
     "output_type": "execute_result"
    }
   ],
   "source": [
    "import numpy as np\n",
    "# Create 2 lists with elements (1, 2, 3) and (4, 5, 6)\n",
    "list1 = [1,2,3]\n",
    "list2 = [4,5,6]\n",
    "\n",
    "# Use the '+' operator and print the results\n",
    "list1+list2\n"
   ]
  },
  {
   "cell_type": "code",
   "execution_count": 2,
   "id": "507ab0fc",
   "metadata": {},
   "outputs": [
    {
     "name": "stdout",
     "output_type": "stream",
     "text": [
      "[5 7 9]\n",
      "\n",
      "[5 7 9]\n"
     ]
    }
   ],
   "source": [
    "# Convert the above lists to arrays and use the '+' operator or np.add() for element wise addition\n",
    "\n",
    "np_1 = np.array([1,2,3])\n",
    "np_2 = np.array([4,5,6])\n",
    "\n",
    "\n",
    "print(np_1+np_2)\n",
    "print()\n",
    "print(np.add(np_1,np_2))"
   ]
  },
  {
   "cell_type": "code",
   "execution_count": 1,
   "id": "4063d299",
   "metadata": {
    "deletable": false,
    "editable": false
   },
   "outputs": [],
   "source": [
    "# use the '*' operator or np.multiply() for element wise multiplication in below cell\n"
   ]
  },
  {
   "cell_type": "code",
   "execution_count": null,
   "id": "89c87c97",
   "metadata": {
    "cellId": "q10",
    "deletable": false
   },
   "outputs": [],
   "source": [
    "#answer here"
   ]
  },
  {
   "cell_type": "code",
   "execution_count": 4,
   "id": "51fa322e",
   "metadata": {},
   "outputs": [
    {
     "name": "stdout",
     "output_type": "stream",
     "text": [
      "[0.25 0.4  0.5 ]\n",
      "\n",
      "[0.25 0.4  0.5 ]\n"
     ]
    }
   ],
   "source": [
    "# use the '/' operator or np.divide() for element wise division\n",
    "\n",
    "print(np_1/np_2)\n",
    "print()\n",
    "print(np.divide(np_1,np_2))"
   ]
  },
  {
   "cell_type": "code",
   "execution_count": 5,
   "id": "437aa431",
   "metadata": {},
   "outputs": [
    {
     "name": "stdout",
     "output_type": "stream",
     "text": [
      "[3 3 3]\n",
      "\n",
      "[3 3 3]\n"
     ]
    }
   ],
   "source": [
    "# use the '-' operator or np.subtract() for element wise subtraction\n",
    "\n",
    "print(np_2-np_1)\n",
    "print()\n",
    "print(np.subtract(np_2,np_1))"
   ]
  },
  {
   "cell_type": "code",
   "execution_count": 6,
   "id": "eae2717d",
   "metadata": {},
   "outputs": [
    {
     "name": "stdout",
     "output_type": "stream",
     "text": [
      "[4 2 2]\n",
      "\n",
      "[4 2 2]\n"
     ]
    }
   ],
   "source": [
    "# use the '//' operator or np.floor_divide() for element wise floor division\n",
    "print(np_2//np_1)\n",
    "print()\n",
    "print(np.floor_divide(np_2,np_1))"
   ]
  },
  {
   "cell_type": "code",
   "execution_count": 7,
   "id": "55cc9f60",
   "metadata": {},
   "outputs": [
    {
     "name": "stdout",
     "output_type": "stream",
     "text": [
      "[0 1 0]\n",
      "\n",
      "[0 1 0]\n"
     ]
    }
   ],
   "source": [
    "# use the '%' operator or np.mod() for element wise modulo\n",
    "print(np_2%np_1)\n",
    "print()\n",
    "print(np.mod(np_2,np_1))"
   ]
  },
  {
   "cell_type": "code",
   "execution_count": 8,
   "id": "4626cff4",
   "metadata": {},
   "outputs": [
    {
     "name": "stdout",
     "output_type": "stream",
     "text": [
      "[  4  25 216]\n",
      "\n",
      "[  4  25 216]\n"
     ]
    }
   ],
   "source": [
    "# use the '**' operator or np.power() for element wise exponentiation\n",
    "print(np_2**np_1)\n",
    "print()\n",
    "print(np.power(np_2,np_1))"
   ]
  },
  {
   "cell_type": "code",
   "execution_count": 9,
   "id": "54b3ea30",
   "metadata": {},
   "outputs": [
    {
     "data": {
      "text/plain": [
       "array([ 5, 10, 15])"
      ]
     },
     "execution_count": 9,
     "metadata": {},
     "output_type": "execute_result"
    }
   ],
   "source": [
    "# Scaler multiplication\n",
    "np_1 = np.array([1,2,3])*5\n",
    "np_1"
   ]
  },
  {
   "cell_type": "code",
   "execution_count": 10,
   "id": "d8d93f54",
   "metadata": {},
   "outputs": [
    {
     "data": {
      "text/plain": [
       "array([6, 7, 8])"
      ]
     },
     "execution_count": 10,
     "metadata": {},
     "output_type": "execute_result"
    }
   ],
   "source": [
    "# Scaler addition\n",
    "np_1 = np.array([1,2,3])+5\n",
    "np_1"
   ]
  },
  {
   "cell_type": "code",
   "execution_count": 2,
   "id": "cc02fa78",
   "metadata": {
    "deletable": false,
    "editable": false
   },
   "outputs": [],
   "source": [
    "# To find Scaler division in below cell using numpy array\n"
   ]
  },
  {
   "cell_type": "code",
   "execution_count": null,
   "id": "b6b8c966",
   "metadata": {
    "cellId": "w10",
    "deletable": false
   },
   "outputs": [],
   "source": [
    "#answer here"
   ]
  },
  {
   "cell_type": "code",
   "execution_count": 12,
   "id": "d0301ee6",
   "metadata": {},
   "outputs": [
    {
     "data": {
      "text/plain": [
       "array([ 5, 15, 25])"
      ]
     },
     "execution_count": 12,
     "metadata": {},
     "output_type": "execute_result"
    }
   ],
   "source": [
    "# # Scaler subtraction\n",
    "np_1 = np.array([10,20,30])-5\n",
    "np_1"
   ]
  },
  {
   "cell_type": "code",
   "execution_count": 13,
   "id": "a1a3dc88",
   "metadata": {},
   "outputs": [
    {
     "name": "stdout",
     "output_type": "stream",
     "text": [
      "[1 4 1 4]\n"
     ]
    }
   ],
   "source": [
    "# squaring the terms\n",
    "print(np.power(np.array([1,2,-1,-2]),2))"
   ]
  },
  {
   "cell_type": "code",
   "execution_count": 14,
   "id": "a7ab6855",
   "metadata": {},
   "outputs": [
    {
     "name": "stdout",
     "output_type": "stream",
     "text": [
      "1.0\n"
     ]
    }
   ],
   "source": [
    "# np.sin(1.57079633)\n",
    "print(np.cos(0))"
   ]
  },
  {
   "cell_type": "code",
   "execution_count": 15,
   "id": "df089405",
   "metadata": {},
   "outputs": [
    {
     "name": "stdout",
     "output_type": "stream",
     "text": [
      "2.302585092994046\n"
     ]
    }
   ],
   "source": [
    "# np.log()\n",
    "print(np.log(10))"
   ]
  },
  {
   "cell_type": "code",
   "execution_count": 16,
   "id": "6e157ac1",
   "metadata": {},
   "outputs": [
    {
     "name": "stdout",
     "output_type": "stream",
     "text": [
      "[1 2 1 2]\n"
     ]
    }
   ],
   "source": [
    "# getting the absolute value of the elements\n",
    "print(np.absolute(np.array([1,2,-1,-2])))"
   ]
  },
  {
   "cell_type": "markdown",
   "id": "4b1d1208",
   "metadata": {},
   "source": [
    "# Case Study: Cricket Tournament\n",
    "A panel wants to select players for an upcoming league match based on their fitness. Players from all significant cricket clubs have participated in a practice match, and their data is collected. Let us now explore NumPy features using the player's data.\n",
    "\n",
    "Height of the payers is stored as a regular Python list: height_in. The height is expressed in inches.\n",
    "Weight of the payers is stored as a regular Python list: weight_lb. The weight is expressed in pounds.\n",
    "Multiplication with a factor\n",
    "\n",
    "Now, let's convert the height and weight of the players into more generic units.\n",
    "\n",
    "Height in metres\n",
    "Weight in kilograms"
   ]
  },
  {
   "cell_type": "code",
   "execution_count": 17,
   "id": "927390f7",
   "metadata": {},
   "outputs": [],
   "source": [
    "heights_in = [74, 74, 72, 72, 73, 69, 69, 71, 76, 71, 73, 73, 74, 74, 69, 70, 73, 75, 78, 79, 76, 74, 76, 72, 71, 75, 77, 74, 73, 74, 78, 73, 75, 73, 75, 75, 74, 69, 71, 74, 73, 73, 76, 74, 74, 70, 72, 77, 74, 70, 73, 75, 76, 76, 78, 74, 74, 76, 77, 81, 78, 75, 77, 75, 76, 74, 72, 72, 75, 73, 73, 73, 70, 70, 70, 76, 68, 71, 72, 75, 75, 75, 75, 68, 74, 78, 71, 73, 76, 74, 74, 79, 75, 73, 76, 74, 74, 73, 72, 74, 73, 74, 72, 73, 69, 72, 73, 75, 75, 73, 72, 72, 76, 74, 72, 77, 74, 77, 75, 76, 80, 74, 74, 75, 78, 73, 73, 74, 75, 76, 71, 73, 74, 76, 76, 74, 73, 74, 70, 72, 73, 73, 73, 73, 71, 74, 74, 72, 74, 71, 74, 73, 75, 75, 79, 73, 75, 76, 74, 76, 78, 74, 76, 72, 74, 76, 74, 75, 78, 75, 72, 74, 72, 74, 70, 71, 70, 75, 71, 71, 73, 72, 71, 73, 72, 75, 74, 74, 75, 73, 77, 73, 76, 75, 74, 76, 75, 73, 71, 76, 75, 72, 71, 77, 73, 74, 71, 72, 74, 75, 73, 72, 75, 75, 74, 72, 74, 71, 70, 74, 77, 77, 75, 75, 78, 75, 76, 73, 75, 75, 79, 77, 76, 71, 75, 74, 69, 71, 76, 72, 72, 70, 72, 73, 71, 72, 71, 73, 72, 73, 74, 74, 72, 75, 74, 74, 77, 75, 73, 72, 71, 74, 77, 75, 75, 75, 78, 78, 74, 76, 78, 76, 70, 72, 80, 74, 74, 71, 70, 72, 71, 74, 71, 72, 71, 74, 69, 76, 75, 75, 76, 73, 76, 73, 77, 73, 72, 72, 77, 77, 71, 74, 74, 73, 78, 75, 73, 70, 74, 72, 73, 73, 75, 75, 74, 76, 73, 74, 75, 75, 72, 73, 73, 72, 74, 78, 76, 73, 74, 75, 70, 75, 71, 72, 78, 75, 73, 73, 71, 75, 77, 72, 69, 73, 74, 72, 70, 75, 70, 72, 72, 74, 73, 74, 76, 75, 80, 72, 75, 73, 74, 74, 73, 75, 75, 71, 73, 75, 74, 74, 72, 74, 74, 74, 73, 76, 75, 72, 73, 73, 73, 72, 72, 72, 72, 71, 75, 75, 74, 73, 75, 79, 74, 76, 73, 74, 74, 72, 74, 74, 75, 78, 74, 74, 74, 77, 70, 73, 74, 73, 71, 75, 71, 72, 77, 74, 70, 77, 73, 72, 76, 71, 76, 78, 75, 73, 78, 74, 79, 75, 76, 72, 75, 75, 70, 72, 70, 74, 71, 76, 73, 76, 71, 69, 72, 72, 69, 73, 69, 73, 74, 74, 72, 71, 72, 72, 76, 76, 76, 74, 76, 75, 71, 72, 71, 73, 75, 76, 75, 71, 75, 74, 72, 73, 73, 73, 73, 76, 72, 76, 73, 73, 73, 75, 75, 77, 73, 72, 75, 70, 74, 72, 80, 71, 71, 74, 74, 73, 75, 76, 73, 77, 72, 73, 77, 76, 71, 75, 73, 74, 77, 71, 72, 73, 69, 73, 70, 74, 76, 73, 73, 75, 73, 79, 74, 73, 74, 77, 75, 74, 73, 77, 73, 77, 74, 74, 73, 77, 74, 77, 75, 77, 75, 71, 74, 70, 79, 72, 72, 70, 74, 74, 72, 73, 72, 74, 74, 76, 82, 74, 74, 70, 73, 73, 74, 77, 72, 76, 73, 73, 72, 74, 74, 71, 72, 75, 74, 74, 77, 70, 71, 73, 76, 71, 75, 74, 72, 76, 79, 76, 73, 76, 78, 75, 76, 72, 72, 73, 73, 75, 71, 76, 70, 75, 74, 75, 73, 71, 71, 72, 73, 73, 72, 69, 73, 78, 71, 73, 75, 76, 70, 74, 77, 75, 79, 72, 77, 73, 75, 75, 75, 73, 73, 76, 77, 75, 70, 71, 71, 75, 74, 69, 70, 75, 72, 75, 73, 72, 72, 72, 76, 75, 74, 69, 73, 72, 72, 75, 77, 76, 80, 77, 76, 79, 71, 75, 73, 76, 77, 73, 76, 70, 75, 73, 75, 70, 69, 71, 72, 72, 73, 70, 70, 73, 76, 75, 72, 73, 79, 71, 72, 74, 74, 74, 72, 76, 76, 72, 72, 71, 72, 72, 70, 77, 74, 72, 76, 71, 76, 71, 73, 70, 73, 73, 72, 71, 71, 71, 72, 72, 74, 74, 74, 71, 72, 75, 72, 71, 72, 72, 72, 72, 74, 74, 77, 75, 73, 75, 73, 76, 72, 77, 75, 72, 71, 71, 75, 72, 73, 73, 71, 70, 75, 71, 76, 73, 68, 71, 72, 74, 77, 72, 76, 78, 81, 72, 73, 76, 72, 72, 74, 76, 73, 76, 75, 70, 71, 74, 72, 73, 76, 76, 73, 71, 68, 71, 71, 74, 77, 69, 72, 76, 75, 76, 75, 76, 72, 74, 76, 74, 72, 75, 78, 77, 70, 72, 79, 74, 71, 68, 77, 75, 71, 72, 70, 72, 72, 73, 72, 74, 72, 72, 75, 72, 73, 74, 72, 78, 75, 72, 74, 75, 75, 76, 74, 74, 73, 74, 71, 74, 75, 76, 74, 76, 76, 73, 75, 75, 74, 68, 72, 75, 71, 70, 72, 73, 72, 75, 74, 70, 76, 71, 82, 72, 73, 74, 71, 75, 77, 72, 74, 72, 73, 78, 77, 73, 73, 73, 73, 73, 76, 75, 70, 73, 72, 73, 75, 74, 73, 73, 76, 73, 75, 70, 77, 72, 77, 74, 75, 75, 75, 75, 72, 74, 71, 76, 71, 75, 76, 83, 75, 74, 76, 72, 72, 75, 75, 72, 77, 73, 72, 70, 74, 72, 74, 72, 71, 70, 71, 76, 74, 76, 74, 74, 74, 75, 75, 71, 71, 74, 77, 71, 74, 75, 77, 76, 74, 76, 72, 71, 72, 75, 73, 68, 72, 69, 73, 73, 75, 70, 70, 74, 75, 74, 74, 73, 74, 75, 77, 73, 74, 76, 74, 75, 73, 76, 78, 75, 73, 77, 74, 72, 74, 72, 71, 73, 75, 73, 67, 67, 76, 74, 73, 70, 75, 70, 72, 77, 79, 78, 74, 75, 75, 78, 76, 75, 69, 75, 72, 75, 73, 74, 75, 75, 73]\n",
    "weights_lb = [180, 215, 210, 210, 188, 176, 209, 200, 231, 180, 188, 180, 185, 160, 180, 185, 189, 185, 219, 230, 205, 230, 195, 180, 192, 225, 203, 195, 182, 188, 200, 180, 200, 200, 245, 240, 215, 185, 175, 199, 200, 215, 200, 205, 206, 186, 188, 220, 210, 195, 200, 200, 212, 224, 210, 205, 220, 195, 200, 260, 228, 270, 200, 210, 190, 220, 180, 205, 210, 220, 211, 200, 180, 190, 170, 230, 155, 185, 185, 200, 225, 225, 220, 160, 205, 235, 250, 210, 190, 160, 200, 205, 222, 195, 205, 220, 220, 170, 185, 195, 220, 230, 180, 220, 180, 180, 170, 210, 215, 200, 213, 180, 192, 235, 185, 235, 210, 222, 210, 230, 220, 180, 190, 200, 210, 194, 180, 190, 240, 200, 198, 200, 195, 210, 220, 190, 210, 225, 180, 185, 170, 185, 185, 180, 178, 175, 200, 204, 211, 190, 210, 190, 190, 185, 290, 175, 185, 200, 220, 170, 220, 190, 220, 205, 200, 250, 225, 215, 210, 215, 195, 200, 194, 220, 180, 180, 170, 195, 180, 170, 206, 205, 200, 225, 201, 225, 233, 180, 225, 180, 220, 180, 237, 215, 190, 235, 190, 180, 165, 195, 200, 190, 190, 185, 185, 205, 190, 205, 206, 220, 208, 170, 195, 210, 190, 211, 230, 170, 185, 185, 241, 225, 210, 175, 230, 200, 215, 198, 226, 278, 215, 230, 240, 184, 219, 170, 218, 190, 225, 220, 176, 190, 197, 204, 167, 180, 195, 220, 215, 185, 190, 205, 205, 200, 210, 215, 200, 205, 211, 190, 208, 200, 210, 232, 230, 210, 220, 210, 202, 212, 225, 170, 190, 200, 237, 220, 170, 193, 190, 150, 220, 200, 190, 185, 185, 200, 172, 220, 225, 190, 195, 219, 190, 197, 200, 195, 210, 177, 220, 235, 180, 195, 195, 190, 230, 190, 200, 190, 190, 200, 200, 184, 200, 180, 219, 187, 200, 220, 205, 190, 170, 160, 215, 175, 205, 200, 214, 200, 190, 180, 205, 220, 190, 215, 235, 191, 200, 181, 200, 210, 240, 185, 165, 190, 185, 175, 155, 210, 170, 175, 220, 210, 205, 200, 205, 195, 240, 150, 200, 215, 202, 200, 190, 205, 190, 160, 215, 185, 200, 190, 210, 185, 220, 190, 202, 205, 220, 175, 160, 190, 200, 229, 206, 220, 180, 195, 175, 188, 230, 190, 200, 190, 219, 235, 180, 180, 180, 200, 234, 185, 220, 223, 200, 210, 200, 210, 190, 177, 227, 180, 195, 199, 175, 185, 240, 210, 180, 194, 225, 180, 205, 193, 230, 230, 220, 200, 249, 190, 208, 245, 250, 160, 192, 220, 170, 197, 155, 190, 200, 220, 210, 228, 190, 160, 184, 180, 180, 200, 176, 160, 222, 211, 195, 200, 175, 206, 240, 185, 260, 185, 221, 205, 200, 170, 201, 205, 185, 205, 245, 220, 210, 220, 185, 175, 170, 180, 200, 210, 175, 220, 206, 180, 210, 195, 200, 200, 164, 180, 220, 195, 205, 170, 240, 210, 195, 200, 205, 192, 190, 170, 240, 200, 205, 175, 250, 220, 224, 210, 195, 180, 245, 175, 180, 215, 175, 180, 195, 230, 230, 205, 215, 195, 180, 205, 180, 190, 180, 190, 190, 220, 210, 255, 190, 230, 200, 205, 210, 225, 215, 220, 205, 200, 220, 197, 225, 187, 245, 185, 185, 175, 200, 180, 188, 225, 200, 210, 245, 213, 231, 165, 228, 210, 250, 191, 190, 200, 215, 254, 232, 180, 215, 220, 180, 200, 170, 195, 210, 200, 220, 165, 180, 200, 200, 170, 224, 220, 180, 198, 240, 239, 185, 210, 220, 200, 195, 220, 230, 170, 220, 230, 165, 205, 192, 210, 205, 200, 210, 185, 195, 202, 205, 195, 180, 200, 185, 240, 185, 220, 205, 205, 180, 201, 190, 208, 240, 180, 230, 195, 215, 190, 195, 215, 215, 220, 220, 230, 195, 190, 195, 209, 204, 170, 185, 205, 175, 210, 190, 180, 180, 160, 235, 200, 210, 180, 190, 197, 203, 205, 170, 200, 250, 200, 220, 200, 190, 170, 190, 220, 215, 206, 215, 185, 235, 188, 230, 195, 168, 190, 160, 200, 200, 189, 180, 190, 200, 220, 187, 240, 190, 180, 185, 210, 220, 219, 190, 193, 175, 180, 215, 210, 200, 190, 185, 220, 170, 195, 205, 195, 210, 190, 190, 180, 220, 190, 186, 185, 190, 180, 190, 170, 210, 240, 220, 180, 210, 210, 195, 160, 180, 205, 200, 185, 245, 190, 210, 200, 200, 222, 215, 240, 170, 220, 156, 190, 202, 221, 200, 190, 210, 190, 200, 165, 190, 185, 230, 208, 209, 175, 180, 200, 205, 200, 250, 210, 230, 244, 202, 240, 200, 215, 177, 210, 170, 215, 217, 198, 200, 220, 170, 200, 230, 231, 183, 192, 167, 190, 180, 180, 215, 160, 205, 223, 175, 170, 190, 240, 175, 230, 223, 196, 167, 195, 190, 250, 190, 190, 190, 170, 160, 150, 225, 220, 209, 210, 176, 260, 195, 190, 184, 180, 195, 195, 219, 225, 212, 202, 185, 200, 209, 200, 195, 228, 210, 190, 212, 190, 218, 220, 190, 235, 210, 200, 188, 210, 235, 188, 215, 216, 220, 180, 185, 200, 210, 220, 185, 231, 210, 195, 200, 205, 200, 190, 250, 185, 180, 170, 180, 208, 235, 215, 244, 220, 185, 230, 190, 200, 180, 190, 196, 180, 230, 224, 160, 178, 205, 185, 210, 180, 190, 200, 257, 190, 220, 165, 205, 200, 208, 185, 215, 170, 235, 210, 170, 180, 170, 190, 150, 230, 203, 260, 246, 186, 210, 198, 210, 215, 180, 200, 245, 200, 192, 192, 200, 192, 205, 190, 186, 170, 197, 219, 200, 220, 207, 225, 207, 212, 225, 170, 190, 210, 230, 210, 200, 238, 234, 222, 200, 190, 170, 220, 223, 210, 215, 196, 175, 175, 189, 205, 210, 180, 180, 197, 220, 228, 190, 204, 165, 216, 220, 208, 210, 215, 195, 200, 215, 229, 240, 207, 205, 208, 185, 190, 170, 208, 225, 190, 225, 185, 180, 165, 240, 220, 212, 163, 215, 175, 205, 210, 205, 208, 215, 180, 200, 230, 211, 230, 190, 220, 180, 205, 190, 180, 205, 190, 195]"
   ]
  },
  {
   "cell_type": "code",
   "execution_count": 18,
   "id": "54cebf20",
   "metadata": {},
   "outputs": [
    {
     "data": {
      "text/plain": [
       "(1015, 1015)"
      ]
     },
     "execution_count": 18,
     "metadata": {},
     "output_type": "execute_result"
    }
   ],
   "source": [
    "len(heights_in),len(weights_lb)"
   ]
  },
  {
   "cell_type": "code",
   "execution_count": 19,
   "id": "e8ea5960",
   "metadata": {},
   "outputs": [],
   "source": [
    "# Importing the numpy library \n",
    "\n",
    "import numpy as np"
   ]
  },
  {
   "cell_type": "code",
   "execution_count": 20,
   "id": "5d5d871f",
   "metadata": {},
   "outputs": [],
   "source": [
    "# Convert the lists into NumPy arrays\n",
    "heights_in=np.array(heights_in)\n",
    "weights_lb=np.array(weights_lb)"
   ]
  },
  {
   "cell_type": "code",
   "execution_count": 21,
   "id": "c4d967c7",
   "metadata": {},
   "outputs": [
    {
     "data": {
      "text/plain": [
       "numpy.ndarray"
      ]
     },
     "execution_count": 21,
     "metadata": {},
     "output_type": "execute_result"
    }
   ],
   "source": [
    "# Print the type of the created arrays\n",
    "type(weights_lb)"
   ]
  },
  {
   "cell_type": "code",
   "execution_count": 22,
   "id": "33be7114",
   "metadata": {},
   "outputs": [
    {
     "data": {
      "text/plain": [
       "1015"
      ]
     },
     "execution_count": 22,
     "metadata": {},
     "output_type": "execute_result"
    }
   ],
   "source": [
    "# Print the length of the created arrays\n",
    "\n",
    "weights_lb.size"
   ]
  },
  {
   "cell_type": "code",
   "execution_count": 23,
   "id": "9ac797b3",
   "metadata": {},
   "outputs": [],
   "source": [
    "# Convert the units of height and weight using appropriate factors (look in the video for the factors)\n",
    "\n",
    "heights_m = heights_in * 0.0254           # 1 inch = 0.025 meters        1 inch = 2.54 cm\n",
    "weights_kg = weights_lb * 0.45            # 1 lb = 0.45 Kgs"
   ]
  },
  {
   "cell_type": "code",
   "execution_count": 24,
   "id": "f8b25fed",
   "metadata": {},
   "outputs": [
    {
     "name": "stdout",
     "output_type": "stream",
     "text": [
      "[1.8796 1.8796 1.8288 ... 1.905  1.905  1.8542]\n",
      "[81.   96.75 94.5  ... 92.25 85.5  87.75]\n"
     ]
    }
   ],
   "source": [
    "# Print the newly created arrays\n",
    "\n",
    "print(heights_m)\n",
    "print(weights_kg)"
   ]
  },
  {
   "cell_type": "markdown",
   "id": "ae7318f5",
   "metadata": {},
   "source": [
    "Deriving new data from existing\n",
    "\n",
    "Now, let us try to calculate the Body Mass Index (BMI) value for the players. The formula for BMI is:\n",
    "\n",
    "BMI=Weight of the individual(Height of the individual)2"
   ]
  },
  {
   "cell_type": "code",
   "execution_count": 25,
   "id": "229abbdf",
   "metadata": {},
   "outputs": [],
   "source": [
    "# Calculate the bmi value based on the formula above\n",
    "\n",
    "bmi = weights_kg/(heights_m**2)"
   ]
  },
  {
   "cell_type": "code",
   "execution_count": 26,
   "id": "44cd2431",
   "metadata": {},
   "outputs": [
    {
     "data": {
      "text/plain": [
       "array([22.92736507, 27.38546383, 28.25526484, ..., 25.42005084,\n",
       "       23.56004712, 25.5231323 ])"
      ]
     },
     "execution_count": 26,
     "metadata": {},
     "output_type": "execute_result"
    }
   ],
   "source": [
    "# Check the newly created array 'bmi'\n",
    "\n",
    "bmi"
   ]
  },
  {
   "cell_type": "markdown",
   "id": "6b1d9544",
   "metadata": {},
   "source": [
    "# Indexing through arrays\n",
    "\n",
    "For one-dimensional arrays, indexing is similar to Python lists - indexing starts at 0."
   ]
  },
  {
   "cell_type": "code",
   "execution_count": 27,
   "id": "e602924f",
   "metadata": {},
   "outputs": [
    {
     "data": {
      "text/plain": [
       "24.606917294149852"
      ]
     },
     "execution_count": 27,
     "metadata": {},
     "output_type": "execute_result"
    }
   ],
   "source": [
    "# Obtain the 5th element from the array 'bmi'\n",
    "\n",
    "bmi[4]"
   ]
  },
  {
   "cell_type": "code",
   "execution_count": 28,
   "id": "0a8632ef",
   "metadata": {},
   "outputs": [
    {
     "data": {
      "text/plain": [
       "23.56004712009424"
      ]
     },
     "execution_count": 28,
     "metadata": {},
     "output_type": "execute_result"
    }
   ],
   "source": [
    "# Obtain the 2nd last element from the array 'bmi'\n",
    "\n",
    "bmi[-2]"
   ]
  },
  {
   "cell_type": "code",
   "execution_count": 29,
   "id": "7592f19d",
   "metadata": {},
   "outputs": [
    {
     "data": {
      "text/plain": [
       "array([22.92736507, 27.38546383, 28.25526484, 28.25526484, 24.60691729])"
      ]
     },
     "execution_count": 29,
     "metadata": {},
     "output_type": "execute_result"
    }
   ],
   "source": [
    "# Obtain the first five elements from the array 'bmi'\n",
    "\n",
    "bmi[:5]"
   ]
  },
  {
   "cell_type": "code",
   "execution_count": 30,
   "id": "a372289c",
   "metadata": {},
   "outputs": [
    {
     "data": {
      "text/plain": [
       "array([25.42005084, 23.56004712, 25.5231323 ])"
      ]
     },
     "execution_count": 30,
     "metadata": {},
     "output_type": "execute_result"
    }
   ],
   "source": [
    "# Obtain the last three elements from the array 'bmi'\n",
    "bmi[-3:]"
   ]
  },
  {
   "cell_type": "code",
   "execution_count": 31,
   "id": "665ec635",
   "metadata": {},
   "outputs": [
    {
     "data": {
      "text/plain": [
       "array([False, False, False, ..., False, False, False])"
      ]
     },
     "execution_count": 31,
     "metadata": {},
     "output_type": "execute_result"
    }
   ],
   "source": [
    "# Check for the elements where bmi value is less than 21\n",
    "\n",
    "bmi<21"
   ]
  },
  {
   "cell_type": "code",
   "execution_count": 32,
   "id": "3c07d1cd",
   "metadata": {},
   "outputs": [
    {
     "data": {
      "text/plain": [
       "array([20.37988006, 20.37988006, 20.5289538 , 20.5289538 , 20.18233203,\n",
       "       20.94205727, 20.18233203, 20.94205727, 20.94205727, 20.5289538 ,\n",
       "       19.99919669, 19.34403869, 20.5289538 , 20.75485206])"
      ]
     },
     "execution_count": 32,
     "metadata": {},
     "output_type": "execute_result"
    }
   ],
   "source": [
    "# Filter the elements where bmi value is less than 21\n",
    "bmi[bmi<21]"
   ]
  },
  {
   "cell_type": "code",
   "execution_count": 33,
   "id": "5fe5208a",
   "metadata": {},
   "outputs": [
    {
     "data": {
      "text/plain": [
       "14"
      ]
     },
     "execution_count": 33,
     "metadata": {},
     "output_type": "execute_result"
    }
   ],
   "source": [
    "# Count the number of elements where bmi value is less than 21\n",
    "\n",
    "bmi[bmi<21].size"
   ]
  },
  {
   "cell_type": "markdown",
   "id": "fa990318",
   "metadata": {},
   "source": [
    "# Statistical Analysis\n",
    "Statistical analysis includes finding minimum (.min()), maximum (max()), mean(.mean()), median(.median()), mode, correlation, covariance(.cov()), standard deviation (.std()) and variance (.var()) of the numpy array."
   ]
  },
  {
   "cell_type": "code",
   "execution_count": 34,
   "id": "60e16a97",
   "metadata": {},
   "outputs": [
    {
     "data": {
      "text/plain": [
       "20.942057271616893"
      ]
     },
     "execution_count": 34,
     "metadata": {},
     "output_type": "execute_result"
    }
   ],
   "source": [
    "bmi[bmi<21].max()"
   ]
  },
  {
   "cell_type": "code",
   "execution_count": 35,
   "id": "51501ff9",
   "metadata": {},
   "outputs": [
    {
     "data": {
      "text/plain": [
       "34.9827088543066"
      ]
     },
     "execution_count": 35,
     "metadata": {},
     "output_type": "execute_result"
    }
   ],
   "source": [
    "# Find the maximum bmi values among the players\n",
    "\n",
    "bmi.max()"
   ]
  },
  {
   "cell_type": "code",
   "execution_count": 36,
   "id": "34cbfeae",
   "metadata": {},
   "outputs": [
    {
     "data": {
      "text/plain": [
       "19.344038688077376"
      ]
     },
     "execution_count": 36,
     "metadata": {},
     "output_type": "execute_result"
    }
   ],
   "source": [
    "# Find the minimum bmi values among the players\n",
    "\n",
    "bmi.min()"
   ]
  },
  {
   "cell_type": "code",
   "execution_count": 37,
   "id": "b051de24",
   "metadata": {},
   "outputs": [
    {
     "data": {
      "text/plain": [
       "25.85050120927726"
      ]
     },
     "execution_count": 37,
     "metadata": {},
     "output_type": "execute_result"
    }
   ],
   "source": [
    "# Find the average bmi among the players\n",
    "\n",
    "bmi.mean()"
   ]
  },
  {
   "cell_type": "code",
   "execution_count": 38,
   "id": "b0ac365b",
   "metadata": {},
   "outputs": [
    {
     "data": {
      "text/plain": [
       "25.84233007801196"
      ]
     },
     "execution_count": 38,
     "metadata": {},
     "output_type": "execute_result"
    }
   ],
   "source": [
    "np.median(bmi)"
   ]
  },
  {
   "cell_type": "code",
   "execution_count": 39,
   "id": "63a662f1",
   "metadata": {},
   "outputs": [],
   "source": [
    "# to find mode in numpy array\n",
    "# Note: This step works fine in Jupyter Notebbok\n",
    "import statistics as st"
   ]
  },
  {
   "cell_type": "code",
   "execution_count": 40,
   "id": "43cfbfd7",
   "metadata": {},
   "outputs": [
    {
     "data": {
      "text/plain": [
       "2.26658142199571"
      ]
     },
     "execution_count": 40,
     "metadata": {},
     "output_type": "execute_result"
    }
   ],
   "source": [
    "#Find the standard deviation of the bmi\n",
    "bmi.std()"
   ]
  },
  {
   "cell_type": "code",
   "execution_count": 41,
   "id": "cabd31ea",
   "metadata": {},
   "outputs": [
    {
     "data": {
      "text/plain": [
       "5.137391342536095"
      ]
     },
     "execution_count": 41,
     "metadata": {},
     "output_type": "execute_result"
    }
   ],
   "source": [
    "#Find the variance of the bmi\n",
    "np.var(bmi)"
   ]
  },
  {
   "cell_type": "code",
   "execution_count": 42,
   "id": "dbaf1f25",
   "metadata": {},
   "outputs": [
    {
     "data": {
      "text/plain": [
       "array(5.1424578)"
      ]
     },
     "execution_count": 42,
     "metadata": {},
     "output_type": "execute_result"
    }
   ],
   "source": [
    "#Find the covariance of the bmi\n",
    "np.cov(bmi)"
   ]
  },
  {
   "cell_type": "code",
   "execution_count": 43,
   "id": "2a7dcaa6",
   "metadata": {},
   "outputs": [
    {
     "data": {
      "text/plain": [
       "1.0"
      ]
     },
     "execution_count": 43,
     "metadata": {},
     "output_type": "execute_result"
    }
   ],
   "source": [
    "#Find the correlation of the bmi\n",
    "np.corrcoef(bmi)"
   ]
  },
  {
   "cell_type": "markdown",
   "id": "6cbbd6ac",
   "metadata": {},
   "source": [
    "# Aggregation of array elements"
   ]
  },
  {
   "cell_type": "code",
   "execution_count": 44,
   "id": "e2eb46f2",
   "metadata": {},
   "outputs": [
    {
     "name": "stdout",
     "output_type": "stream",
     "text": [
      "86\n",
      "86\n"
     ]
    }
   ],
   "source": [
    "# Reducing the elements to a single value based on addition\n",
    "x=np.array([1,2,3,4,70,6])\n",
    "print(np.add.reduce(x))\n",
    "\n",
    "print(x.sum())"
   ]
  },
  {
   "cell_type": "code",
   "execution_count": 45,
   "id": "9a79326b",
   "metadata": {},
   "outputs": [
    {
     "name": "stdout",
     "output_type": "stream",
     "text": [
      "[  2   4   6   8 140  12]\n",
      "172\n"
     ]
    }
   ],
   "source": [
    "# Reducing the elements to a single value based on addition\n",
    "y=np.array([[1,2,3,4,70,6],[1,2,3,4,70,6]])\n",
    "print(np.add.reduce(y))\n",
    "\n",
    "print(y.sum())"
   ]
  },
  {
   "cell_type": "code",
   "execution_count": 46,
   "id": "575a27f1",
   "metadata": {},
   "outputs": [
    {
     "name": "stdout",
     "output_type": "stream",
     "text": [
      "[ 1  3  6 10 80 86]\n"
     ]
    }
   ],
   "source": [
    "# Cummulative addition of elements at each element\n",
    "print(np.add.accumulate(x))"
   ]
  },
  {
   "cell_type": "code",
   "execution_count": 47,
   "id": "9f6723b6",
   "metadata": {},
   "outputs": [
    {
     "name": "stdout",
     "output_type": "stream",
     "text": [
      "[[  1   2   3   4  70   6]\n",
      " [  2   4   6   8 140  12]]\n"
     ]
    }
   ],
   "source": [
    "# Cummulative addition of elements at each element\n",
    "print(np.add.accumulate(y))"
   ]
  },
  {
   "cell_type": "code",
   "execution_count": 48,
   "id": "0d727db1",
   "metadata": {},
   "outputs": [
    {
     "name": "stdout",
     "output_type": "stream",
     "text": [
      "[ 1  3  6 10 80 86]\n"
     ]
    }
   ],
   "source": [
    "print(np.cumsum(x))"
   ]
  },
  {
   "cell_type": "code",
   "execution_count": 49,
   "id": "a601d583",
   "metadata": {},
   "outputs": [
    {
     "name": "stdout",
     "output_type": "stream",
     "text": [
      "[  1   3   6  10  80  86  87  89  92  96 166 172]\n"
     ]
    }
   ],
   "source": [
    "print(np.cumsum(y))"
   ]
  },
  {
   "cell_type": "markdown",
   "id": "6758c716",
   "metadata": {},
   "source": [
    "# Practice Exercise 1"
   ]
  },
  {
   "cell_type": "markdown",
   "id": "df7ba7c9",
   "metadata": {},
   "source": [
    "You are provided with 2 lists that contain the data of an ecommerce website. The first list contains the data for the number of items sold for a particular product and the second list contains the price of the product sold. As a part of this exercise, solve the questions that are provided below."
   ]
  },
  {
   "cell_type": "code",
   "execution_count": 51,
   "id": "1777ea05",
   "metadata": {},
   "outputs": [],
   "source": [
    "number = [8, 9, 9, 1, 6, 9, 5, 7, 3, 9, 7, 3, 4, 8, 3, 5, 8, 4, 8, 7, 5, 7, 3, 6, 1, 2, 7, 4, 7, 7, 8, 4, 3, 4, 2, 2, 2, 7, 3, 5, 6, 1, 1, 3, 2, 1, 1, 7, 7, 1, 4, 4, 5, 6, 1, 2, 7, 4, 5, 8, 1, 4, 8, 6, 2, 4, 3, 7, 3, 6, 2, 3, 3, 3, 2, 4, 6, 8, 9, 3, 9, 3, 1, 8, 6, 6, 3, 3, 9, 4, 6, 4, 9, 6, 7, 1, 2, 8, 7, 8, 1, 4]\n",
    "price = [195, 225, 150, 150, 90, 60, 75, 255, 270, 225, 135, 195, 30, 15, 210, 105, 15, 30, 180, 60, 165, 60, 45, 225, 180, 90, 30, 210, 150, 15, 270, 60, 210, 180, 60, 225, 150, 150, 120, 195, 75, 240, 60, 45, 30, 180, 240, 285, 135, 165, 180, 240, 60, 105, 165, 240, 120, 45, 120, 165, 285, 225, 90, 105, 225, 45, 45, 45, 75, 180, 90, 240, 30, 30, 60, 135, 180, 15, 255, 180, 270, 135, 105, 135, 210, 180, 135, 195, 225, 75, 225, 15, 240, 60, 15, 180, 255, 90, 15, 150, 230, 150]"
   ]
  },
  {
   "cell_type": "markdown",
   "id": "0430b353",
   "metadata": {},
   "source": [
    "# How many different products are sold by the company in total?\n",
    "\n",
    "* 99\n",
    "* 100\n",
    "* 101\n",
    "* 102"
   ]
  },
  {
   "cell_type": "code",
   "execution_count": 52,
   "id": "60c0a418",
   "metadata": {},
   "outputs": [
    {
     "data": {
      "text/plain": [
       "102"
      ]
     },
     "execution_count": 52,
     "metadata": {},
     "output_type": "execute_result"
    }
   ],
   "source": [
    "# Type your code here\n",
    "import numpy as np\n",
    "number=np.array(number)\n",
    "\n",
    "number.size"
   ]
  },
  {
   "cell_type": "markdown",
   "id": "1308b4e6",
   "metadata": {},
   "source": [
    "# How many items were sold in total?\n",
    "\n",
    "* 460\n",
    "* 490\n",
    "* 500\n",
    "* 520"
   ]
  },
  {
   "cell_type": "code",
   "execution_count": 53,
   "id": "c3fb8127",
   "metadata": {},
   "outputs": [
    {
     "data": {
      "text/plain": [
       "490"
      ]
     },
     "execution_count": 53,
     "metadata": {},
     "output_type": "execute_result"
    }
   ],
   "source": [
    "# Type your code here\n",
    "number.sum()"
   ]
  },
  {
   "cell_type": "markdown",
   "id": "6f888bce",
   "metadata": {},
   "source": [
    "# What is the average price of the products sold by the ecommerce company?\n",
    "\n",
    "* 139\n",
    "* 151\n",
    "* 142\n",
    "* 128"
   ]
  },
  {
   "cell_type": "code",
   "execution_count": 54,
   "id": "c4605b40",
   "metadata": {},
   "outputs": [
    {
     "data": {
      "text/plain": [
       "139.01960784313727"
      ]
     },
     "execution_count": 54,
     "metadata": {},
     "output_type": "execute_result"
    }
   ],
   "source": [
    "# Type your code here\n",
    "\n",
    "price=np.array(price)\n",
    "\n",
    "price.mean()"
   ]
  },
  {
   "cell_type": "markdown",
   "id": "0c3c26b9",
   "metadata": {},
   "source": [
    "# What is the price of the costliest item sold?\n",
    "\n",
    "* 225\n",
    "* 310\n",
    "* 280\n",
    "* 285"
   ]
  },
  {
   "cell_type": "code",
   "execution_count": 55,
   "id": "098fa67f",
   "metadata": {},
   "outputs": [
    {
     "data": {
      "text/plain": [
       "285"
      ]
     },
     "execution_count": 55,
     "metadata": {},
     "output_type": "execute_result"
    }
   ],
   "source": [
    "# Type your code here\n",
    "price.max()"
   ]
  },
  {
   "cell_type": "markdown",
   "id": "122c845a",
   "metadata": {},
   "source": [
    "# What is the total revenue of the company? [Revenue = Price*Quantity]\n",
    "\n",
    "* 67100\n",
    "* 53900\n",
    "* 45300\n",
    "* 71200"
   ]
  },
  {
   "cell_type": "code",
   "execution_count": 56,
   "id": "fb0d5f29",
   "metadata": {},
   "outputs": [
    {
     "data": {
      "text/plain": [
       "67100"
      ]
     },
     "execution_count": 56,
     "metadata": {},
     "output_type": "execute_result"
    }
   ],
   "source": [
    "# Type your code here\n",
    "\n",
    "Revenue= (price*number).sum()\n",
    "# Revenue=Revenue.sum()\n",
    "Revenue"
   ]
  },
  {
   "cell_type": "markdown",
   "id": "903c25c1",
   "metadata": {},
   "source": [
    "# Demand for the 20th product in the list is more than the 50th product. [True/False]\n",
    "\n",
    "* True\n",
    "* False\n",
    "* Can't be calculated"
   ]
  },
  {
   "cell_type": "code",
   "execution_count": 57,
   "id": "d94e62ac",
   "metadata": {},
   "outputs": [
    {
     "data": {
      "text/plain": [
       "True"
      ]
     },
     "execution_count": 57,
     "metadata": {},
     "output_type": "execute_result"
    }
   ],
   "source": [
    "# Type your code here\n",
    "number[19]>number[49]"
   ]
  },
  {
   "cell_type": "code",
   "execution_count": 58,
   "id": "8bbb6d63",
   "metadata": {},
   "outputs": [
    {
     "data": {
      "text/plain": [
       "7"
      ]
     },
     "execution_count": 58,
     "metadata": {},
     "output_type": "execute_result"
    }
   ],
   "source": [
    "number[19]"
   ]
  },
  {
   "cell_type": "code",
   "execution_count": 59,
   "id": "9dce373f",
   "metadata": {},
   "outputs": [
    {
     "data": {
      "text/plain": [
       "1"
      ]
     },
     "execution_count": 59,
     "metadata": {},
     "output_type": "execute_result"
    }
   ],
   "source": [
    "number[49]"
   ]
  },
  {
   "cell_type": "markdown",
   "id": "72945c78",
   "metadata": {},
   "source": [
    "# How many products fall under the category of expensive goods? An expensive good is that good whose price is more than the average price of the products sold by the company.\n",
    "\n",
    "* 48\n",
    "* 50\n",
    "* 52\n",
    "* 54"
   ]
  },
  {
   "cell_type": "code",
   "execution_count": 60,
   "id": "11891430",
   "metadata": {},
   "outputs": [
    {
     "data": {
      "text/plain": [
       "52"
      ]
     },
     "execution_count": 60,
     "metadata": {},
     "output_type": "execute_result"
    }
   ],
   "source": [
    "# Type your code here\n",
    "\n",
    "price[price > price.mean()].size "
   ]
  },
  {
   "cell_type": "markdown",
   "id": "1970ec9e",
   "metadata": {},
   "source": [
    "# Linear Algebra"
   ]
  },
  {
   "cell_type": "code",
   "execution_count": 61,
   "id": "939b2335",
   "metadata": {},
   "outputs": [],
   "source": [
    "import numpy as np"
   ]
  },
  {
   "cell_type": "code",
   "execution_count": 62,
   "id": "5cb62be1",
   "metadata": {},
   "outputs": [
    {
     "data": {
      "text/plain": [
       "array([1., 3., 2.])"
      ]
     },
     "execution_count": 62,
     "metadata": {},
     "output_type": "execute_result"
    }
   ],
   "source": [
    "# to get the solution of the equation use np.linalg.solve()\n",
    "\n",
    "a = np.array([ [7,5,-3],[3,-5,2],[5,3,-7] ])\n",
    "b = np.array([16,-8,0])\n",
    "\n",
    "np.linalg.solve(a,b)"
   ]
  },
  {
   "cell_type": "code",
   "execution_count": 63,
   "id": "be718048",
   "metadata": {},
   "outputs": [
    {
     "name": "stdout",
     "output_type": "stream",
     "text": [
      "[[ 7  5 -3]\n",
      " [ 3 -5  2]\n",
      " [ 5  3 -7]]\n"
     ]
    },
    {
     "data": {
      "text/plain": [
       "array([[ 0.11328125,  0.1015625 , -0.01953125],\n",
       "       [ 0.12109375, -0.1328125 , -0.08984375],\n",
       "       [ 0.1328125 ,  0.015625  , -0.1953125 ]])"
      ]
     },
     "execution_count": 63,
     "metadata": {},
     "output_type": "execute_result"
    }
   ],
   "source": [
    "# to get the inverse of the matrix use np.linalg.inv()\n",
    "a = np.array([ [7,5,-3],[3,-5,2],[5,3,-7] ])\n",
    "print(a)\n",
    "\n",
    "np.linalg.inv(a)"
   ]
  },
  {
   "cell_type": "code",
   "execution_count": 64,
   "id": "3e7b1c86",
   "metadata": {},
   "outputs": [
    {
     "data": {
      "text/plain": [
       "array([[ 0.11,  0.1 , -0.02],\n",
       "       [ 0.12, -0.13, -0.09],\n",
       "       [ 0.13,  0.02, -0.2 ]])"
      ]
     },
     "execution_count": 64,
     "metadata": {},
     "output_type": "execute_result"
    }
   ],
   "source": [
    "np.round(np.linalg.inv(a),2)"
   ]
  },
  {
   "cell_type": "code",
   "execution_count": 65,
   "id": "c3e0f20b",
   "metadata": {},
   "outputs": [
    {
     "name": "stdout",
     "output_type": "stream",
     "text": [
      "[[ 7  5 -3]\n",
      " [ 3 -5  2]\n",
      " [ 5  3 -7]]\n"
     ]
    },
    {
     "data": {
      "text/plain": [
       "255.99999999999994"
      ]
     },
     "execution_count": 65,
     "metadata": {},
     "output_type": "execute_result"
    }
   ],
   "source": [
    "# to get the determinant of the matrix use np.linalg.det()\n",
    "a = np.array([ [7,5,-3],[3,-5,2],[5,3,-7] ])\n",
    "print(a)\n",
    "\n",
    "np.linalg.det(a)"
   ]
  },
  {
   "cell_type": "code",
   "execution_count": 66,
   "id": "be81c9b1",
   "metadata": {},
   "outputs": [],
   "source": [
    "A = np.array([[1, 1],\n",
    "              [0, 1]])\n",
    "\n",
    "B = np.array([[2, 0],\n",
    "              [3, 4]])"
   ]
  },
  {
   "cell_type": "code",
   "execution_count": 67,
   "id": "690b2c68",
   "metadata": {},
   "outputs": [
    {
     "data": {
      "text/plain": [
       "array([[2, 0],\n",
       "       [0, 4]])"
      ]
     },
     "execution_count": 67,
     "metadata": {},
     "output_type": "execute_result"
    }
   ],
   "source": [
    "A * B     # elementwise product"
   ]
  },
  {
   "cell_type": "code",
   "execution_count": 68,
   "id": "0ded4b8d",
   "metadata": {},
   "outputs": [
    {
     "data": {
      "text/plain": [
       "array([[5, 4],\n",
       "       [3, 4]])"
      ]
     },
     "execution_count": 68,
     "metadata": {},
     "output_type": "execute_result"
    }
   ],
   "source": [
    "A @ B     # matrix product or dot product"
   ]
  },
  {
   "cell_type": "code",
   "execution_count": 69,
   "id": "4014c394",
   "metadata": {},
   "outputs": [
    {
     "data": {
      "text/plain": [
       "array([[5, 4],\n",
       "       [3, 4]])"
      ]
     },
     "execution_count": 69,
     "metadata": {},
     "output_type": "execute_result"
    }
   ],
   "source": [
    "A.dot(B)  # another matrix product"
   ]
  },
  {
   "cell_type": "code",
   "execution_count": 70,
   "id": "5f90b84d",
   "metadata": {},
   "outputs": [
    {
     "name": "stdout",
     "output_type": "stream",
     "text": [
      "14\n"
     ]
    }
   ],
   "source": [
    "p = [4, 2]\n",
    "q = [5, 6]\n",
    "product = np.cross(p,q)       # cross product\n",
    "print(product)"
   ]
  },
  {
   "cell_type": "markdown",
   "id": "588767aa",
   "metadata": {},
   "source": [
    "# Creating Special NumPy Arrays\n",
    "There are multiple ways to create numpy arrays, the most commmon ones being:\n",
    "\n",
    "Convert lists or tuples to arrays using np.array()\n",
    "Initialise arrays of fixed size (when the size is known)"
   ]
  },
  {
   "cell_type": "markdown",
   "id": "40961372",
   "metadata": {},
   "source": [
    "The following ways are commonly used:\n",
    "\n",
    "* np.arange(): Create array with increments of a fixed step size\n",
    "* np.ones(): Create array of 1s\n",
    "* np.zeros(): Create array of 0s\n",
    "* np.linspace(): Create array of fixed length\n",
    "* np.full(): Create a constant array of any number ‘n’\n",
    "* np.tile(): Create a new array by repeating an existing array for a particular number of times\n",
    "* np.eye(): Create an identity matrix of any dimension\n",
    "* np.random.random(): Create array of random numbers between 0 and 1\n",
    "* np.random.randint(): Create a random array of integers within a particular range"
   ]
  },
  {
   "cell_type": "code",
   "execution_count": 72,
   "id": "d6a8f75b",
   "metadata": {},
   "outputs": [],
   "source": [
    "# importing the NumPy library\n",
    "\n",
    "import numpy as np"
   ]
  },
  {
   "cell_type": "code",
   "execution_count": 73,
   "id": "5e969add",
   "metadata": {},
   "outputs": [
    {
     "data": {
      "text/plain": [
       "array([0, 1, 2, 3])"
      ]
     },
     "execution_count": 73,
     "metadata": {},
     "output_type": "execute_result"
    }
   ],
   "source": [
    "# creating an array with 4 elements and increments of a fixed step size\n",
    "# default step size is one\n",
    "np_1 = np.arange(4)\n",
    "np_1"
   ]
  },
  {
   "cell_type": "code",
   "execution_count": 74,
   "id": "58bca48b",
   "metadata": {},
   "outputs": [
    {
     "name": "stdout",
     "output_type": "stream",
     "text": [
      "[ 2  4  6  8 10]\n"
     ]
    }
   ],
   "source": [
    "# creating an array between 2 and 11 elements and increments of a fixed step size 2\n",
    "# default step size is one\n",
    "np_1 = np.arange(2,11,2)\n",
    "print(np_1)"
   ]
  },
  {
   "cell_type": "code",
   "execution_count": 3,
   "id": "712f3fc9",
   "metadata": {},
   "outputs": [],
   "source": [
    "# creating an array of zeroes with 5 elements\n"
   ]
  },
  {
   "cell_type": "code",
   "execution_count": null,
   "id": "74b1e160",
   "metadata": {
    "cellId": "e10",
    "deletable": false
   },
   "outputs": [],
   "source": [
    "#answer here"
   ]
  },
  {
   "cell_type": "code",
   "execution_count": 76,
   "id": "26415f3c",
   "metadata": {},
   "outputs": [
    {
     "data": {
      "text/plain": [
       "dtype('float64')"
      ]
     },
     "execution_count": 76,
     "metadata": {},
     "output_type": "execute_result"
    }
   ],
   "source": [
    "# data type of np_2\n",
    "np_2.dtype\n",
    "\n",
    "# Default data type will be float"
   ]
  },
  {
   "cell_type": "code",
   "execution_count": 77,
   "id": "1dfaca7e",
   "metadata": {},
   "outputs": [
    {
     "data": {
      "text/plain": [
       "(dtype('int32'), array([0, 0, 0, 0, 0]))"
      ]
     },
     "execution_count": 77,
     "metadata": {},
     "output_type": "execute_result"
    }
   ],
   "source": [
    "# specifying the data type of the array in the provided attribute\n",
    "\n",
    "np_2 = np.zeros(5,dtype=\"int\")\n",
    "np_2.dtype, np_2"
   ]
  },
  {
   "cell_type": "code",
   "execution_count": 78,
   "id": "50f6b875",
   "metadata": {},
   "outputs": [
    {
     "data": {
      "text/plain": [
       "array([0, 0, 0, 0, 0])"
      ]
     },
     "execution_count": 78,
     "metadata": {},
     "output_type": "execute_result"
    }
   ],
   "source": [
    "np_2"
   ]
  },
  {
   "cell_type": "code",
   "execution_count": 79,
   "id": "a7d7afbd",
   "metadata": {},
   "outputs": [
    {
     "name": "stdout",
     "output_type": "stream",
     "text": [
      "[ 2  4  6  8 10]\n"
     ]
    }
   ],
   "source": [
    "# adding the two arrays: np_1 and np_2\n",
    "print(np_1 + np_2)"
   ]
  },
  {
   "cell_type": "code",
   "execution_count": 80,
   "id": "dc1e8128",
   "metadata": {},
   "outputs": [
    {
     "data": {
      "text/plain": [
       "5"
      ]
     },
     "execution_count": 80,
     "metadata": {},
     "output_type": "execute_result"
    }
   ],
   "source": [
    "# check the dimension of the arrays\n",
    "# array np_1\n",
    "np_1.size"
   ]
  },
  {
   "cell_type": "code",
   "execution_count": 81,
   "id": "3956e3f6",
   "metadata": {},
   "outputs": [
    {
     "data": {
      "text/plain": [
       "5"
      ]
     },
     "execution_count": 81,
     "metadata": {},
     "output_type": "execute_result"
    }
   ],
   "source": [
    "# check the dimension of the arrays\n",
    "# array np_2\n",
    "np_2.size"
   ]
  },
  {
   "cell_type": "code",
   "execution_count": 82,
   "id": "353fe911",
   "metadata": {},
   "outputs": [
    {
     "name": "stdout",
     "output_type": "stream",
     "text": [
      "[1. 1. 1. 1. 1.]\n"
     ]
    }
   ],
   "source": [
    "# creating a third array with all the 5 elements as ones\n",
    "\n",
    "np_3 = np.ones(5)\n",
    "print(np_3)"
   ]
  },
  {
   "cell_type": "code",
   "execution_count": 83,
   "id": "770435d3",
   "metadata": {},
   "outputs": [
    {
     "data": {
      "text/plain": [
       "5"
      ]
     },
     "execution_count": 83,
     "metadata": {},
     "output_type": "execute_result"
    }
   ],
   "source": [
    "# check the dimension of the arrays\n",
    "np_3.size"
   ]
  },
  {
   "cell_type": "code",
   "execution_count": 84,
   "id": "5ba3651a",
   "metadata": {},
   "outputs": [
    {
     "name": "stdout",
     "output_type": "stream",
     "text": [
      "[1 1 1 1 1]\n"
     ]
    }
   ],
   "source": [
    "# creating a third array with all the 5 elements as ones\n",
    "\n",
    "np_4 = np.ones(5,dtype=int)\n",
    "\n",
    "# checking the created array:np_3\n",
    "print(np_4)"
   ]
  },
  {
   "cell_type": "code",
   "execution_count": 85,
   "id": "0dcfe7fb",
   "metadata": {},
   "outputs": [
    {
     "name": "stdout",
     "output_type": "stream",
     "text": [
      "[-1. -1. -1. -1. -1.]\n"
     ]
    }
   ],
   "source": [
    "# subtracting the array np_3 from array np_2\n",
    "\n",
    "print(np_2 - np_3)"
   ]
  },
  {
   "cell_type": "markdown",
   "id": "2ad9aa43",
   "metadata": {},
   "source": [
    "# np.linespace()"
   ]
  },
  {
   "cell_type": "code",
   "execution_count": 86,
   "id": "bdfce254",
   "metadata": {},
   "outputs": [
    {
     "name": "stdout",
     "output_type": "stream",
     "text": [
      "[ 1.    12.125 23.25  34.375 45.5   56.625 67.75  78.875 90.   ]\n"
     ]
    }
   ],
   "source": [
    "# creating an array of fixed length\n",
    "np_5 = np.linspace(1,90,9)\n",
    "\n",
    "# checking the created array:np_4\n",
    "print(np_5)"
   ]
  },
  {
   "cell_type": "code",
   "execution_count": 87,
   "id": "084c83a9",
   "metadata": {},
   "outputs": [
    {
     "name": "stdout",
     "output_type": "stream",
     "text": [
      "[ 1.  2.  3.  4.  5.  6.  7.  8.  9. 10.]\n"
     ]
    }
   ],
   "source": [
    "# creating an array of fixed length\n",
    "np_6 = np.linspace(1,10,10)\n",
    "\n",
    "# checking the created array:np_4\n",
    "print(np_6)"
   ]
  },
  {
   "cell_type": "code",
   "execution_count": 88,
   "id": "2f7eebd3",
   "metadata": {},
   "outputs": [
    {
     "name": "stdout",
     "output_type": "stream",
     "text": [
      "(array([ 1.   , 12.125, 23.25 , 34.375, 45.5  , 56.625, 67.75 , 78.875,\n",
      "       90.   ]), 11.125)\n"
     ]
    }
   ],
   "source": [
    "np_7=np.linspace(1,90,9,retstep=True)\n",
    "print(np_7)"
   ]
  },
  {
   "cell_type": "code",
   "execution_count": 89,
   "id": "5727b22f",
   "metadata": {},
   "outputs": [
    {
     "name": "stdout",
     "output_type": "stream",
     "text": [
      "[1 2 3 4 5 6]\n"
     ]
    }
   ],
   "source": [
    "# Empty array: Return a new array of given shape and type, without initializing entries.\n",
    "x = np.arange(1, 7)\n",
    "print(x)"
   ]
  },
  {
   "cell_type": "code",
   "execution_count": 90,
   "id": "9e6eeee2",
   "metadata": {},
   "outputs": [
    {
     "data": {
      "text/plain": [
       "array([[10, 20, 30, 40, 50, 60],\n",
       "       [10, 20, 30, 40, 50, 60]])"
      ]
     },
     "execution_count": 90,
     "metadata": {},
     "output_type": "execute_result"
    }
   ],
   "source": [
    "# filling the empty array\n",
    "np.multiply(x,10,y)"
   ]
  },
  {
   "cell_type": "code",
   "execution_count": 91,
   "id": "96fc00fb",
   "metadata": {},
   "outputs": [
    {
     "data": {
      "text/plain": [
       "array([[ 10,  40,  90, 160, 250, 360],\n",
       "       [ 10,  40,  90, 160, 250, 360]])"
      ]
     },
     "execution_count": 91,
     "metadata": {},
     "output_type": "execute_result"
    }
   ],
   "source": [
    "# printing the output obtained above\n",
    "y*x"
   ]
  },
  {
   "cell_type": "code",
   "execution_count": 92,
   "id": "6add4923",
   "metadata": {},
   "outputs": [
    {
     "data": {
      "text/plain": [
       "array([[7, 7, 7],\n",
       "       [7, 7, 7],\n",
       "       [7, 7, 7],\n",
       "       [7, 7, 7]])"
      ]
     },
     "execution_count": 92,
     "metadata": {},
     "output_type": "execute_result"
    }
   ],
   "source": [
    "# Creating a 4 x 3 array of 7s using np.full()\n",
    "# The default data type here is 'int' only\n",
    "np.full((4,3), 7)"
   ]
  },
  {
   "cell_type": "code",
   "execution_count": 93,
   "id": "61933f0a",
   "metadata": {},
   "outputs": [
    {
     "data": {
      "text/plain": [
       "array([[1, 0, 0],\n",
       "       [0, 1, 0],\n",
       "       [0, 0, 1]])"
      ]
     },
     "execution_count": 93,
     "metadata": {},
     "output_type": "execute_result"
    }
   ],
   "source": [
    "# Create a 3 x 3 identity matrix using np.eye()\n",
    "# The default data type here is float. So if we want integer values, we need to specify the dtype to be int\n",
    "np.eye(3, dtype = int)"
   ]
  },
  {
   "cell_type": "code",
   "execution_count": 94,
   "id": "574ec83e",
   "metadata": {},
   "outputs": [
    {
     "data": {
      "text/plain": [
       "array([[1, 0, 0, 0, 0, 0],\n",
       "       [0, 1, 0, 0, 0, 0],\n",
       "       [0, 0, 1, 0, 0, 0],\n",
       "       [0, 0, 0, 1, 0, 0],\n",
       "       [0, 0, 0, 0, 1, 0],\n",
       "       [0, 0, 0, 0, 0, 1]])"
      ]
     },
     "execution_count": 94,
     "metadata": {},
     "output_type": "execute_result"
    }
   ],
   "source": [
    "np.eye(6, dtype = int)"
   ]
  },
  {
   "cell_type": "code",
   "execution_count": 95,
   "id": "8a4614b7",
   "metadata": {},
   "outputs": [
    {
     "data": {
      "text/plain": [
       "array([[1., 0.],\n",
       "       [0., 1.]])"
      ]
     },
     "execution_count": 95,
     "metadata": {},
     "output_type": "execute_result"
    }
   ],
   "source": [
    "np.eye(2)"
   ]
  },
  {
   "cell_type": "code",
   "execution_count": 96,
   "id": "9db0f815",
   "metadata": {},
   "outputs": [
    {
     "data": {
      "text/plain": [
       "array([[0.57560734, 0.63798219, 0.52653836, 0.22683476],\n",
       "       [0.63759541, 0.98630803, 0.35986998, 0.74866123],\n",
       "       [0.76196219, 0.59918491, 0.45015059, 0.14871189]])"
      ]
     },
     "execution_count": 96,
     "metadata": {},
     "output_type": "execute_result"
    }
   ],
   "source": [
    "# Create a 3 x 3 array of random numbers between 0 and 1\n",
    "np.random.random([3, 4])"
   ]
  },
  {
   "cell_type": "markdown",
   "id": "0c54bc7e",
   "metadata": {},
   "source": [
    ".randint()\n",
    "\n",
    "random.randint(low, high=None, size=None, dtype=int)\n",
    "\n",
    "Return random integers from low (inclusive) to high (exclusive)."
   ]
  },
  {
   "cell_type": "code",
   "execution_count": 97,
   "id": "399f2d42",
   "metadata": {},
   "outputs": [
    {
     "data": {
      "text/plain": [
       "array([[26, 28, 23, 21],\n",
       "       [25, 23, 25, 23],\n",
       "       [29, 28, 26, 28],\n",
       "       [21, 29, 23, 27]])"
      ]
     },
     "execution_count": 97,
     "metadata": {},
     "output_type": "execute_result"
    }
   ],
   "source": [
    "# Create a 4 x 4 random array of integers ranging from 0 to 9\n",
    "np.random.randint(20, 30, (4,4))"
   ]
  },
  {
   "cell_type": "code",
   "execution_count": 98,
   "id": "90b38349",
   "metadata": {},
   "outputs": [
    {
     "data": {
      "text/plain": [
       "array([[5, 5, 2, 0],\n",
       "       [9, 4, 3, 9],\n",
       "       [2, 8, 0, 7],\n",
       "       [5, 8, 3, 1]])"
      ]
     },
     "execution_count": 98,
     "metadata": {},
     "output_type": "execute_result"
    }
   ],
   "source": [
    "# Create a 4 x 4 random array of integers ranging from 0 to 9\n",
    "np.random.randint(0, 10, (4,4))"
   ]
  },
  {
   "cell_type": "markdown",
   "id": "22d4cc1d",
   "metadata": {},
   "source": []
  },
  {
   "cell_type": "code",
   "execution_count": null,
   "id": "0e9392bf",
   "metadata": {},
   "outputs": [],
   "source": []
  }
 ],
 "metadata": {
  "celltoolbar": "Edit Metadata",
  "kernelspec": {
   "display_name": "Python 3 (ipykernel)",
   "language": "python",
   "name": "python3"
  },
  "language_info": {
   "codemirror_mode": {
    "name": "ipython",
    "version": 3
   },
   "file_extension": ".py",
   "mimetype": "text/x-python",
   "name": "python",
   "nbconvert_exporter": "python",
   "pygments_lexer": "ipython3",
   "version": "3.9.12"
  }
 },
 "nbformat": 4,
 "nbformat_minor": 5
}
