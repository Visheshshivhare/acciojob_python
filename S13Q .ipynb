{
 "cells": [
  {
   "cell_type": "markdown",
   "id": "4ab5d148",
   "metadata": {},
   "source": [
    "# Introduction\n",
    "Making plots and static or interactive visualizations is one of the most important tasks in data analysis. It may be a part of the exploratory process; for example, helping identify outliers, needed data transformations, or coming up with ideas for models.\n",
    "\n",
    "Matplotlib is the most extensively used library of python for data visualization due to it's high flexibility and extensive functionality that it provides."
   ]
  },
  {
   "cell_type": "markdown",
   "id": "ca685d4f",
   "metadata": {},
   "source": [
    "# 1. Setting up\n",
    "Importing matplotlib\n",
    "Just as we use the np shorthand for NumPy and the pd shorthand for Pandas, we will use standard shorthands for Matplotlib import:\n",
    "\n",
    "import matplotlib.pyplot as plt"
   ]
  },
  {
   "cell_type": "markdown",
   "id": "0003ab4b",
   "metadata": {},
   "source": [
    "We import the pyplot interface of matplotlib with a shorthand of plt and we will be using it like this in the entire notebook.\n",
    "\n",
    "Matplotlib for Jupyter notebook\n",
    "You can directly use matplotlib with this notebook to create different visualizations in the notebook itself. In order to do that, the following command is used:\n",
    "\n",
    "%matplotlib inline"
   ]
  },
  {
   "cell_type": "code",
   "execution_count": null,
   "id": "28ad1a79",
   "metadata": {},
   "outputs": [],
   "source": [
    "# importing required libraries\n",
    "import numpy as np\n",
    "import pandas as pd\n",
    "\n",
    "# importing matplotlib\n",
    "import matplotlib.pyplot as plt\n",
    "\n",
    "# display plots in the notebook itself\n",
    "%matplotlib inline"
   ]
  },
  {
   "cell_type": "markdown",
   "id": "48a90286",
   "metadata": {},
   "source": [
    "# 2. Matplotlib basics\n",
    "Make a simple plot\n",
    "Let's create a basic plot to start working with!"
   ]
  },
  {
   "cell_type": "code",
   "execution_count": null,
   "id": "66d4e4f8",
   "metadata": {},
   "outputs": [],
   "source": [
    "height = [150,160,165,185]\n",
    "weight = [70, 80, 90, 100]\n",
    "\n",
    "# draw the plot\n",
    "plt.plot(height, weight)"
   ]
  },
  {
   "cell_type": "markdown",
   "id": "80d6396e",
   "metadata": {},
   "source": [
    "We pass two arrays as our input arguments to plot() method and invoke the required plot. Here note that the first array appears on the x-axis and second array appears on the y-axis of the plot.\n",
    "\n",
    "Title, Labels, and Legends\n",
    "Now that our first plot is ready, let us add the title, and name x-axis and y-axis using methods title(), xlabel() and ylabel() respectively."
   ]
  },
  {
   "cell_type": "code",
   "execution_count": null,
   "id": "5ce3d52e",
   "metadata": {},
   "outputs": [],
   "source": [
    "# draw the plot\n",
    "plt.plot(height,weight)\n",
    "# add title\n",
    "plt.title(\"Relationship between height and weight\")\n",
    "# label x axis\n",
    "plt.xlabel(\"Height\")\n",
    "# label y axis\n",
    "plt.ylabel(\"Weight\")"
   ]
  },
  {
   "cell_type": "markdown",
   "id": "61e804bf",
   "metadata": {},
   "source": [
    "We can explore multiple information on a single plot"
   ]
  },
  {
   "cell_type": "code",
   "execution_count": null,
   "id": "5cb5f94b",
   "metadata": {},
   "outputs": [],
   "source": [
    "calories_burnt = [65, 75, 95, 99]\n",
    "\n",
    "# draw the plot for calories burnt\n",
    "plt.plot(calories_burnt)\n",
    "# draw the plot for weight\n",
    "plt.plot(weight)"
   ]
  },
  {
   "cell_type": "markdown",
   "id": "d5c3f12d",
   "metadata": {},
   "source": [
    "Adding legends is also simple in matplotlib, you can use the legend() which takes labels and loc as label names and location of legend in the figure as paremeters.\n",
    "The attribute Loc in legend() is used to specify the location of the legend.Default value of loc is loc=\"best\" (upper left).\n",
    "\n",
    "The strings ‘upper left’, ‘upper right’, ‘lower left’, ‘lower right’ place the legend at the corresponding corner of the axes/figure."
   ]
  },
  {
   "cell_type": "code",
   "execution_count": null,
   "id": "35c3edd3",
   "metadata": {},
   "outputs": [],
   "source": [
    "# draw the plot for calories burnt\n",
    "plt.plot(calories_burnt)\n",
    "# draw the plot for weight\n",
    "plt.plot(weight)\n",
    "\n",
    "# add legend in the lower right part of the figure\n",
    "plt.legend(labels=['Calories Burnt', 'Weight'], loc='best')"
   ]
  },
  {
   "cell_type": "markdown",
   "id": "01a879bd",
   "metadata": {},
   "source": [
    "Notice that in the previous plot, we are not able to understand that each of these values belong to different persons.\n",
    "Look at the X axis, can we add labels to show that each belong to different persons?\n",
    "The labeled values on any axis is known as a tick.\n",
    "You can use the xticks to change both the location of each tick and it's label. Let's see this in an example"
   ]
  },
  {
   "cell_type": "code",
   "execution_count": null,
   "id": "e8856a16",
   "metadata": {},
   "outputs": [],
   "source": [
    "# draw the plot\n",
    "plt.plot(calories_burnt)\n",
    "plt.plot(weight)\n",
    "\n",
    "# add legend in the lower right part of the figure\n",
    "plt.legend(labels=['Calories Burnt', 'Weight'], loc='lower right')\n",
    "\n",
    "# set labels for each of these persons\n",
    "plt.xticks(ticks=[0,1,2,3], labels=['p1', 'p2', 'p3', 'p4']);"
   ]
  },
  {
   "cell_type": "markdown",
   "id": "0897b5ad",
   "metadata": {},
   "source": [
    "Size, Colors, Markers and Line styles\n",
    "You can also specify the size of the figure using method figure() and passing the values as a tuple of the length of rows and columns to the argument figsize.\n",
    "The values of length are considered to be in inches."
   ]
  },
  {
   "cell_type": "code",
   "execution_count": null,
   "id": "78ad7fe2",
   "metadata": {},
   "outputs": [],
   "source": [
    "# figure size in inches\n",
    "plt.figure(figsize=(10,5))\n",
    "\n",
    "# draw the plot\n",
    "plt.plot(calories_burnt,marker='o',color='red')\n",
    "plt.plot(weight,marker='*',color='black')\n",
    "\n",
    "# add legend in the lower right part of the figure\n",
    "plt.legend(labels=['Calories Burnt', 'Weight'], loc='lower right')\n",
    "\n",
    "# set labels for each of these persons\n",
    "plt.xticks(ticks=[0,1,2,3], labels=['p1', 'p2', 'p3', 'p4']);"
   ]
  },
  {
   "cell_type": "code",
   "execution_count": null,
   "id": "5d8cf1f5",
   "metadata": {},
   "outputs": [],
   "source": [
    "# draw the plot\n",
    "plt.plot(calories_burnt)\n",
    "plt.plot(weight,  'go')\n",
    "\n",
    "# add legend in the lower right part of the figure\n",
    "plt.legend(labels=['Calories Burnt', 'Weight'], loc='lower right')\n",
    "\n",
    "# set labels for each of these persons\n",
    "plt.xticks(ticks=[0,1,2,3], labels=['p1', 'p2', 'p3', 'p4']);"
   ]
  },
  {
   "cell_type": "code",
   "execution_count": null,
   "id": "b003c6f6",
   "metadata": {},
   "outputs": [],
   "source": [
    "# read the dataset\n",
    "import pandas as pd\n",
    "data_BM = pd.read_csv(r'C:\\Users\\neels\\Downloads\\bigmart_data (6).csv')\n",
    "# drop the null values\n",
    "data_BM = data_BM.dropna(how=\"any\")\n",
    "# view the top results\n",
    "data_BM.head()"
   ]
  },
  {
   "cell_type": "markdown",
   "id": "96a6f3c7",
   "metadata": {},
   "source": [
    "# Line Chart\n",
    "We will create a line chart to denote the mean price per item. Let's have a look at the code.\n",
    "With some datasets, you may want to understand changes in one variable as a function of time, or a similarly continuous variable.\n",
    "In matplotlib, line chart is the default plot when using the plot()."
   ]
  },
  {
   "cell_type": "code",
   "execution_count": null,
   "id": "4157acdf",
   "metadata": {},
   "outputs": [],
   "source": [
    "price_by_item = data_BM.groupby('Item_Type').Item_MRP.mean()[:10]\n",
    "price_by_item"
   ]
  },
  {
   "cell_type": "code",
   "execution_count": null,
   "id": "76e76613",
   "metadata": {},
   "outputs": [],
   "source": [
    "# mean price based on item type\n",
    "price_by_item = data_BM.groupby('Item_Type').Item_MRP.mean()[:10]\n",
    "\n",
    "x = price_by_item.index.tolist()\n",
    "y = price_by_item.values.tolist()\n",
    "\n",
    "# set figure size\n",
    "plt.figure(figsize=(14, 8))\n",
    "\n",
    "# set title\n",
    "plt.title('Mean price for each item type')\n",
    "\n",
    "# set axis labels\n",
    "plt.xlabel('Item Type')\n",
    "plt.ylabel('Mean Price')\n",
    "\n",
    "# set xticks \n",
    "plt.xticks(labels=x, ticks=np.arange(len(x)))\n",
    "\n",
    "plt.plot(x, y)"
   ]
  },
  {
   "cell_type": "markdown",
   "id": "504fd320",
   "metadata": {},
   "source": [
    "# Bar Chart\n",
    "Suppose we want to have a look at what is the mean sales for each outlet type?\n",
    "A bar chart is another simple type of visualization that is used for categorical variables.\n",
    "You can use plt.bar() instead of plt.plot() to create a bar chart."
   ]
  },
  {
   "cell_type": "code",
   "execution_count": null,
   "id": "afd891ba",
   "metadata": {},
   "outputs": [],
   "source": [
    "data_BM['Outlet_Size'].unique()"
   ]
  },
  {
   "cell_type": "code",
   "execution_count": null,
   "id": "dcd31321",
   "metadata": {},
   "outputs": [],
   "source": [
    "# sales by outlet size\n",
    "sales_by_outlet_size = data_BM.groupby('Outlet_Size').Item_Outlet_Sales.mean()\n",
    "\n",
    "# sort by sales\n",
    "sales_by_outlet_size.sort_values(inplace=True)\n",
    "\n",
    "x = sales_by_outlet_size.index.tolist()\n",
    "y = sales_by_outlet_size.values.tolist()\n",
    "\n",
    "# set axis labels\n",
    "plt.xlabel('Outlet Size')\n",
    "plt.ylabel('Sales')\n",
    "\n",
    "# set title\n",
    "plt.title('Mean sales for each outlet type')\n",
    "\n",
    "# set xticks \n",
    "plt.xticks(labels=x, ticks=np.arange(len(x)))\n",
    "\n",
    "plt.bar(x, y, color=['red', 'orange', 'magenta'])"
   ]
  },
  {
   "cell_type": "markdown",
   "id": "7795f758",
   "metadata": {},
   "source": [
    "# Histogram\n",
    "Distribution of Item price\n",
    "Histograms are a very common type of plots when we are looking at data like height and weight, stock prices, waiting time for a customer, etc which are continuous in nature.\n",
    "Histogram’s data is plotted within a range against its frequency.\n",
    "Histograms are very commonly occurring graphs in probability and statistics and form the basis for various distributions like the normal -distribution, t-distribution, etc."
   ]
  },
  {
   "cell_type": "code",
   "execution_count": null,
   "id": "6c25553b",
   "metadata": {},
   "outputs": [],
   "source": [
    "# title\n",
    "plt.title('Item MRP (price) distribution')\n",
    "\n",
    "# xlabel\n",
    "plt.xlabel('Item_MRP')\n",
    "\n",
    "# ylabel\n",
    "plt.ylabel('Frequency')\n",
    "\n",
    "# plot histogram\n",
    "plt.hist(data_BM['Item_MRP'], bins=20, color='lightblue');"
   ]
  },
  {
   "cell_type": "code",
   "execution_count": null,
   "id": "3ce6a08e",
   "metadata": {},
   "outputs": [],
   "source": [
    "# title\n",
    "plt.title('Item MRP (price) distribution')\n",
    "\n",
    "# xlabel\n",
    "plt.xlabel('Item_MRP')\n",
    "\n",
    "# ylabel\n",
    "plt.ylabel('Frequency')\n",
    "\n",
    "# plot histogram\n",
    "plt.hist(data_BM['Item_MRP'], bins=20, color='lightblue',alpha = 0.7,density=0,histtype='bar',ec='black');"
   ]
  },
  {
   "cell_type": "markdown",
   "id": "f477c19d",
   "metadata": {},
   "source": [
    "# Box Plots\n",
    "Distribution of sales\n",
    "Box plot shows the three quartile values of the distribution along with extreme values.\n",
    "The “whiskers” extend to points that lie within 1.5 IQRs of the lower and upper quartile, and then observations that fall outside this range are displayed independently.\n",
    "This means that each value in the boxplot corresponds to an actual observation in the data.\n",
    "Let's try to visualize the distributio of Item_Outlet_Sales of items."
   ]
  },
  {
   "cell_type": "code",
   "execution_count": null,
   "id": "34ef1634",
   "metadata": {},
   "outputs": [],
   "source": [
    "data = data_BM[['Item_Outlet_Sales']]\n",
    "\n",
    "# create outlier point shape\n",
    "red_diamond = dict(markerfacecolor='r', marker='D')\n",
    "\n",
    "# set title\n",
    "plt.title('Item Sales distribution')\n",
    "\n",
    "# make the boxplot\n",
    "plt.boxplot(data.values, labels=['Item Sales'], flierprops=red_diamond);"
   ]
  },
  {
   "cell_type": "code",
   "execution_count": null,
   "id": "f3fa0786",
   "metadata": {},
   "outputs": [],
   "source": [
    "data = data_BM[['Item_Outlet_Sales', 'Item_MRP']]\n",
    "\n",
    "# create outlier point shape\n",
    "red_square = dict(markerfacecolor='r', marker='s')\n",
    "\n",
    "# generate subplots\n",
    "fig, ax = plt.subplots()\n",
    "\n",
    "# make the boxplot\n",
    "plt.boxplot(data.values, labels=['Item Sales', 'Item MRP (price)'],vert=False,flierprops=red_square);"
   ]
  },
  {
   "cell_type": "markdown",
   "id": "44c218dd",
   "metadata": {},
   "source": [
    "# Violin Plots\n",
    "Density distribution of Item weights and Item price"
   ]
  },
  {
   "cell_type": "code",
   "execution_count": null,
   "id": "de7f64a6",
   "metadata": {},
   "outputs": [],
   "source": [
    "data = data_BM[['Item_Weight', 'Item_MRP']]\n",
    "\n",
    "# generate subplots\n",
    "fig, ax = plt.subplots()\n",
    "\n",
    "# add labels to x axis\n",
    "plt.xticks(ticks=[1,2], labels=['Item Weight', 'Item MRP'])\n",
    "\n",
    "# make the violinplot\n",
    "plt.violinplot(data.values);"
   ]
  },
  {
   "cell_type": "markdown",
   "id": "700e4533",
   "metadata": {},
   "source": [
    "# Scatter Plots\n",
    "Relative distribution of item weight and it's visibility\n",
    "It depicts the distribution of two variables using a cloud of points, where each point represents an observation in the dataset.\n",
    "This depiction allows the eye to infer a substantial amount of information about whether there is any meaningful relationship between them."
   ]
  },
  {
   "cell_type": "code",
   "execution_count": null,
   "id": "5838243a",
   "metadata": {},
   "outputs": [],
   "source": [
    "# set label of axes \n",
    "plt.xlabel('Item_Weight')\n",
    "plt.ylabel('Item_Visibility')\n",
    "\n",
    "# plot\n",
    "plt.scatter(data_BM[\"Item_Weight\"][:200], data_BM[\"Item_Visibility\"][:200])"
   ]
  },
  {
   "cell_type": "code",
   "execution_count": null,
   "id": "ba7111b1",
   "metadata": {},
   "outputs": [],
   "source": []
  }
 ],
 "metadata": {
  "kernelspec": {
   "display_name": "Python 3 (ipykernel)",
   "language": "python",
   "name": "python3"
  },
  "language_info": {
   "codemirror_mode": {
    "name": "ipython",
    "version": 3
   },
   "file_extension": ".py",
   "mimetype": "text/x-python",
   "name": "python",
   "nbconvert_exporter": "python",
   "pygments_lexer": "ipython3",
   "version": "3.11.1"
  }
 },
 "nbformat": 4,
 "nbformat_minor": 5
}
