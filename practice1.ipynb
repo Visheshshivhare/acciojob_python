{
 "cells": [
  {
   "cell_type": "code",
   "execution_count": 5,
   "metadata": {},
   "outputs": [
    {
     "name": "stdout",
     "output_type": "stream",
     "text": [
      "1\n"
     ]
    }
   ],
   "source": [
    "year=int(input())\n",
    "\t\n",
    "if(year %4 ==0 and year %100 !=0) or (year%400==0):\n",
    "    print(1)\n",
    "else:\n",
    "    print(0)"
   ]
  },
  {
   "cell_type": "code",
   "execution_count": 7,
   "metadata": {},
   "outputs": [],
   "source": [
    "uppercase='ABCDEFGHIJKLMNOPQRSTUVWXYZ'\n",
    "lowercase='abcdefghijklmnopqrstuvwxyz'\n",
    "wholecase=uppercase+lowercase"
   ]
  },
  {
   "cell_type": "code",
   "execution_count": 13,
   "metadata": {},
   "outputs": [
    {
     "name": "stdout",
     "output_type": "stream",
     "text": [
      "-1\n"
     ]
    }
   ],
   "source": [
    "chk_char=input('Enter a character')\n",
    "\n",
    "if 'A' <=chk_char <= 'Z':\n",
    "    print(1)\n",
    "elif 'a' <=chk_char <= 'z':\n",
    "    print(0)\n",
    "elif not (('a' <=chk_char <= 'z') or ('A' <=chk_char <= 'Z')):\n",
    "    print(-1)"
   ]
  },
  {
   "cell_type": "markdown",
   "metadata": {},
   "source": [
    "    BINARY operator\n",
    "        and\n",
    "        or\n",
    "        +\n",
    "        -\n",
    "        *\n",
    "        //\n",
    "    unary operator\n",
    "        not\n",
    "    tertiary operator"
   ]
  },
  {
   "cell_type": "code",
   "execution_count": 14,
   "metadata": {},
   "outputs": [
    {
     "data": {
      "text/plain": [
       "False"
      ]
     },
     "execution_count": 14,
     "metadata": {},
     "output_type": "execute_result"
    }
   ],
   "source": [
    "not True"
   ]
  },
  {
   "cell_type": "markdown",
   "metadata": {},
   "source": [
    "    operator and operand"
   ]
  },
  {
   "cell_type": "code",
   "execution_count": null,
   "metadata": {},
   "outputs": [],
   "source": [
    "1+2"
   ]
  },
  {
   "cell_type": "code",
   "execution_count": 15,
   "metadata": {},
   "outputs": [
    {
     "data": {
      "text/plain": [
       "True"
      ]
     },
     "execution_count": 15,
     "metadata": {},
     "output_type": "execute_result"
    }
   ],
   "source": [
    "True or False"
   ]
  },
  {
   "cell_type": "code",
   "execution_count": 17,
   "metadata": {},
   "outputs": [
    {
     "name": "stdout",
     "output_type": "stream",
     "text": [
      "odd\n"
     ]
    }
   ],
   "source": [
    "no =5\n",
    "\n",
    "if 5%2==0:\n",
    "    print('even')\n",
    "else:\n",
    "    print(\"odd\")"
   ]
  },
  {
   "cell_type": "markdown",
   "metadata": {},
   "source": [
    "    if condition:\n",
    "        if condition:\n",
    "            if condition:\n",
    "                value_if_true:\n",
    "            else:\n",
    "                value_if_false\n",
    "        else:\n",
    "            value_if_false\n",
    "    else:\n",
    "        value_if_false"
   ]
  },
  {
   "cell_type": "code",
   "execution_count": 16,
   "metadata": {},
   "outputs": [
    {
     "name": "stdout",
     "output_type": "stream",
     "text": [
      "odd\n"
     ]
    }
   ],
   "source": [
    "print('even' if 5%2==0 else 'odd')"
   ]
  },
  {
   "cell_type": "markdown",
   "metadata": {},
   "source": [
    "    if\n",
    "        logical_test\n",
    "        value_if_true\n",
    "        value_if_false\n",
    "\n",
    "    value_if_true if logical_test / condition else value_if_false"
   ]
  },
  {
   "cell_type": "markdown",
   "metadata": {},
   "source": [
    "    if <condition>:\n",
    "        value_if_true\n",
    "    else:\n",
    "        value_if_false"
   ]
  },
  {
   "cell_type": "markdown",
   "metadata": {},
   "source": [
    "    value_if_true    if <condition>    else       value_if_false"
   ]
  },
  {
   "cell_type": "markdown",
   "metadata": {},
   "source": [
    "    *\n",
    "    **\n",
    "    ***\n",
    "    ****\n",
    "    *****\n",
    "\n",
    "    *****\n",
    "    ****\n",
    "    ***\n",
    "    **\n",
    "    *\n",
    "\n",
    "        *\n",
    "       * *\n",
    "      * * *\n",
    "     * * * *\n",
    "    * * * * *\n",
    "\n"
   ]
  }
 ],
 "metadata": {
  "kernelspec": {
   "display_name": "Python 3",
   "language": "python",
   "name": "python3"
  },
  "language_info": {
   "codemirror_mode": {
    "name": "ipython",
    "version": 3
   },
   "file_extension": ".py",
   "mimetype": "text/x-python",
   "name": "python",
   "nbconvert_exporter": "python",
   "pygments_lexer": "ipython3",
   "version": "3.11.1"
  },
  "orig_nbformat": 4
 },
 "nbformat": 4,
 "nbformat_minor": 2
}
