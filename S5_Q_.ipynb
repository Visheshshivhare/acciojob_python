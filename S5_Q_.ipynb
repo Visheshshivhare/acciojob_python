{
  "cells": [
    {
      "cell_type": "markdown",
      "metadata": {
        "id": "view-in-github",
        "colab_type": "text"
      },
      "source": [
        "<a href=\"https://colab.research.google.com/github/starlordali4444/acciojob_python/blob/main/S5_Q_.ipynb\" target=\"_parent\"><img src=\"https://colab.research.google.com/assets/colab-badge.svg\" alt=\"Open In Colab\"/></a>"
      ]
    },
    {
      "cell_type": "markdown",
      "id": "5196b317",
      "metadata": {
        "id": "5196b317"
      },
      "source": [
        "# Sets"
      ]
    },
    {
      "cell_type": "markdown",
      "id": "65459103",
      "metadata": {
        "id": "65459103"
      },
      "source": [
        "A set is an unordered collection with no duplicate elements. Basic uses include membership testing and eliminating duplicate entries. Set objects also support mathematical operations like union, intersection, difference, and symmetric difference.\n",
        "\n",
        "Curly braces or the set() function can be used to create sets."
      ]
    },
    {
      "cell_type": "markdown",
      "id": "bf8c801d",
      "metadata": {
        "id": "bf8c801d"
      },
      "source": [
        "Set and Set Methods"
      ]
    },
    {
      "cell_type": "code",
      "execution_count": null,
      "id": "245b522a",
      "metadata": {
        "id": "245b522a"
      },
      "outputs": [],
      "source": [
        "days={'Mon','Tue','Wed','Thur','Fri','Sat','Sun'}            # Create a set"
      ]
    },
    {
      "cell_type": "code",
      "execution_count": null,
      "id": "d4af3e25",
      "metadata": {
        "id": "d4af3e25",
        "outputId": "6c8fcc62-d2f9-49d2-aaee-eb904a40d188"
      },
      "outputs": [
        {
          "data": {
            "text/plain": [
              "{'Fri', 'Mon', 'Sat', 'Sun', 'Thur', 'Tue', 'Wed'}"
            ]
          },
          "execution_count": 2,
          "metadata": {},
          "output_type": "execute_result"
        }
      ],
      "source": [
        "days                                                         # order will changed when we display"
      ]
    },
    {
      "cell_type": "code",
      "execution_count": null,
      "id": "5d81e52d",
      "metadata": {
        "id": "5d81e52d",
        "outputId": "ff9b1482-a53a-4711-a22c-339f73b7a06a"
      },
      "outputs": [
        {
          "name": "stdout",
          "output_type": "stream",
          "text": [
            "{'Thur', 'Wed', 'Mon', 'Fri', 'Sun', 'Sat', 'Tue'}\n"
          ]
        }
      ],
      "source": [
        "print(days)                                                  # order will changed when we print"
      ]
    },
    {
      "cell_type": "code",
      "execution_count": null,
      "id": "f69cd2b0",
      "metadata": {
        "id": "f69cd2b0"
      },
      "outputs": [],
      "source": [
        "days={'Mon','Tue','Wed','Thur','Fri','Sat','Sun','Mon'}       # set will not allow duplication"
      ]
    },
    {
      "cell_type": "code",
      "execution_count": null,
      "id": "4cfc2f10",
      "metadata": {
        "id": "4cfc2f10",
        "outputId": "74a763ae-8dd1-47be-c0c9-f5cfbb923fd1"
      },
      "outputs": [
        {
          "data": {
            "text/plain": [
              "{'Fri', 'Mon', 'Sat', 'Sun', 'Thur', 'Tue', 'Wed'}"
            ]
          },
          "execution_count": 5,
          "metadata": {},
          "output_type": "execute_result"
        }
      ],
      "source": [
        "days"
      ]
    },
    {
      "cell_type": "code",
      "execution_count": null,
      "id": "e28074dc",
      "metadata": {
        "id": "e28074dc"
      },
      "outputs": [],
      "source": [
        "num=[1,2,3,5,9,2,6,9,4]"
      ]
    },
    {
      "cell_type": "code",
      "execution_count": null,
      "id": "101bfc71",
      "metadata": {
        "id": "101bfc71"
      },
      "outputs": [],
      "source": [
        "# to find out unique even numbers in ascending order\n",
        "num=[1,2,3,5,9,2,6,9,4]\n",
        "even=[]\n",
        "for i in num:\n",
        "    if i%2==0:\n",
        "        even.append(i)"
      ]
    },
    {
      "cell_type": "code",
      "execution_count": null,
      "id": "02a219b4",
      "metadata": {
        "id": "02a219b4",
        "outputId": "d16c9ef9-d76d-4a02-963e-4c0d2bbfddf6"
      },
      "outputs": [
        {
          "data": {
            "text/plain": [
              "[2, 2, 6, 4]"
            ]
          },
          "execution_count": 7,
          "metadata": {},
          "output_type": "execute_result"
        }
      ],
      "source": [
        "even"
      ]
    },
    {
      "cell_type": "code",
      "execution_count": null,
      "id": "80fa91d5",
      "metadata": {
        "id": "80fa91d5"
      },
      "outputs": [],
      "source": [
        "even=set(even)"
      ]
    },
    {
      "cell_type": "code",
      "execution_count": null,
      "id": "a7d6e039",
      "metadata": {
        "id": "a7d6e039",
        "outputId": "ea9a2304-55ad-49a7-a900-c115e3ded53e"
      },
      "outputs": [
        {
          "data": {
            "text/plain": [
              "{2, 4, 6}"
            ]
          },
          "execution_count": 9,
          "metadata": {},
          "output_type": "execute_result"
        }
      ],
      "source": [
        "even"
      ]
    },
    {
      "cell_type": "code",
      "execution_count": null,
      "id": "82e65cf5",
      "metadata": {
        "id": "82e65cf5"
      },
      "outputs": [],
      "source": [
        "even=list(even)"
      ]
    },
    {
      "cell_type": "code",
      "execution_count": null,
      "id": "dfd5dbfb",
      "metadata": {
        "id": "dfd5dbfb",
        "outputId": "9cff61d3-8d79-4052-d1aa-d82f28605afd"
      },
      "outputs": [
        {
          "data": {
            "text/plain": [
              "[2, 4, 6]"
            ]
          },
          "execution_count": 11,
          "metadata": {},
          "output_type": "execute_result"
        }
      ],
      "source": [
        "even"
      ]
    },
    {
      "cell_type": "code",
      "execution_count": null,
      "id": "6e2b9c54",
      "metadata": {
        "id": "6e2b9c54"
      },
      "outputs": [],
      "source": [
        "# Set Items - Data Types\n",
        "# Set items can be of any data type:\n",
        "\n",
        "\n",
        "set1 = {\"apple\", \"banana\", \"cherry\"}\n",
        "set2 = {1, 5, 7, 9, 3}\n",
        "set3 = {True, False, False}\n",
        "\n",
        "# A set can contain different data types:\n",
        "\n",
        "set1 = {\"abc\", 34, True, 40, \"male\"}"
      ]
    },
    {
      "cell_type": "code",
      "execution_count": null,
      "id": "defe8c98",
      "metadata": {
        "id": "defe8c98"
      },
      "outputs": [],
      "source": [
        "set_num=set((1,20,13,4,15,6,1,15,20))"
      ]
    },
    {
      "cell_type": "code",
      "execution_count": null,
      "id": "6764fdd0",
      "metadata": {
        "id": "6764fdd0",
        "outputId": "51d6912f-7aa7-44e7-a6c7-346c6b6353d2"
      },
      "outputs": [
        {
          "data": {
            "text/plain": [
              "{1, 4, 6, 13, 15, 20}"
            ]
          },
          "execution_count": 14,
          "metadata": {},
          "output_type": "execute_result"
        }
      ],
      "source": [
        "set_num"
      ]
    },
    {
      "cell_type": "code",
      "execution_count": null,
      "id": "64f70e35",
      "metadata": {
        "deletable": false,
        "editable": false,
        "id": "64f70e35"
      },
      "outputs": [],
      "source": [
        "#You are given a value you need to convert into set and print disctinct value\n",
        "Set_A ={5,7,8,9,10,7,8}"
      ]
    },
    {
      "cell_type": "code",
      "execution_count": null,
      "id": "c2408e8f",
      "metadata": {
        "cellId": "q5",
        "deletable": false,
        "id": "c2408e8f"
      },
      "outputs": [],
      "source": [
        "#answer here"
      ]
    },
    {
      "cell_type": "code",
      "execution_count": null,
      "id": "d4990eac",
      "metadata": {
        "id": "d4990eac"
      },
      "outputs": [],
      "source": [
        "set_num.add(21)             # to add a specific element in the set"
      ]
    },
    {
      "cell_type": "code",
      "execution_count": null,
      "id": "f5b12acd",
      "metadata": {
        "id": "f5b12acd",
        "outputId": "14d60b68-d909-4cf3-8170-e76a28d36ed0"
      },
      "outputs": [
        {
          "data": {
            "text/plain": [
              "{1, 4, 6, 13, 15, 20, 21}"
            ]
          },
          "execution_count": 16,
          "metadata": {},
          "output_type": "execute_result"
        }
      ],
      "source": [
        "set_num"
      ]
    },
    {
      "cell_type": "code",
      "execution_count": null,
      "id": "5f4dbafa",
      "metadata": {
        "id": "5f4dbafa",
        "outputId": "3d7d6ba6-efa8-4966-8b34-84d518c24717"
      },
      "outputs": [
        {
          "data": {
            "text/plain": [
              "1"
            ]
          },
          "execution_count": 17,
          "metadata": {},
          "output_type": "execute_result"
        }
      ],
      "source": [
        "set_num.pop()             # to remove the random element from the set"
      ]
    },
    {
      "cell_type": "code",
      "execution_count": null,
      "id": "39fe8322",
      "metadata": {
        "id": "39fe8322",
        "outputId": "2914e867-9c6f-4a67-fcde-edd2b3d7449e"
      },
      "outputs": [
        {
          "data": {
            "text/plain": [
              "{'Fri', 'Mon', 'Sat', 'Sun', 'Thur', 'Tue', 'Wed'}"
            ]
          },
          "execution_count": 18,
          "metadata": {},
          "output_type": "execute_result"
        }
      ],
      "source": [
        "days"
      ]
    },
    {
      "cell_type": "code",
      "execution_count": null,
      "id": "3d2f9c08",
      "metadata": {
        "id": "3d2f9c08",
        "outputId": "958930ec-bd0b-456f-ff7a-f12b644445b6"
      },
      "outputs": [
        {
          "data": {
            "text/plain": [
              "'Thur'"
            ]
          },
          "execution_count": 19,
          "metadata": {},
          "output_type": "execute_result"
        }
      ],
      "source": [
        "days.pop()"
      ]
    },
    {
      "cell_type": "code",
      "execution_count": null,
      "id": "4c848f73",
      "metadata": {
        "id": "4c848f73"
      },
      "outputs": [],
      "source": [
        "days.remove('Mon')              # to remove a specific element from the set"
      ]
    },
    {
      "cell_type": "code",
      "execution_count": null,
      "id": "cb8b0116",
      "metadata": {
        "id": "cb8b0116",
        "outputId": "5d7b9aee-642a-4601-d0ba-686ee0208bb5"
      },
      "outputs": [
        {
          "data": {
            "text/plain": [
              "{'Fri', 'Sat', 'Sun', 'Tue', 'Wed'}"
            ]
          },
          "execution_count": 21,
          "metadata": {},
          "output_type": "execute_result"
        }
      ],
      "source": [
        "days"
      ]
    },
    {
      "cell_type": "code",
      "execution_count": null,
      "id": "88a2a75d",
      "metadata": {
        "id": "88a2a75d"
      },
      "outputs": [],
      "source": [
        "my_set = {1, 3}"
      ]
    },
    {
      "cell_type": "code",
      "execution_count": null,
      "id": "f7ae3290",
      "metadata": {
        "id": "f7ae3290",
        "outputId": "95a7341a-864e-436a-8104-f7cdfdd1b170"
      },
      "outputs": [
        {
          "name": "stdout",
          "output_type": "stream",
          "text": [
            "{1, 2, 3, 4}\n"
          ]
        }
      ],
      "source": [
        "# add multiple elements\n",
        "my_set.update([2, 3, 4])\n",
        "print(my_set)"
      ]
    },
    {
      "cell_type": "code",
      "execution_count": null,
      "id": "48084ded",
      "metadata": {
        "id": "48084ded",
        "outputId": "a86d72de-79b9-433b-b9ac-01a742f70cef"
      },
      "outputs": [
        {
          "name": "stdout",
          "output_type": "stream",
          "text": [
            "{1, 2, 3, 4, 5, 6, 8}\n"
          ]
        }
      ],
      "source": [
        "# add list and set\n",
        "my_set.update([4, 5], {1, 6, 8})\n",
        "print(my_set)"
      ]
    },
    {
      "cell_type": "code",
      "execution_count": null,
      "id": "82be8be3",
      "metadata": {
        "id": "82be8be3",
        "outputId": "aef763bc-49c9-45ea-d0be-b4111dca51d2"
      },
      "outputs": [
        {
          "name": "stdout",
          "output_type": "stream",
          "text": [
            "{1, 2, 3, 5, 6, 8}\n"
          ]
        }
      ],
      "source": [
        "# discard an element\n",
        "my_set.discard(4)\n",
        "print(my_set)"
      ]
    },
    {
      "cell_type": "code",
      "execution_count": null,
      "id": "b359f39f",
      "metadata": {
        "id": "b359f39f",
        "outputId": "d044c4ca-6a61-4354-a0e3-e79526f2bd6d"
      },
      "outputs": [
        {
          "name": "stdout",
          "output_type": "stream",
          "text": [
            "{1, 2, 3, 5, 8}\n"
          ]
        }
      ],
      "source": [
        "# remove an element\n",
        "my_set.remove(6)\n",
        "print(my_set)"
      ]
    },
    {
      "cell_type": "code",
      "execution_count": null,
      "id": "bd3f9a66",
      "metadata": {
        "id": "bd3f9a66",
        "outputId": "8a5dd5db-2f10-400a-bd95-0881feda61e7"
      },
      "outputs": [
        {
          "name": "stdout",
          "output_type": "stream",
          "text": [
            "{1, 2, 3, 5, 8}\n"
          ]
        }
      ],
      "source": [
        "# discard an element\n",
        "# not present in my_set\n",
        "my_set.discard(6)\n",
        "print(my_set)"
      ]
    },
    {
      "cell_type": "code",
      "execution_count": null,
      "id": "a25095f9",
      "metadata": {
        "id": "a25095f9",
        "outputId": "c4f9d3ed-b085-4b9c-ba5f-3a8d1cce8c8f"
      },
      "outputs": [
        {
          "ename": "KeyError",
          "evalue": "6",
          "output_type": "error",
          "traceback": [
            "\u001b[1;31m---------------------------------------------------------------------------\u001b[0m",
            "\u001b[1;31mKeyError\u001b[0m                                  Traceback (most recent call last)",
            "Input \u001b[1;32mIn [28]\u001b[0m, in \u001b[0;36m<cell line: 6>\u001b[1;34m()\u001b[0m\n\u001b[0;32m      1\u001b[0m \u001b[38;5;66;03m# remove an element\u001b[39;00m\n\u001b[0;32m      2\u001b[0m \u001b[38;5;66;03m# not present in my_set\u001b[39;00m\n\u001b[0;32m      3\u001b[0m \u001b[38;5;66;03m# you will get an error.\u001b[39;00m\n\u001b[0;32m      4\u001b[0m \u001b[38;5;66;03m# Output: KeyError\u001b[39;00m\n\u001b[1;32m----> 6\u001b[0m \u001b[43mmy_set\u001b[49m\u001b[38;5;241;43m.\u001b[39;49m\u001b[43mremove\u001b[49m\u001b[43m(\u001b[49m\u001b[38;5;241;43m6\u001b[39;49m\u001b[43m)\u001b[49m\n",
            "\u001b[1;31mKeyError\u001b[0m: 6"
          ]
        }
      ],
      "source": [
        "# remove an element\n",
        "# not present in my_set\n",
        "# you will get an error.\n",
        "# Output: KeyError\n",
        "\n",
        "my_set.remove(6)"
      ]
    },
    {
      "cell_type": "code",
      "execution_count": null,
      "id": "0c079f55",
      "metadata": {
        "id": "0c079f55",
        "outputId": "6e50f9e3-0047-47e1-cc3c-7d4fac198af2"
      },
      "outputs": [
        {
          "name": "stdout",
          "output_type": "stream",
          "text": [
            "set()\n"
          ]
        }
      ],
      "source": [
        "# clear my_set\n",
        "my_set.clear()\n",
        "print(my_set)"
      ]
    },
    {
      "cell_type": "code",
      "execution_count": null,
      "id": "47236204",
      "metadata": {
        "deletable": false,
        "editable": false,
        "id": "47236204"
      },
      "outputs": [],
      "source": [
        "#what is the difference between discard and remove\n",
        "\n",
        "Set_B ={4,5,6,7}"
      ]
    },
    {
      "cell_type": "code",
      "execution_count": null,
      "id": "b32dc936",
      "metadata": {
        "cellId": "w5",
        "deletable": false,
        "id": "b32dc936"
      },
      "outputs": [],
      "source": [
        "#answer here"
      ]
    },
    {
      "cell_type": "markdown",
      "id": "e677ff82",
      "metadata": {
        "id": "e677ff82"
      },
      "source": [
        "# Set Operations\n",
        "Sets can be used to carry out mathematical set operations like union, intersection, difference and symmetric difference. We can do this with operators or methods."
      ]
    },
    {
      "cell_type": "code",
      "execution_count": null,
      "id": "9eba333c",
      "metadata": {
        "id": "9eba333c"
      },
      "outputs": [],
      "source": [
        "set_A={1,2,5,6}\n",
        "set_B={1,2,7,8}"
      ]
    },
    {
      "cell_type": "markdown",
      "id": "c0978b58",
      "metadata": {
        "id": "c0978b58"
      },
      "source": [
        "# Set Union\n",
        "Union of set_A and set_B is a set of all elements from both sets.\n",
        "\n",
        "Union is performed using | operator. Same can be accomplished using the union() method."
      ]
    },
    {
      "cell_type": "code",
      "execution_count": null,
      "id": "62a2e33e",
      "metadata": {
        "id": "62a2e33e",
        "outputId": "a4f9e4fb-118c-485f-8a00-475c2e03e3a9"
      },
      "outputs": [
        {
          "data": {
            "text/plain": [
              "{1, 2, 5, 6, 7, 8}"
            ]
          },
          "execution_count": 31,
          "metadata": {},
          "output_type": "execute_result"
        }
      ],
      "source": [
        "set_A.union(set_B)"
      ]
    },
    {
      "cell_type": "code",
      "execution_count": null,
      "id": "aa7aa809",
      "metadata": {
        "id": "aa7aa809",
        "outputId": "ba1a0eb6-a748-47da-da2e-65c91c26fe0d"
      },
      "outputs": [
        {
          "data": {
            "text/plain": [
              "{1, 2, 5, 6, 7, 8}"
            ]
          },
          "execution_count": 32,
          "metadata": {},
          "output_type": "execute_result"
        }
      ],
      "source": [
        "set_A | set_B # Union"
      ]
    },
    {
      "cell_type": "markdown",
      "id": "0849fdd2",
      "metadata": {
        "id": "0849fdd2"
      },
      "source": [
        "# Set Intersection\n",
        "intersection of A and B is a set of elements that are common in both the sets.\n",
        "\n",
        "Intersection is performed using & operator. Same can be accomplished using the intersection() method."
      ]
    },
    {
      "cell_type": "code",
      "execution_count": null,
      "id": "068c35b9",
      "metadata": {
        "id": "068c35b9",
        "outputId": "90f1cde1-8a43-4cf5-b570-a651d4b96613"
      },
      "outputs": [
        {
          "data": {
            "text/plain": [
              "{1, 2}"
            ]
          },
          "execution_count": 33,
          "metadata": {},
          "output_type": "execute_result"
        }
      ],
      "source": [
        "set_A.intersection(set_B)\n"
      ]
    },
    {
      "cell_type": "code",
      "execution_count": null,
      "id": "0ae04a6a",
      "metadata": {
        "id": "0ae04a6a",
        "outputId": "fa4070cf-e02a-4db8-93bb-448c366d34b4"
      },
      "outputs": [
        {
          "data": {
            "text/plain": [
              "{1, 2}"
            ]
          },
          "execution_count": 34,
          "metadata": {},
          "output_type": "execute_result"
        }
      ],
      "source": [
        "set_A & set_B   # Intesection"
      ]
    },
    {
      "cell_type": "markdown",
      "id": "2b5ea253",
      "metadata": {
        "id": "2b5ea253"
      },
      "source": [
        "# Set Difference\n",
        "Difference of the set B from set A(A - B) is a set of elements that are only in A but not in B. Similarly, B - A is a set of elements in B but not in A.\n",
        "\n",
        "Difference is performed using - operator. Same can be accomplished using the difference() method."
      ]
    },
    {
      "cell_type": "code",
      "execution_count": null,
      "id": "9c8b9fde",
      "metadata": {
        "id": "9c8b9fde",
        "outputId": "0496c105-3cb3-4ea0-8ba6-5712bf5873c2"
      },
      "outputs": [
        {
          "data": {
            "text/plain": [
              "{5, 6}"
            ]
          },
          "execution_count": 36,
          "metadata": {},
          "output_type": "execute_result"
        }
      ],
      "source": [
        "set_A.difference(set_B)"
      ]
    },
    {
      "cell_type": "code",
      "execution_count": null,
      "id": "b47a5d0a",
      "metadata": {
        "id": "b47a5d0a",
        "outputId": "2c735fd3-cf09-4751-b29c-19ad72b45342"
      },
      "outputs": [
        {
          "data": {
            "text/plain": [
              "{7, 8}"
            ]
          },
          "execution_count": 37,
          "metadata": {},
          "output_type": "execute_result"
        }
      ],
      "source": [
        "set_B.difference(set_A)"
      ]
    },
    {
      "cell_type": "code",
      "execution_count": null,
      "id": "8cc209fd",
      "metadata": {
        "id": "8cc209fd",
        "outputId": "e227d167-5bed-4a7d-8dd4-9f057a2dba1c"
      },
      "outputs": [
        {
          "data": {
            "text/plain": [
              "{5, 6}"
            ]
          },
          "execution_count": 38,
          "metadata": {},
          "output_type": "execute_result"
        }
      ],
      "source": [
        "set_A-(set_B)"
      ]
    },
    {
      "cell_type": "code",
      "execution_count": null,
      "id": "b8dad21c",
      "metadata": {
        "id": "b8dad21c",
        "outputId": "548290d7-61b9-4763-bec5-8bf1c9e558dc"
      },
      "outputs": [
        {
          "data": {
            "text/plain": [
              "{7, 8}"
            ]
          },
          "execution_count": 39,
          "metadata": {},
          "output_type": "execute_result"
        }
      ],
      "source": [
        "set_B-(set_A)"
      ]
    },
    {
      "cell_type": "markdown",
      "id": "3de5d103",
      "metadata": {
        "id": "3de5d103"
      },
      "source": [
        "# Set Symmetric Difference\n",
        "Symmetric Difference of A and B is a set of elements in A and B but not in both (excluding the intersection).\n",
        "\n",
        "Symmetric difference is performed using ^ operator. Same can be accomplished using the method symmetric_difference()."
      ]
    },
    {
      "cell_type": "code",
      "execution_count": null,
      "id": "bf6bd616",
      "metadata": {
        "id": "bf6bd616",
        "outputId": "24474666-0977-458f-df22-bb6085f00bd1"
      },
      "outputs": [
        {
          "data": {
            "text/plain": [
              "{5, 6, 7, 8}"
            ]
          },
          "execution_count": 40,
          "metadata": {},
          "output_type": "execute_result"
        }
      ],
      "source": [
        "set_A.symmetric_difference(set_B)"
      ]
    },
    {
      "cell_type": "code",
      "execution_count": null,
      "id": "9bc65058",
      "metadata": {
        "id": "9bc65058",
        "outputId": "5ec853fc-b54f-4dc6-c83d-28c4cf5158b3"
      },
      "outputs": [
        {
          "data": {
            "text/plain": [
              "{5, 6, 7, 8}"
            ]
          },
          "execution_count": 41,
          "metadata": {},
          "output_type": "execute_result"
        }
      ],
      "source": [
        "set_A^(set_B)"
      ]
    },
    {
      "cell_type": "markdown",
      "id": "853debaa",
      "metadata": {
        "id": "853debaa"
      },
      "source": [
        "# Tuple"
      ]
    },
    {
      "cell_type": "markdown",
      "id": "9eb74eaa",
      "metadata": {
        "id": "9eb74eaa"
      },
      "source": [
        "A tuple in Python is similar to a list. The difference between the two is that we cannot change the elements of a tuple once it is assigned whereas we can change the elements of a list.\n",
        "\n",
        "A tuple is created by placing all the items (elements) inside parentheses (), separated by commas. The parentheses are optional, however, it is a good practice to use them."
      ]
    },
    {
      "cell_type": "code",
      "execution_count": null,
      "id": "51549c29",
      "metadata": {
        "id": "51549c29"
      },
      "outputs": [],
      "source": [
        "a=()"
      ]
    },
    {
      "cell_type": "code",
      "execution_count": null,
      "id": "c20f19bd",
      "metadata": {
        "id": "c20f19bd",
        "outputId": "f995889f-2cde-4fc8-df50-0b4c71e3445f"
      },
      "outputs": [
        {
          "data": {
            "text/plain": [
              "tuple"
            ]
          },
          "execution_count": 44,
          "metadata": {},
          "output_type": "execute_result"
        }
      ],
      "source": [
        "type(a)"
      ]
    },
    {
      "cell_type": "code",
      "execution_count": null,
      "id": "f194f090",
      "metadata": {
        "id": "f194f090",
        "outputId": "7eee8cfd-68b1-4676-f57f-e4f027b9a10d"
      },
      "outputs": [
        {
          "data": {
            "text/plain": [
              "int"
            ]
          },
          "execution_count": 45,
          "metadata": {},
          "output_type": "execute_result"
        }
      ],
      "source": [
        "b=(1)\n",
        "type(b)"
      ]
    },
    {
      "cell_type": "code",
      "execution_count": null,
      "id": "2bc31c7a",
      "metadata": {
        "id": "2bc31c7a",
        "outputId": "edaf80d2-c928-4e3f-c387-a5a074aa138e"
      },
      "outputs": [
        {
          "data": {
            "text/plain": [
              "str"
            ]
          },
          "execution_count": 46,
          "metadata": {},
          "output_type": "execute_result"
        }
      ],
      "source": [
        "c=('hello')\n",
        "type(c)"
      ]
    },
    {
      "cell_type": "code",
      "execution_count": null,
      "id": "b70f34ca",
      "metadata": {
        "id": "b70f34ca",
        "outputId": "bfa04019-3040-4178-f802-792f4bf961f1"
      },
      "outputs": [
        {
          "data": {
            "text/plain": [
              "tuple"
            ]
          },
          "execution_count": 47,
          "metadata": {},
          "output_type": "execute_result"
        }
      ],
      "source": [
        "b=(1,)\n",
        "type(b)"
      ]
    },
    {
      "cell_type": "code",
      "execution_count": null,
      "id": "6e11725d",
      "metadata": {
        "id": "6e11725d",
        "outputId": "20e54114-eb87-4e7b-a384-6e188dd07e2d"
      },
      "outputs": [
        {
          "data": {
            "text/plain": [
              "tuple"
            ]
          },
          "execution_count": 48,
          "metadata": {},
          "output_type": "execute_result"
        }
      ],
      "source": [
        "c=('hello',)\n",
        "type(c)"
      ]
    },
    {
      "cell_type": "code",
      "execution_count": null,
      "id": "34cc5afe",
      "metadata": {
        "id": "34cc5afe",
        "outputId": "57cc5c45-cfcb-49e8-fde9-be0f3fa61f7d"
      },
      "outputs": [
        {
          "data": {
            "text/plain": [
              "tuple"
            ]
          },
          "execution_count": 49,
          "metadata": {},
          "output_type": "execute_result"
        }
      ],
      "source": [
        "location=(56.5,78.9)    #Geographical Coordinates\n",
        "type(location)"
      ]
    },
    {
      "cell_type": "code",
      "execution_count": null,
      "id": "42ca90a9",
      "metadata": {
        "id": "42ca90a9",
        "outputId": "333b1513-48b5-46eb-cbf6-bf759d1df716"
      },
      "outputs": [
        {
          "data": {
            "text/plain": [
              "tuple"
            ]
          },
          "execution_count": 50,
          "metadata": {},
          "output_type": "execute_result"
        }
      ],
      "source": [
        "location1=56.5,78.9    # A tuple can also be created without using parentheses. This is known as tuple packing.\n",
        "type(location1)"
      ]
    },
    {
      "cell_type": "code",
      "execution_count": null,
      "id": "6b7e855e",
      "metadata": {
        "id": "6b7e855e",
        "outputId": "b456dce8-a2b4-4c39-dadc-d0587f5f22c1"
      },
      "outputs": [
        {
          "name": "stdout",
          "output_type": "stream",
          "text": [
            "(1, 'Hello', 3.4)\n"
          ]
        }
      ],
      "source": [
        "# tuple with mixed datatypes\n",
        "my_tuple = (1, \"Hello\", 3.4)\n",
        "print(my_tuple)"
      ]
    },
    {
      "cell_type": "code",
      "execution_count": null,
      "id": "35277d24",
      "metadata": {
        "id": "35277d24",
        "outputId": "82f0d996-cd79-4b1b-ab01-9594bfca8da1"
      },
      "outputs": [
        {
          "data": {
            "text/plain": [
              "tuple"
            ]
          },
          "execution_count": 52,
          "metadata": {},
          "output_type": "execute_result"
        }
      ],
      "source": [
        " # Tuples may be nest\n",
        " t = 12345, 54321, 'hello!'\n",
        " u = t, (1, 2, 3, 4, 5)\n",
        " type(u)"
      ]
    },
    {
      "cell_type": "code",
      "execution_count": null,
      "id": "38c2ea66",
      "metadata": {
        "deletable": false,
        "editable": false,
        "id": "38c2ea66"
      },
      "outputs": [],
      "source": [
        "t=[1,2,4,5,6]\n",
        "#create a tuple for the giving values in the below cell"
      ]
    },
    {
      "cell_type": "code",
      "execution_count": null,
      "id": "eaeae975",
      "metadata": {
        "cellId": "e5",
        "deletable": false,
        "id": "eaeae975"
      },
      "outputs": [],
      "source": [
        "#answer here"
      ]
    },
    {
      "cell_type": "markdown",
      "id": "8e7180f4",
      "metadata": {
        "id": "8e7180f4"
      },
      "source": [
        "# Tuple slicing and tuple operations\n",
        "We can use the index operator [] to access an item in a tuple, where the index starts from 0.\n",
        "\n",
        "So, a tuple having 6 elements will have indices from 0 to 5. Trying to access an index outside of the tuple index range(6,7,... in this example) will raise an IndexError.\n",
        "\n",
        "The index must be an integer, so we cannot use float or other types. This will result in TypeError.\n",
        "\n",
        "Likewise, nested tuples are accessed using nested indexing,"
      ]
    },
    {
      "cell_type": "code",
      "execution_count": null,
      "id": "9b8b634c",
      "metadata": {
        "id": "9b8b634c"
      },
      "outputs": [],
      "source": [
        "color_code=(110,25,255)   #RGB color Codes"
      ]
    },
    {
      "cell_type": "code",
      "execution_count": null,
      "id": "dbc6c5c6",
      "metadata": {
        "id": "dbc6c5c6"
      },
      "outputs": [],
      "source": [
        "green_col_code=color_code[1]                    # Grabing an element with index"
      ]
    },
    {
      "cell_type": "code",
      "execution_count": null,
      "id": "297e8402",
      "metadata": {
        "id": "297e8402",
        "outputId": "d364abd0-0712-44ac-94d3-e082a90a86e4"
      },
      "outputs": [
        {
          "data": {
            "text/plain": [
              "25"
            ]
          },
          "execution_count": 55,
          "metadata": {},
          "output_type": "execute_result"
        }
      ],
      "source": [
        "green_col_code"
      ]
    },
    {
      "cell_type": "code",
      "execution_count": null,
      "id": "71526b0f",
      "metadata": {
        "id": "71526b0f",
        "outputId": "e4f9e7e0-d7ff-4bec-f178-732353152130"
      },
      "outputs": [
        {
          "name": "stdout",
          "output_type": "stream",
          "text": [
            "(2, 3, 4, 5, 6, 7)\n"
          ]
        }
      ],
      "source": [
        "tuple = (1,2,3,4,5,6,7)\n",
        "#element 1 to end\n",
        "print(tuple[1:])"
      ]
    },
    {
      "cell_type": "code",
      "execution_count": null,
      "id": "e1fe9189",
      "metadata": {
        "id": "e1fe9189",
        "outputId": "06174365-fb9b-406e-e6e8-ddf99e8b173d"
      },
      "outputs": [
        {
          "name": "stdout",
          "output_type": "stream",
          "text": [
            "(4, 5, 6, 9)\n"
          ]
        }
      ],
      "source": [
        "x=(4,5,6,9,8,7)\n",
        "#element 0th index  to 3rd index element\n",
        "print(x[:4])\n"
      ]
    },
    {
      "cell_type": "code",
      "execution_count": null,
      "id": "8a40c649",
      "metadata": {
        "id": "8a40c649",
        "outputId": "5b4b08ce-a128-4e69-edf5-f160d99f2fb3"
      },
      "outputs": [
        {
          "name": "stdout",
          "output_type": "stream",
          "text": [
            "(5, 6, 9, 8)\n"
          ]
        }
      ],
      "source": [
        "#element 1st to 4th element\n",
        "print(x[1:5])"
      ]
    },
    {
      "cell_type": "code",
      "execution_count": null,
      "id": "dddbae7d",
      "metadata": {
        "id": "dddbae7d",
        "outputId": "91b7a304-57a0-4411-f9cf-fbff1d6157c9"
      },
      "outputs": [
        {
          "name": "stdout",
          "output_type": "stream",
          "text": [
            "(55, 85, 102, 650)\n"
          ]
        }
      ],
      "source": [
        "x=(55,66,85,98,102,210,650,980,780,650)\n",
        "# element 0th index to 6th index and take step of 2\n",
        "print(x[0:7:2])"
      ]
    },
    {
      "cell_type": "code",
      "execution_count": null,
      "id": "0e8d6eac",
      "metadata": {
        "id": "0e8d6eac",
        "outputId": "f1254bce-24c4-4202-a838-db59b033953b"
      },
      "outputs": [
        {
          "data": {
            "text/plain": [
              "5"
            ]
          },
          "execution_count": 60,
          "metadata": {},
          "output_type": "execute_result"
        }
      ],
      "source": [
        "tuple1 = (1, 2, 3,\"Mango\", 4, 5)\n",
        "# Negative indexing for accessing tuple elements\n",
        "tuple1[-1]"
      ]
    },
    {
      "cell_type": "code",
      "execution_count": null,
      "id": "31c5e8c5",
      "metadata": {
        "id": "31c5e8c5",
        "outputId": "8a26bf6e-e0b3-4776-d00b-e89fddb5cb47"
      },
      "outputs": [
        {
          "data": {
            "text/plain": [
              "('Mango', 4, 5)"
            ]
          },
          "execution_count": 61,
          "metadata": {},
          "output_type": "execute_result"
        }
      ],
      "source": [
        "tuple1[-3:]"
      ]
    },
    {
      "cell_type": "code",
      "execution_count": null,
      "id": "6819210b",
      "metadata": {
        "id": "6819210b",
        "outputId": "a6085085-2dce-4787-f704-716b20fc9707"
      },
      "outputs": [
        {
          "data": {
            "text/plain": [
              "(1, 2, 3, 4)"
            ]
          },
          "execution_count": 62,
          "metadata": {},
          "output_type": "execute_result"
        }
      ],
      "source": [
        "a=(1,2)\n",
        "b=a+(3,4)\n",
        "b"
      ]
    },
    {
      "cell_type": "code",
      "execution_count": null,
      "id": "b498adb6",
      "metadata": {
        "id": "b498adb6",
        "outputId": "4b6a8bd5-9e14-4897-9866-687158f26591"
      },
      "outputs": [
        {
          "data": {
            "text/plain": [
              "(1, 2, 1, 2)"
            ]
          },
          "execution_count": 63,
          "metadata": {},
          "output_type": "execute_result"
        }
      ],
      "source": [
        "a*2"
      ]
    },
    {
      "cell_type": "code",
      "execution_count": null,
      "id": "d1c864e2",
      "metadata": {
        "id": "d1c864e2",
        "outputId": "1083ad40-e7f8-4845-9d5b-f837c07dc803"
      },
      "outputs": [
        {
          "data": {
            "text/plain": [
              "(1, 2, 3, 4)"
            ]
          },
          "execution_count": 64,
          "metadata": {},
          "output_type": "execute_result"
        }
      ],
      "source": [
        "b"
      ]
    },
    {
      "cell_type": "code",
      "execution_count": null,
      "id": "8e95293c",
      "metadata": {
        "id": "8e95293c",
        "outputId": "3c1e1097-f9f0-4dd5-db4b-d669572a465f"
      },
      "outputs": [
        {
          "data": {
            "text/plain": [
              "1"
            ]
          },
          "execution_count": 65,
          "metadata": {},
          "output_type": "execute_result"
        }
      ],
      "source": [
        "b.index(2)       # to check the index of the specific element in the tuple"
      ]
    },
    {
      "cell_type": "code",
      "execution_count": null,
      "id": "f736d46f",
      "metadata": {
        "id": "f736d46f",
        "outputId": "4fbd9ed1-09f3-47e3-dff6-64bb1f9f6663"
      },
      "outputs": [
        {
          "data": {
            "text/plain": [
              "1"
            ]
          },
          "execution_count": 66,
          "metadata": {},
          "output_type": "execute_result"
        }
      ],
      "source": [
        "b.count(3)        # to count the number of the occurances of the element"
      ]
    },
    {
      "cell_type": "code",
      "execution_count": null,
      "id": "228add6f",
      "metadata": {
        "id": "228add6f",
        "outputId": "b4e52b48-b455-443c-a462-3145dcb9164b"
      },
      "outputs": [
        {
          "name": "stdout",
          "output_type": "stream",
          "text": [
            "Hello\n",
            "World\n",
            "!\n"
          ]
        }
      ],
      "source": [
        "# Iterating through the tuple\n",
        "a=(\"Hello\",\"World\",\"!\")\n",
        "for i in a:\n",
        "    print(i)"
      ]
    },
    {
      "cell_type": "markdown",
      "id": "15e9e000",
      "metadata": {
        "id": "15e9e000"
      },
      "source": [
        "# Dictionary"
      ]
    },
    {
      "cell_type": "markdown",
      "id": "619788a5",
      "metadata": {
        "id": "619788a5"
      },
      "source": [
        "Python dictionary is an unordered collection of items. Each item of a dictionary has a key/value pair.\n",
        "\n",
        "Dictionaries are optimized to retrieve values when the key is known.\n",
        "\n",
        "Unlike sequences, which are indexed by a range of numbers, dictionaries are indexed by keys, which can be any immutable type; strings and numbers can always be keys.\n",
        "\n",
        "Tuples can be used as keys if they contain only strings, numbers, or tuples; if a tuple contains any mutable object either directly or indirectly, it cannot be used as a key.\n",
        "\n",
        "You can’t use lists as keys, since lists can be modified in place using index assignments, slice assignments, or methods like append( ) and extend( ).\n",
        "\n",
        "Creating a dictionary is as simple as placing items inside curly braces { } separated by commas."
      ]
    },
    {
      "cell_type": "code",
      "execution_count": null,
      "id": "fd98f98c",
      "metadata": {
        "id": "fd98f98c",
        "outputId": "dd6c9585-9be2-4574-c8fc-5b137e575843"
      },
      "outputs": [
        {
          "name": "stdout",
          "output_type": "stream",
          "text": [
            "{}\n",
            "<class 'dict'>\n"
          ]
        }
      ],
      "source": [
        "# empty dictionary\n",
        "my_dict = {}\n",
        "print(my_dict)\n",
        "print(type(my_dict))"
      ]
    },
    {
      "cell_type": "code",
      "execution_count": null,
      "id": "22e4a62d",
      "metadata": {
        "id": "22e4a62d",
        "outputId": "f1b9dc1a-fda5-4705-a13c-628ee8df7ee3"
      },
      "outputs": [
        {
          "name": "stdout",
          "output_type": "stream",
          "text": [
            "{1: 'apple', 2: 'ball'}\n"
          ]
        }
      ],
      "source": [
        "# dictionary with integer keys\n",
        "my_dict = {1: 'apple', 2: 'ball'}\n",
        "print(my_dict)"
      ]
    },
    {
      "cell_type": "code",
      "execution_count": null,
      "id": "bb9ed7c1",
      "metadata": {
        "deletable": false,
        "editable": false,
        "id": "bb9ed7c1"
      },
      "outputs": [],
      "source": [
        "#create a dictinory and add few key and pair values and print it in below cell"
      ]
    },
    {
      "cell_type": "code",
      "execution_count": null,
      "id": "423fea86",
      "metadata": {
        "cellId": "r5",
        "deletable": false,
        "id": "423fea86"
      },
      "outputs": [],
      "source": [
        "#answer here"
      ]
    },
    {
      "cell_type": "code",
      "execution_count": null,
      "id": "0bd63391",
      "metadata": {
        "id": "0bd63391",
        "outputId": "62e26fc8-c82c-49c1-f4af-f27c8b1dcc77"
      },
      "outputs": [
        {
          "name": "stdout",
          "output_type": "stream",
          "text": [
            "{'name': 'John', 1: [2, 4, 3]}\n"
          ]
        }
      ],
      "source": [
        "# dictionary with mixed keys\n",
        "my_dict = {'name': 'John', 1: [2, 4, 3]}\n",
        "print(my_dict)"
      ]
    },
    {
      "cell_type": "code",
      "execution_count": null,
      "id": "616a33f6",
      "metadata": {
        "id": "616a33f6"
      },
      "outputs": [],
      "source": [
        "input_list=[[\"T'shirt\",300],[\"Watch\",900],[\"Hat\",200]]\n",
        "price_lookup=dict(input_list)"
      ]
    },
    {
      "cell_type": "code",
      "execution_count": null,
      "id": "612edba9",
      "metadata": {
        "id": "612edba9",
        "outputId": "b488b848-a242-4e50-e025-af5efc76d378"
      },
      "outputs": [
        {
          "data": {
            "text/plain": [
              "{\"T'shirt\": 300, 'Watch': 900, 'Hat': 200}"
            ]
          },
          "execution_count": 72,
          "metadata": {},
          "output_type": "execute_result"
        }
      ],
      "source": [
        "price_lookup"
      ]
    },
    {
      "cell_type": "markdown",
      "id": "681f7daa",
      "metadata": {
        "id": "681f7daa"
      },
      "source": [
        "# Accessing Elements from Dictionary\n",
        "While indexing is used with other data types to access values, a dictionary uses keys. Keys can be used either inside square brackets [] or with the get() method."
      ]
    },
    {
      "cell_type": "code",
      "execution_count": null,
      "id": "103acfd7",
      "metadata": {
        "id": "103acfd7",
        "outputId": "bf1cbdd8-c2a5-454a-f455-47fe57ee6b81"
      },
      "outputs": [
        {
          "data": {
            "text/plain": [
              "200"
            ]
          },
          "execution_count": 73,
          "metadata": {},
          "output_type": "execute_result"
        }
      ],
      "source": [
        "price_lookup['Hat']"
      ]
    },
    {
      "cell_type": "code",
      "execution_count": null,
      "id": "96185144",
      "metadata": {
        "id": "96185144",
        "outputId": "9ce838a8-1bc9-44c2-adfd-227824a23ec6"
      },
      "outputs": [
        {
          "data": {
            "text/plain": [
              "900"
            ]
          },
          "execution_count": 74,
          "metadata": {},
          "output_type": "execute_result"
        }
      ],
      "source": [
        "price_lookup['Watch']"
      ]
    },
    {
      "cell_type": "code",
      "execution_count": null,
      "id": "4c85fb9d",
      "metadata": {
        "id": "4c85fb9d",
        "outputId": "7c73b18d-70eb-4bd3-f878-c84ac780f7a8"
      },
      "outputs": [
        {
          "data": {
            "text/plain": [
              "900"
            ]
          },
          "execution_count": 75,
          "metadata": {},
          "output_type": "execute_result"
        }
      ],
      "source": [
        "price_lookup.get('Watch')"
      ]
    },
    {
      "cell_type": "markdown",
      "id": "1b1d8017",
      "metadata": {
        "id": "1b1d8017"
      },
      "source": [
        "# Changing and Adding Dictionary elements\n",
        "Dictionaries are mutable. We can add new items or change the value of existing items using an assignment operator.\n",
        "\n",
        "If the key is already present, then the existing value gets updated. In case the key is not present, a new (key: value) pair is added to the dictionary."
      ]
    },
    {
      "cell_type": "code",
      "execution_count": null,
      "id": "b652fef4",
      "metadata": {
        "id": "b652fef4"
      },
      "outputs": [],
      "source": [
        "price_lookup['Hat']=300"
      ]
    },
    {
      "cell_type": "code",
      "execution_count": null,
      "id": "91b760e5",
      "metadata": {
        "id": "91b760e5",
        "outputId": "ed85d7b7-609b-47e4-fa76-31515154c535"
      },
      "outputs": [
        {
          "data": {
            "text/plain": [
              "{\"T'shirt\": 300, 'Watch': 900, 'Hat': 300}"
            ]
          },
          "execution_count": 77,
          "metadata": {},
          "output_type": "execute_result"
        }
      ],
      "source": [
        "price_lookup"
      ]
    },
    {
      "cell_type": "code",
      "execution_count": null,
      "id": "d6b9a0b5",
      "metadata": {
        "id": "d6b9a0b5"
      },
      "outputs": [],
      "source": [
        "price_lookup['Shoes']=1500"
      ]
    },
    {
      "cell_type": "code",
      "execution_count": null,
      "id": "ead75cf6",
      "metadata": {
        "id": "ead75cf6",
        "outputId": "3fea5334-ba08-4880-ddae-51f2c141cb62"
      },
      "outputs": [
        {
          "data": {
            "text/plain": [
              "{\"T'shirt\": 300, 'Watch': 900, 'Hat': 300, 'Shoes': 1500}"
            ]
          },
          "execution_count": 79,
          "metadata": {},
          "output_type": "execute_result"
        }
      ],
      "source": [
        "price_lookup"
      ]
    },
    {
      "cell_type": "code",
      "execution_count": null,
      "id": "eac3814c",
      "metadata": {
        "id": "eac3814c"
      },
      "outputs": [],
      "source": [
        "price_lookup.update({\"Shoes\":2000})\n",
        "# update() method updates the dictionary with elements from a dictionary object or an iterable object of key/value pairs."
      ]
    },
    {
      "cell_type": "code",
      "execution_count": null,
      "id": "b59a1d2c",
      "metadata": {
        "id": "b59a1d2c",
        "outputId": "d3511fa4-78ee-4e57-d79a-eee446e6af6b"
      },
      "outputs": [
        {
          "data": {
            "text/plain": [
              "{\"T'shirt\": 300, 'Watch': 900, 'Hat': 300, 'Shoes': 2000}"
            ]
          },
          "execution_count": 81,
          "metadata": {},
          "output_type": "execute_result"
        }
      ],
      "source": [
        "price_lookup"
      ]
    },
    {
      "cell_type": "markdown",
      "id": "b64b9b2a",
      "metadata": {
        "id": "b64b9b2a"
      },
      "source": [
        "# Dictionary Operations\n",
        "We can remove a particular item in a dictionary by using the pop() method. This method removes an item with the provided key and returns the value.\n",
        "\n",
        "The popitem() method can be used to remove and return an arbitrary (key, value) item pair from the dictionary. All the items can be removed at once, using the clear() method.\n",
        "\n",
        "We can also use the del keyword to remove individual items or the entire dictionary itself."
      ]
    },
    {
      "cell_type": "code",
      "execution_count": null,
      "id": "7ee78947",
      "metadata": {
        "id": "7ee78947",
        "outputId": "93788607-12e6-40de-db76-af4b887752ab"
      },
      "outputs": [
        {
          "data": {
            "text/plain": [
              "{'fruit_1': 'banana', 'fruit_2': 'Orange', 'fruit_3': 'Mango'}"
            ]
          },
          "execution_count": 82,
          "metadata": {},
          "output_type": "execute_result"
        }
      ],
      "source": [
        "fruits=dict(fruit_1=\"banana\",fruit_2=\"Orange\",fruit_3=\"Mango\")\n",
        "fruits"
      ]
    },
    {
      "cell_type": "code",
      "execution_count": null,
      "id": "9c5409dc",
      "metadata": {
        "id": "9c5409dc",
        "outputId": "2a50ebf6-035b-4436-8589-d49c3321d279"
      },
      "outputs": [
        {
          "data": {
            "text/plain": [
              "{'fruit_1': 'banana', 'fruit_2': 'Orange', 'fruit_3': 'Mango'}"
            ]
          },
          "execution_count": 83,
          "metadata": {},
          "output_type": "execute_result"
        }
      ],
      "source": [
        "new_fruits=fruits.copy()\n",
        "new_fruits"
      ]
    },
    {
      "cell_type": "code",
      "execution_count": null,
      "id": "442403ed",
      "metadata": {
        "id": "442403ed",
        "outputId": "8ebd1b62-ea05-4476-8455-efcfcd03aa18"
      },
      "outputs": [
        {
          "data": {
            "text/plain": [
              "'Orange'"
            ]
          },
          "execution_count": 84,
          "metadata": {},
          "output_type": "execute_result"
        }
      ],
      "source": [
        "new_fruits.pop('fruit_2')"
      ]
    },
    {
      "cell_type": "code",
      "execution_count": null,
      "id": "8395d020",
      "metadata": {
        "id": "8395d020",
        "outputId": "4a8651be-264a-4ab9-a78f-8de168501d17"
      },
      "outputs": [
        {
          "data": {
            "text/plain": [
              "{'fruit_1': 'banana', 'fruit_3': 'Mango'}"
            ]
          },
          "execution_count": 85,
          "metadata": {},
          "output_type": "execute_result"
        }
      ],
      "source": [
        "new_fruits"
      ]
    },
    {
      "cell_type": "code",
      "execution_count": null,
      "id": "05075c27",
      "metadata": {
        "id": "05075c27",
        "outputId": "ed9d3464-fd84-43d8-efa0-f971398b48fa"
      },
      "outputs": [
        {
          "data": {
            "text/plain": [
              "('fruit_3', 'Mango')"
            ]
          },
          "execution_count": 86,
          "metadata": {},
          "output_type": "execute_result"
        }
      ],
      "source": [
        "new_fruits.popitem()"
      ]
    },
    {
      "cell_type": "code",
      "execution_count": null,
      "id": "7affba85",
      "metadata": {
        "id": "7affba85",
        "outputId": "718b58e1-8b1e-4145-85af-bfcf72a30f1a"
      },
      "outputs": [
        {
          "data": {
            "text/plain": [
              "{'fruit_1': 'banana'}"
            ]
          },
          "execution_count": 87,
          "metadata": {},
          "output_type": "execute_result"
        }
      ],
      "source": [
        "new_fruits"
      ]
    },
    {
      "cell_type": "code",
      "execution_count": null,
      "id": "0efaefac",
      "metadata": {
        "id": "0efaefac"
      },
      "outputs": [],
      "source": [
        "new_fruits.clear()"
      ]
    },
    {
      "cell_type": "code",
      "execution_count": null,
      "id": "11049c84",
      "metadata": {
        "id": "11049c84",
        "outputId": "42fb2f5b-1216-4de2-d876-4a42813859a2"
      },
      "outputs": [
        {
          "data": {
            "text/plain": [
              "{}"
            ]
          },
          "execution_count": 89,
          "metadata": {},
          "output_type": "execute_result"
        }
      ],
      "source": [
        "new_fruits"
      ]
    },
    {
      "cell_type": "code",
      "execution_count": null,
      "id": "21f6dd9e",
      "metadata": {
        "id": "21f6dd9e"
      },
      "outputs": [],
      "source": [
        "new_fruits.update({\"fruit_4\":\"Lichi\",\"fruit_5\":\"Pinaaple\"})          # to add new dictionary in to old dictionary"
      ]
    },
    {
      "cell_type": "code",
      "execution_count": null,
      "id": "27b6d05d",
      "metadata": {
        "id": "27b6d05d",
        "outputId": "0ac4839c-7138-4f2c-fb8c-bcd0230535bb"
      },
      "outputs": [
        {
          "data": {
            "text/plain": [
              "{'fruit_4': 'Lichi', 'fruit_5': 'Pinaaple'}"
            ]
          },
          "execution_count": 91,
          "metadata": {},
          "output_type": "execute_result"
        }
      ],
      "source": [
        "new_fruits"
      ]
    },
    {
      "cell_type": "code",
      "execution_count": null,
      "id": "8222d5f9",
      "metadata": {
        "id": "8222d5f9"
      },
      "outputs": [],
      "source": [
        "del new_fruits['fruit_4']                                           # to delete a specific k:v pair"
      ]
    },
    {
      "cell_type": "code",
      "execution_count": null,
      "id": "9218cae2",
      "metadata": {
        "id": "9218cae2",
        "outputId": "ada64b64-0874-4240-cf71-2711f3bc6f30"
      },
      "outputs": [
        {
          "data": {
            "text/plain": [
              "{'fruit_5': 'Pinaaple'}"
            ]
          },
          "execution_count": 93,
          "metadata": {},
          "output_type": "execute_result"
        }
      ],
      "source": [
        "new_fruits"
      ]
    },
    {
      "cell_type": "code",
      "execution_count": null,
      "id": "5ef8fa1c",
      "metadata": {
        "id": "5ef8fa1c"
      },
      "outputs": [],
      "source": [
        "del new_fruits                                              # to delete a dictionary"
      ]
    },
    {
      "cell_type": "code",
      "execution_count": null,
      "id": "a33020d6",
      "metadata": {
        "id": "a33020d6",
        "outputId": "a4f21fb9-eeb1-4d53-ab48-842caf691a8c"
      },
      "outputs": [
        {
          "ename": "NameError",
          "evalue": "name 'new_fruits' is not defined",
          "output_type": "error",
          "traceback": [
            "\u001b[1;31m---------------------------------------------------------------------------\u001b[0m",
            "\u001b[1;31mNameError\u001b[0m                                 Traceback (most recent call last)",
            "Input \u001b[1;32mIn [95]\u001b[0m, in \u001b[0;36m<cell line: 1>\u001b[1;34m()\u001b[0m\n\u001b[1;32m----> 1\u001b[0m \u001b[43mnew_fruits\u001b[49m\n",
            "\u001b[1;31mNameError\u001b[0m: name 'new_fruits' is not defined"
          ]
        }
      ],
      "source": [
        "new_fruits"
      ]
    },
    {
      "cell_type": "code",
      "execution_count": null,
      "id": "47b8e0ab",
      "metadata": {
        "id": "47b8e0ab",
        "outputId": "e9d47077-4226-4557-e4d1-f9a03c328a05"
      },
      "outputs": [
        {
          "data": {
            "text/plain": [
              "{'fruit_1': 'banana', 'fruit_2': 'Orange', 'fruit_3': 'Mango'}"
            ]
          },
          "execution_count": 96,
          "metadata": {},
          "output_type": "execute_result"
        }
      ],
      "source": [
        "fruits"
      ]
    },
    {
      "cell_type": "code",
      "execution_count": null,
      "id": "4410bf12",
      "metadata": {
        "id": "4410bf12",
        "outputId": "57c0de4d-b2de-44e6-f1ec-be88e2e1460c"
      },
      "outputs": [
        {
          "data": {
            "text/plain": [
              "dict_keys(['fruit_1', 'fruit_2', 'fruit_3'])"
            ]
          },
          "execution_count": 97,
          "metadata": {},
          "output_type": "execute_result"
        }
      ],
      "source": [
        "fruits.keys()"
      ]
    },
    {
      "cell_type": "code",
      "execution_count": null,
      "id": "d03e762d",
      "metadata": {
        "id": "d03e762d",
        "outputId": "62038b0b-649f-48cd-d9a1-ad4b9aa6759c"
      },
      "outputs": [
        {
          "data": {
            "text/plain": [
              "dict_values(['banana', 'Orange', 'Mango'])"
            ]
          },
          "execution_count": 98,
          "metadata": {},
          "output_type": "execute_result"
        }
      ],
      "source": [
        "fruits.values()"
      ]
    },
    {
      "cell_type": "code",
      "execution_count": null,
      "id": "2dc40efe",
      "metadata": {
        "id": "2dc40efe",
        "outputId": "a2ba5d86-e6c6-4956-d7b1-8729fe1f5ac7"
      },
      "outputs": [
        {
          "data": {
            "text/plain": [
              "dict_items([('fruit_1', 'banana'), ('fruit_2', 'Orange'), ('fruit_3', 'Mango')])"
            ]
          },
          "execution_count": 99,
          "metadata": {},
          "output_type": "execute_result"
        }
      ],
      "source": [
        "fruits.items()"
      ]
    },
    {
      "cell_type": "code",
      "execution_count": null,
      "id": "5264bdc3",
      "metadata": {
        "id": "5264bdc3",
        "outputId": "e06618a7-6a5c-48be-b8a0-422979b59a90"
      },
      "outputs": [
        {
          "name": "stdout",
          "output_type": "stream",
          "text": [
            "fruit_1\n",
            "fruit_2\n",
            "fruit_3\n"
          ]
        }
      ],
      "source": [
        "for i in fruits:\n",
        "    print(i)"
      ]
    },
    {
      "cell_type": "code",
      "execution_count": null,
      "id": "0edab72a",
      "metadata": {
        "id": "0edab72a",
        "outputId": "ecc83d82-8dd7-4dfc-963e-23bf6eff55f9"
      },
      "outputs": [
        {
          "name": "stdout",
          "output_type": "stream",
          "text": [
            "banana\n",
            "Orange\n",
            "Mango\n"
          ]
        }
      ],
      "source": [
        "for i in fruits.values():\n",
        "    print(i)"
      ]
    },
    {
      "cell_type": "code",
      "execution_count": null,
      "id": "ae7da88a",
      "metadata": {
        "id": "ae7da88a",
        "outputId": "bef1ed2b-6052-4e21-d859-5bfef8e0a011"
      },
      "outputs": [
        {
          "name": "stdout",
          "output_type": "stream",
          "text": [
            "fruit_1\n",
            "fruit_2\n",
            "fruit_3\n"
          ]
        }
      ],
      "source": [
        "for i in fruits.keys():\n",
        "    print(i)"
      ]
    },
    {
      "cell_type": "code",
      "execution_count": null,
      "id": "69d6fe92",
      "metadata": {
        "id": "69d6fe92",
        "outputId": "0d6db339-41ac-444c-a9e4-94c5679e8485"
      },
      "outputs": [
        {
          "name": "stdout",
          "output_type": "stream",
          "text": [
            "('fruit_1', 'banana')\n",
            "('fruit_2', 'Orange')\n",
            "('fruit_3', 'Mango')\n"
          ]
        }
      ],
      "source": [
        "for i in fruits.items():\n",
        "    print(i)"
      ]
    },
    {
      "cell_type": "markdown",
      "id": "b293d663",
      "metadata": {
        "id": "b293d663"
      },
      "source": [
        "# Array"
      ]
    },
    {
      "cell_type": "markdown",
      "id": "ef97e268",
      "metadata": {
        "id": "ef97e268"
      },
      "source": [
        "An array is a collection of items stored at contiguous memory locations. The idea is to store multiple items of the same type together. This makes it easier to calculate the position of each element by simply adding an offset to a base value, i.e., the memory location of the first element of the array (generally denoted by the name of the array).\n",
        "\n",
        "For simplicity, we can think of an array a fleet of stairs where on each step is placed a value (let’s say one of your friends). Here, you can identify the location of any of your friends by simply knowing the count of the step they are on.\n",
        "\n",
        "Array can be handled in Python by a module named array. They can be useful when we have to manipulate only a specific data type values.\n",
        "\n",
        "A user can treat lists as arrays. However, user cannot constraint the type of elements stored in a list.\n",
        "\n",
        "If you create arrays using the array module, all elements of the array must be of the same type."
      ]
    },
    {
      "cell_type": "code",
      "execution_count": null,
      "id": "34c7a86f",
      "metadata": {
        "id": "34c7a86f",
        "outputId": "78afc20e-52bf-4d49-def7-83f3a48a65b4"
      },
      "outputs": [
        {
          "name": "stdout",
          "output_type": "stream",
          "text": [
            "array('i', [7, 2, 0, -8])\n",
            "<class 'array.array'>\n"
          ]
        }
      ],
      "source": [
        "# How to write an array\n",
        "import array                                # importing array module from python library\n",
        "\n",
        "arr = array.array('i', [7, 2, 0, -8])       # creating an array, mention the data type. here i is for integer\n",
        "print(arr)\n",
        "\n",
        "print(type(arr))"
      ]
    },
    {
      "cell_type": "code",
      "execution_count": null,
      "id": "56909c06",
      "metadata": {
        "id": "56909c06",
        "outputId": "46408c89-b8f8-453c-f954-b40b4c292886"
      },
      "outputs": [
        {
          "name": "stdout",
          "output_type": "stream",
          "text": [
            "array('f', [7.0, 2.0, 0.0, -8.0, 55.54999923706055])\n",
            "<class 'array.array'>\n"
          ]
        }
      ],
      "source": [
        "arr = array.array('f', [7, 2, 0, -8, 55.55])             # array doen't supprort different data types\n",
        "print(arr)                                               # f is for float\n",
        "\n",
        "print(type(arr))"
      ]
    },
    {
      "cell_type": "code",
      "execution_count": null,
      "id": "14904bc7",
      "metadata": {
        "id": "14904bc7",
        "outputId": "e4cd9f46-da91-45e9-cce8-4e67742c3130"
      },
      "outputs": [
        {
          "name": "stdout",
          "output_type": "stream",
          "text": [
            "6\n"
          ]
        }
      ],
      "source": [
        "# 1. Length => total number of elements inside the array\n",
        "# len(arrayName)\n",
        "\n",
        "a1 = array.array('i', [7,0,1,-6,-8,10])\n",
        "print(len(a1))"
      ]
    },
    {
      "cell_type": "code",
      "execution_count": null,
      "id": "10526c34",
      "metadata": {
        "id": "10526c34",
        "outputId": "64a796a8-e696-44ba-bd3d-3fa1ffdd310f"
      },
      "outputs": [
        {
          "name": "stdout",
          "output_type": "stream",
          "text": [
            "1\n",
            "10\n"
          ]
        }
      ],
      "source": [
        "# 2. Indexing => Return the element at defined position number\n",
        "# arrName[pos]\n",
        "#\n",
        "a1 = array.array('i', [7,0,1,-6,-8,10])\n",
        "print(a1[2])\n",
        "print(a1[-1])"
      ]
    },
    {
      "cell_type": "code",
      "execution_count": null,
      "id": "4ff5c2d4",
      "metadata": {
        "id": "4ff5c2d4",
        "outputId": "3b4dab5d-e8c2-465b-904b-57c0fe3ffe6b"
      },
      "outputs": [
        {
          "name": "stdout",
          "output_type": "stream",
          "text": [
            "array('i', [7, 0, 1, -6])\n"
          ]
        }
      ],
      "source": [
        "# 3. Slicing => Returns the chunk of array\n",
        "# arrName[start : end : step size]\n",
        "# start = 0\n",
        "# end = length of seq\n",
        "# step size = 1\n",
        "\n",
        "a1 = array.array('i', [7,0,1,-6,-8,10])\n",
        "print(a1[0 : 4])"
      ]
    },
    {
      "cell_type": "code",
      "execution_count": null,
      "id": "af2fe6b3",
      "metadata": {
        "id": "af2fe6b3",
        "outputId": "22858a67-63bb-4151-d17e-d3bc907dbd8c"
      },
      "outputs": [
        {
          "name": "stdout",
          "output_type": "stream",
          "text": [
            "array('i', [0, -6, 10])\n"
          ]
        }
      ],
      "source": [
        "# return the element at  odd pos only\n",
        "print(a1[1 : : 2])"
      ]
    },
    {
      "cell_type": "code",
      "execution_count": null,
      "id": "32407688",
      "metadata": {
        "id": "32407688",
        "outputId": "a25e9c3b-4616-4870-f735-b0eccc16d7b1"
      },
      "outputs": [
        {
          "name": "stdout",
          "output_type": "stream",
          "text": [
            "array('i', [7, 0, 1, -6, -8, 10, 7, 0, 1, -6, -8, 10])\n",
            "array('f', [0.20000000298023224, 5.199999809265137, -6.800000190734863, 4.199999809265137, 0.20000000298023224, 5.199999809265137, -6.800000190734863, 4.199999809265137])\n"
          ]
        }
      ],
      "source": [
        "# 4. Concatenation (+)\n",
        "\n",
        "a1 = array.array('i', [7,0,1,-6,-8,10])\n",
        "a2 = array.array(\"f\", [0.2, 5.2, -6.8, 4.2])\n",
        "# # print(a1 + a2)\n",
        "#\n",
        "print(a1 + a1)\n",
        "print(a2 + a2)"
      ]
    },
    {
      "cell_type": "code",
      "execution_count": null,
      "id": "437b4633",
      "metadata": {
        "id": "437b4633",
        "outputId": "72715dcb-eccd-4060-a651-c088aa0b844a"
      },
      "outputs": [
        {
          "name": "stdout",
          "output_type": "stream",
          "text": [
            "array('i', [7, 0, 1, -6, -8, 10, 7, 0, 1, -6, -8, 10, 7, 0, 1, -6, -8, 10, 7, 0, 1, -6, -8, 10, 7, 0, 1, -6, -8, 10])\n"
          ]
        }
      ],
      "source": [
        "# 5. Repitition (*)\n",
        "\n",
        "a1 = array.array('i', [7,0,1,-6,-8,10])\n",
        "print(a1 * 5)"
      ]
    },
    {
      "cell_type": "code",
      "execution_count": null,
      "id": "fe06bedd",
      "metadata": {
        "id": "fe06bedd",
        "outputId": "6163ed68-2910-460f-afa8-65a48c948834"
      },
      "outputs": [
        {
          "name": "stdout",
          "output_type": "stream",
          "text": [
            "array('i', [7, -6, 7, -6, 7, -6, 7, -6, 7, -6, 7, -6, 7, -6, 7, -6])\n"
          ]
        }
      ],
      "source": [
        "# repeat the elements 8 times which are at position multiple of 3\n",
        "\n",
        "print(a1[0 : : 3] * 8)"
      ]
    },
    {
      "cell_type": "code",
      "execution_count": null,
      "id": "c12b303a",
      "metadata": {
        "id": "c12b303a",
        "outputId": "f7cf244b-6d91-40b7-9f90-7b464c1433e5"
      },
      "outputs": [
        {
          "name": "stdout",
          "output_type": "stream",
          "text": [
            "False\n"
          ]
        }
      ],
      "source": [
        "# 6. Membership (in)\n",
        "# Return TRUE if element is present inside the array\n",
        "\n",
        "a1 = array.array('i', [7,0,1,-6,-8,10])\n",
        "print(900 in a1)\n",
        "# print(0 in a1)"
      ]
    },
    {
      "cell_type": "code",
      "execution_count": null,
      "id": "13d2b11a",
      "metadata": {
        "id": "13d2b11a"
      },
      "outputs": [],
      "source": []
    }
  ],
  "metadata": {
    "celltoolbar": "Edit Metadata",
    "kernelspec": {
      "display_name": "Python 3 (ipykernel)",
      "language": "python",
      "name": "python3"
    },
    "language_info": {
      "codemirror_mode": {
        "name": "ipython",
        "version": 3
      },
      "file_extension": ".py",
      "mimetype": "text/x-python",
      "name": "python",
      "nbconvert_exporter": "python",
      "pygments_lexer": "ipython3",
      "version": "3.11.1"
    },
    "colab": {
      "provenance": [],
      "include_colab_link": true
    }
  },
  "nbformat": 4,
  "nbformat_minor": 5
}