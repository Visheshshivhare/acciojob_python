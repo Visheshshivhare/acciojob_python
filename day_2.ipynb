{
 "cells": [
  {
   "cell_type": "code",
   "execution_count": null,
   "metadata": {},
   "outputs": [],
   "source": []
  },
  {
   "cell_type": "markdown",
   "metadata": {},
   "source": [
    "    if <condition>:\n",
    "        <if True statement>\n",
    "    elif <condition>:\n",
    "        <elif statement>\n",
    "    else:\n",
    "        <if_false statement>"
   ]
  },
  {
   "cell_type": "markdown",
   "metadata": {},
   "source": [
    "    Simple If"
   ]
  },
  {
   "cell_type": "code",
   "execution_count": 2,
   "metadata": {},
   "outputs": [
    {
     "name": "stdout",
     "output_type": "stream",
     "text": [
      "False\n"
     ]
    }
   ],
   "source": [
    "a=5\n",
    "b=7\n",
    "    \n",
    "if a==b:\n",
    "    print(True)\n",
    "else:\n",
    "    print(False)"
   ]
  },
  {
   "cell_type": "code",
   "execution_count": 4,
   "metadata": {},
   "outputs": [],
   "source": [
    "id=102\n",
    "if id==101:\n",
    "    print('Allowed')"
   ]
  },
  {
   "cell_type": "markdown",
   "metadata": {},
   "source": [
    "    Nested If"
   ]
  },
  {
   "cell_type": "markdown",
   "metadata": {},
   "source": [
    "we want to check if given no is positive, negative or 0"
   ]
  },
  {
   "cell_type": "code",
   "execution_count": 7,
   "metadata": {},
   "outputs": [],
   "source": [
    "no = int(input())"
   ]
  },
  {
   "cell_type": "code",
   "execution_count": 8,
   "metadata": {},
   "outputs": [
    {
     "data": {
      "text/plain": [
       "150"
      ]
     },
     "execution_count": 8,
     "metadata": {},
     "output_type": "execute_result"
    }
   ],
   "source": [
    "if no >0:\n",
    "    print('Positive')\n",
    "else:\n",
    "    if no==0:\n",
    "        print('Zero')\n",
    "    else:\n",
    "        print('Negative')"
   ]
  },
  {
   "cell_type": "markdown",
   "metadata": {},
   "source": [
    "    elif"
   ]
  },
  {
   "cell_type": "code",
   "execution_count": 11,
   "metadata": {},
   "outputs": [
    {
     "name": "stdout",
     "output_type": "stream",
     "text": [
      "Boring/Work Day\n"
     ]
    }
   ],
   "source": [
    "day=input()\n",
    "\n",
    "if day=='Sunday':\n",
    "    print('Funday')\n",
    "elif day=='Saturday':\n",
    "    print('Day before Funday')\n",
    "else:\n",
    "    print('Boring/Work Day')"
   ]
  },
  {
   "cell_type": "markdown",
   "metadata": {},
   "source": [
    "    Elif - Ladder"
   ]
  },
  {
   "cell_type": "markdown",
   "metadata": {},
   "source": [
    "    We want to give grade to the students\n",
    "    95> A\n",
    "    85> B\n",
    "    75> C\n",
    "    65> D\n",
    "    FAIL"
   ]
  },
  {
   "cell_type": "markdown",
   "metadata": {},
   "source": [
    "    Class A\n",
    "        Student A\n",
    "        Student B\n",
    "    Class B \n",
    "        Student C\n",
    "        Student D\n",
    "\n",
    "\n",
    "    Class A\n",
    "    Class B\n",
    "    Class C\n",
    "    Class D"
   ]
  },
  {
   "cell_type": "code",
   "execution_count": 5,
   "metadata": {},
   "outputs": [
    {
     "name": "stdout",
     "output_type": "stream",
     "text": [
      "Someone got this Fail\n"
     ]
    }
   ],
   "source": [
    "marks=float(input())\n",
    "\n",
    "grade='Fail'\n",
    "if marks>95:\n",
    "    grade='A'\n",
    "elif marks>85:\n",
    "    grade='B'\n",
    "elif marks>75:\n",
    "    grade='C'\n",
    "elif marks>65:\n",
    "    grade='D'\n",
    "    \n",
    "print(f'Someone got this {grade}')"
   ]
  },
  {
   "cell_type": "code",
   "execution_count": 12,
   "metadata": {},
   "outputs": [
    {
     "name": "stdout",
     "output_type": "stream",
     "text": [
      "pass\n"
     ]
    }
   ],
   "source": [
    "if 1==1:\n",
    "    pass\n",
    "    print('pass')"
   ]
  },
  {
   "cell_type": "markdown",
   "metadata": {},
   "source": [
    "    Control Statements\n",
    "        Loop\n",
    "            Infinity\n",
    "            Repetative\n",
    "\n",
    "        Initialization\n",
    "        Condition\n",
    "        Interation\n",
    "\n",
    "        Types of loops\n",
    "            while \n",
    "            for"
   ]
  },
  {
   "cell_type": "markdown",
   "metadata": {},
   "source": [
    "    <initialization>\n",
    "    while <condition>:\n",
    "        <while condtion is true statements>\n",
    "        <iteration>\n"
   ]
  },
  {
   "cell_type": "code",
   "execution_count": 16,
   "metadata": {},
   "outputs": [
    {
     "name": "stdout",
     "output_type": "stream",
     "text": [
      "10\n",
      "9\n",
      "8\n",
      "7\n",
      "6\n",
      "5\n",
      "4\n",
      "3\n",
      "2\n"
     ]
    }
   ],
   "source": [
    "no=10\n",
    "while  no>1:\n",
    "    print(no)\n",
    "    no=no-1"
   ]
  },
  {
   "cell_type": "markdown",
   "metadata": {},
   "source": [
    "    for <initialization> in <condition + iteration>:\n",
    "        <for statements when condition is true>"
   ]
  },
  {
   "cell_type": "markdown",
   "metadata": {},
   "source": [
    "    str[start_index:end_index:step]\n",
    "    range(start_index,end_index,step)\n",
    "    range(5)\n",
    "        if giving one argument - end_index\n",
    "        0 1 2 3 4\n",
    "    range(1,5)\n",
    "        1 2 3 4\n",
    "    range(1,10,2)\n",
    "        1 3 5 7 9"
   ]
  },
  {
   "cell_type": "markdown",
   "metadata": {},
   "source": [
    "    select * from table\n",
    "    where id in (1,2,3,4)"
   ]
  },
  {
   "cell_type": "code",
   "execution_count": 21,
   "metadata": {},
   "outputs": [
    {
     "name": "stdout",
     "output_type": "stream",
     "text": [
      "i = 0\n",
      "i = 1\n",
      "i = 2\n",
      "i = 3\n",
      "i = 4\n"
     ]
    }
   ],
   "source": [
    "for i in range(5):\n",
    "    print(\"i =\", i)"
   ]
  },
  {
   "cell_type": "code",
   "execution_count": 22,
   "metadata": {},
   "outputs": [
    {
     "name": "stdout",
     "output_type": "stream",
     "text": [
      "Iteration 1\n",
      "Iteration 2\n",
      "Iteration 3\n",
      "Iteration 4\n"
     ]
    }
   ],
   "source": [
    "for i in range(1,5):\n",
    "    print(\"Iteration\",i)"
   ]
  },
  {
   "cell_type": "markdown",
   "metadata": {},
   "source": [
    "    I want to print even nos between 0, 50"
   ]
  },
  {
   "cell_type": "code",
   "execution_count": 23,
   "metadata": {},
   "outputs": [
    {
     "name": "stdout",
     "output_type": "stream",
     "text": [
      "i =  0\n",
      "i =  2\n",
      "i =  4\n",
      "i =  6\n",
      "i =  8\n",
      "i =  10\n",
      "i =  12\n",
      "i =  14\n",
      "i =  16\n",
      "i =  18\n",
      "i =  20\n",
      "i =  22\n",
      "i =  24\n",
      "i =  26\n",
      "i =  28\n",
      "i =  30\n",
      "i =  32\n",
      "i =  34\n",
      "i =  36\n",
      "i =  38\n",
      "i =  40\n",
      "i =  42\n",
      "i =  44\n",
      "i =  46\n",
      "i =  48\n"
     ]
    }
   ],
   "source": [
    "for i in range(0,50,2):\n",
    "    print(\"i = \",i)"
   ]
  },
  {
   "cell_type": "markdown",
   "metadata": {},
   "source": [
    "  I want to print even nos between 0, 50"
   ]
  },
  {
   "cell_type": "code",
   "execution_count": 24,
   "metadata": {},
   "outputs": [
    {
     "name": "stdout",
     "output_type": "stream",
     "text": [
      "1\n",
      "3\n",
      "5\n",
      "7\n",
      "9\n",
      "11\n",
      "13\n",
      "15\n",
      "17\n",
      "19\n",
      "21\n",
      "23\n",
      "25\n",
      "27\n",
      "29\n",
      "31\n",
      "33\n",
      "35\n",
      "37\n",
      "39\n",
      "41\n",
      "43\n",
      "45\n",
      "47\n",
      "49\n"
     ]
    }
   ],
   "source": [
    "for i in range(1,50,2):\n",
    "    print(i)"
   ]
  },
  {
   "cell_type": "code",
   "execution_count": 25,
   "metadata": {},
   "outputs": [
    {
     "name": "stdout",
     "output_type": "stream",
     "text": [
      "5\n",
      "10\n",
      "15\n",
      "20\n",
      "25\n",
      "30\n",
      "35\n",
      "40\n",
      "45\n",
      "50\n"
     ]
    }
   ],
   "source": [
    "for i in range(5,51,5):\n",
    "    print(i)"
   ]
  },
  {
   "cell_type": "code",
   "execution_count": 26,
   "metadata": {},
   "outputs": [
    {
     "name": "stdout",
     "output_type": "stream",
     "text": [
      "50\n",
      "45\n",
      "40\n",
      "35\n",
      "30\n",
      "25\n",
      "20\n",
      "15\n",
      "10\n",
      "5\n"
     ]
    }
   ],
   "source": [
    "for i in range(50,4,-5):\n",
    "    print(i)"
   ]
  },
  {
   "cell_type": "code",
   "execution_count": 27,
   "metadata": {},
   "outputs": [],
   "source": [
    "str = 'Welcome to Acciojob'"
   ]
  },
  {
   "cell_type": "code",
   "execution_count": 29,
   "metadata": {},
   "outputs": [
    {
     "name": "stdout",
     "output_type": "stream",
     "text": [
      "W e l c o m e   t o   A c c i o j o b "
     ]
    }
   ],
   "source": [
    "for i in str:\n",
    "    print(i,end=' ')"
   ]
  },
  {
   "cell_type": "code",
   "execution_count": 30,
   "metadata": {},
   "outputs": [
    {
     "data": {
      "text/plain": [
       "19"
      ]
     },
     "execution_count": 30,
     "metadata": {},
     "output_type": "execute_result"
    }
   ],
   "source": [
    "len(str)"
   ]
  },
  {
   "cell_type": "markdown",
   "metadata": {},
   "source": [
    "    range(19)- 0 1 - 18"
   ]
  },
  {
   "cell_type": "code",
   "execution_count": 33,
   "metadata": {},
   "outputs": [
    {
     "name": "stdout",
     "output_type": "stream",
     "text": [
      "At 0 -> W\n",
      "At 1 -> e\n",
      "At 2 -> l\n",
      "At 3 -> c\n",
      "At 4 -> o\n",
      "At 5 -> m\n",
      "At 6 -> e\n",
      "At 7 ->  \n",
      "At 8 -> t\n",
      "At 9 -> o\n",
      "At 10 ->  \n",
      "At 11 -> A\n",
      "At 12 -> c\n",
      "At 13 -> c\n",
      "At 14 -> i\n",
      "At 15 -> o\n",
      "At 16 -> j\n",
      "At 17 -> o\n",
      "At 18 -> b\n"
     ]
    }
   ],
   "source": [
    "for  i in range(len(str)):\n",
    "    print(f'At {i} -> {str[i]}')"
   ]
  },
  {
   "cell_type": "code",
   "execution_count": 19,
   "metadata": {},
   "outputs": [
    {
     "name": "stdout",
     "output_type": "stream",
     "text": [
      "True\n"
     ]
    }
   ],
   "source": [
    "if 't' in str:\n",
    "    print('True')"
   ]
  },
  {
   "cell_type": "code",
   "execution_count": null,
   "metadata": {},
   "outputs": [],
   "source": [
    "if 't'=='W' or 't'=='e' or 't'=='l':\n",
    "    pass\n",
    "if 't'=='W'"
   ]
  },
  {
   "cell_type": "code",
   "execution_count": 20,
   "metadata": {},
   "outputs": [
    {
     "name": "stdout",
     "output_type": "stream",
     "text": [
      "True\n"
     ]
    }
   ],
   "source": [
    "if 1==2 or 1==3 or 1==5 or 1==1:\n",
    "    print(True)"
   ]
  },
  {
   "cell_type": "markdown",
   "metadata": {},
   "source": []
  },
  {
   "cell_type": "code",
   "execution_count": 58,
   "metadata": {},
   "outputs": [],
   "source": [
    "black_list_str='xyzmno'\n",
    "chk_str='abcvdefklndbfgopxy'\n",
    "most_wanted='v'"
   ]
  },
  {
   "cell_type": "code",
   "execution_count": null,
   "metadata": {},
   "outputs": [],
   "source": [
    "for i in range(len(chk_str)):     \n",
    "    print(f'{i} -> {chk_str[i]}')"
   ]
  },
  {
   "cell_type": "code",
   "execution_count": null,
   "metadata": {},
   "outputs": [],
   "source": [
    "    select * from table \n",
    "    where id in (1)"
   ]
  },
  {
   "cell_type": "code",
   "execution_count": 66,
   "metadata": {},
   "outputs": [
    {
     "name": "stdout",
     "output_type": "stream",
     "text": [
      "0 => a -> Not Blacklisted\n",
      "1 => b -> Not Blacklisted\n",
      "2 => c -> Not Blacklisted\n"
     ]
    }
   ],
   "source": [
    "for i in range(len(chk_str)):\n",
    "    if chk_str[i] not in black_list_str and chk_str[i] not in most_wanted: \n",
    "        print(f'{i} => {chk_str[i]} -> Not Blacklisted')        \n",
    "    elif chk_str[i] in black_list_str:        \n",
    "        print(i, '=> ',chk_str[i],' -> Blacklisted')    \n",
    "    elif chk_str[i]==most_wanted:\n",
    "        break\n",
    "        "
   ]
  },
  {
   "cell_type": "markdown",
   "metadata": {},
   "source": [
    "    Print odd no between 1 -50\n",
    "        don't print those ordd no's which are multiple of 3\n",
    "        i dont want to print any value if getting mutiple of 13"
   ]
  },
  {
   "cell_type": "markdown",
   "metadata": {},
   "source": [
    "    Continue will skip the iteration\n",
    "    break will break the loop which means it will come outside the loop"
   ]
  },
  {
   "cell_type": "code",
   "execution_count": 55,
   "metadata": {},
   "outputs": [
    {
     "name": "stdout",
     "output_type": "stream",
     "text": [
      "1\n",
      "5\n",
      "7\n",
      "11\n",
      "Outside the loop\n"
     ]
    }
   ],
   "source": [
    "for i in range(1,50,2):\n",
    "    if i % 3==0:\n",
    "        continue\n",
    "    elif i % 13 ==0:\n",
    "        break\n",
    "    print(i)\n",
    "    \n",
    "print('Outside the loop')"
   ]
  },
  {
   "cell_type": "code",
   "execution_count": 69,
   "metadata": {},
   "outputs": [
    {
     "data": {
      "text/plain": [
       "64"
      ]
     },
     "execution_count": 69,
     "metadata": {},
     "output_type": "execute_result"
    }
   ],
   "source": [
    "2**6"
   ]
  },
  {
   "cell_type": "code",
   "execution_count": 70,
   "metadata": {},
   "outputs": [
    {
     "name": "stdout",
     "output_type": "stream",
     "text": [
      "729\n",
      "729\n",
      "VERIFIED\n"
     ]
    }
   ],
   "source": [
    "a=int(input())\n",
    "b=int(input())\n",
    "lhs=(a+b)**3\n",
    "rhs=a**3+b**3+3*a**2*b+3*a*b**2\n",
    "print(lhs)\n",
    "print(rhs)\n",
    "if lhs==rhs:\n",
    "\tprint('VERIFIED')\n",
    "else:\n",
    "\tprint('NOT VERIFIED')\n"
   ]
  }
 ],
 "metadata": {
  "kernelspec": {
   "display_name": "Python 3",
   "language": "python",
   "name": "python3"
  },
  "language_info": {
   "codemirror_mode": {
    "name": "ipython",
    "version": 3
   },
   "file_extension": ".py",
   "mimetype": "text/x-python",
   "name": "python",
   "nbconvert_exporter": "python",
   "pygments_lexer": "ipython3",
   "version": "3.11.1"
  },
  "orig_nbformat": 4
 },
 "nbformat": 4,
 "nbformat_minor": 2
}
