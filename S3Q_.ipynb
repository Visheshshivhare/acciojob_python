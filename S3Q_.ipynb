{
  "cells": [
    {
      "cell_type": "markdown",
      "metadata": {
        "id": "view-in-github",
        "colab_type": "text"
      },
      "source": [
        "<a href=\"https://colab.research.google.com/github/starlordali4444/acciojob_python/blob/main/S3Q_.ipynb\" target=\"_parent\"><img src=\"https://colab.research.google.com/assets/colab-badge.svg\" alt=\"Open In Colab\"/></a>"
      ]
    },
    {
      "cell_type": "markdown",
      "id": "a2b9a937",
      "metadata": {
        "id": "a2b9a937"
      },
      "source": [
        "# Assignment Operators for increment and decrement"
      ]
    },
    {
      "cell_type": "code",
      "execution_count": null,
      "id": "627adfbc",
      "metadata": {
        "id": "627adfbc",
        "outputId": "494b22ab-b260-4127-e1e7-707eff51f33a"
      },
      "outputs": [
        {
          "name": "stdout",
          "output_type": "stream",
          "text": [
            "11\n"
          ]
        }
      ],
      "source": [
        "x=10\n",
        "x=x+1\n",
        "print(x)"
      ]
    },
    {
      "cell_type": "code",
      "execution_count": null,
      "id": "91b63ac7",
      "metadata": {
        "id": "91b63ac7",
        "outputId": "f2c0cee7-429a-409a-b713-7bd2c91e20d6"
      },
      "outputs": [
        {
          "name": "stdout",
          "output_type": "stream",
          "text": [
            "12\n"
          ]
        }
      ],
      "source": [
        "x+=1           #x=x+1\n",
        "print(x)"
      ]
    },
    {
      "cell_type": "code",
      "execution_count": null,
      "id": "742b0ccd",
      "metadata": {
        "id": "742b0ccd",
        "outputId": "34b8547b-4b7c-4237-9237-e69d3bba5899"
      },
      "outputs": [
        {
          "name": "stdout",
          "output_type": "stream",
          "text": [
            "22\n"
          ]
        }
      ],
      "source": [
        "x+=10           #x=x+10\n",
        "print(x)"
      ]
    },
    {
      "cell_type": "code",
      "execution_count": null,
      "id": "9f4763a8",
      "metadata": {
        "deletable": false,
        "editable": false,
        "id": "9f4763a8"
      },
      "outputs": [],
      "source": [
        "x=10\n",
        "x-=2    # x= x-2\n",
        "#find the value of x in output in the below cell"
      ]
    },
    {
      "cell_type": "code",
      "execution_count": null,
      "id": "1edceb49",
      "metadata": {
        "cellId": "q3",
        "deletable": false,
        "id": "1edceb49"
      },
      "outputs": [],
      "source": [
        "#answer here"
      ]
    },
    {
      "cell_type": "code",
      "execution_count": null,
      "id": "f0b6dc57",
      "metadata": {
        "id": "f0b6dc57",
        "outputId": "4f02866e-c368-4c7f-a6dc-a2b11e77351c"
      },
      "outputs": [
        {
          "name": "stdout",
          "output_type": "stream",
          "text": [
            "44\n"
          ]
        }
      ],
      "source": [
        "x*=2   # x=x*2\n",
        "print(x)"
      ]
    },
    {
      "cell_type": "code",
      "execution_count": null,
      "id": "03ff8eec",
      "metadata": {
        "id": "03ff8eec",
        "outputId": "030e6492-3a1d-49fb-8d59-5364545a4ead"
      },
      "outputs": [
        {
          "name": "stdout",
          "output_type": "stream",
          "text": [
            "22.0\n"
          ]
        }
      ],
      "source": [
        "x/=2  # x=x/2\n",
        "print(x)"
      ]
    },
    {
      "cell_type": "code",
      "execution_count": null,
      "id": "37dff781",
      "metadata": {
        "deletable": false,
        "editable": false,
        "id": "37dff781"
      },
      "outputs": [],
      "source": [
        "x//=3  # x= x//3\n",
        "#Find the value of x in the below cell"
      ]
    },
    {
      "cell_type": "code",
      "execution_count": null,
      "id": "1945d506",
      "metadata": {
        "cellId": "w3",
        "deletable": false,
        "id": "1945d506"
      },
      "outputs": [],
      "source": [
        "#answer here"
      ]
    },
    {
      "cell_type": "code",
      "execution_count": null,
      "id": "513f4f9f",
      "metadata": {
        "id": "513f4f9f",
        "outputId": "fbff6885-5e4c-4058-b6f8-d4327013b4c1"
      },
      "outputs": [
        {
          "name": "stdout",
          "output_type": "stream",
          "text": [
            "2.0\n"
          ]
        }
      ],
      "source": [
        "x%=4 # x=x%4\n",
        "print(x)"
      ]
    },
    {
      "cell_type": "code",
      "execution_count": null,
      "id": "6a67f354",
      "metadata": {
        "id": "6a67f354",
        "outputId": "28ec5926-5e1c-4677-fa10-ba55dfc3e51e"
      },
      "outputs": [
        {
          "data": {
            "text/plain": [
              "4.0"
            ]
          },
          "execution_count": 7,
          "metadata": {},
          "output_type": "execute_result"
        }
      ],
      "source": [
        "x**=2\n",
        "x"
      ]
    },
    {
      "cell_type": "markdown",
      "id": "608e389a",
      "metadata": {
        "id": "608e389a"
      },
      "source": [
        "# while loop"
      ]
    },
    {
      "cell_type": "markdown",
      "id": "b266c463",
      "metadata": {
        "id": "b266c463"
      },
      "source": [
        "Iteration with while loops\n",
        "Another powerful feature of programming languages, closely related to branching, is running one or more statements multiple times. This feature is often referred to as iteration on looping, and there are two ways to do this in Python: using while loops and for loops.\n",
        "\n",
        "while loops have the following syntax:\n",
        "\n",
        "while condition:\n",
        "    statement(s)"
      ]
    },
    {
      "cell_type": "code",
      "execution_count": null,
      "id": "1f3f583a",
      "metadata": {
        "id": "1f3f583a",
        "outputId": "f91eec31-ab23-4c37-e83f-31a71403e54b"
      },
      "outputs": [
        {
          "name": "stdout",
          "output_type": "stream",
          "text": [
            "1\n",
            "1\n",
            "1\n",
            "1\n",
            "1\n"
          ]
        }
      ],
      "source": [
        "i=0\n",
        "while i<5:\n",
        "    print(1)\n",
        "    i=i+1"
      ]
    },
    {
      "cell_type": "code",
      "execution_count": null,
      "id": "2b21583e",
      "metadata": {
        "id": "2b21583e"
      },
      "outputs": [],
      "source": [
        "i=0\n",
        "sum=0\n",
        "while i<=5:\n",
        "    sum=sum+i\n",
        "    i+=1"
      ]
    },
    {
      "cell_type": "code",
      "execution_count": null,
      "id": "16a974ed",
      "metadata": {
        "id": "16a974ed",
        "outputId": "d3e1f0ab-5098-43b7-ace1-90fad114d050"
      },
      "outputs": [
        {
          "name": "stdout",
          "output_type": "stream",
          "text": [
            "5\n",
            "The sum is 15\n"
          ]
        }
      ],
      "source": [
        "# Sum of natural numbers\n",
        "num = int(input())\n",
        "\n",
        "if num < 0:\n",
        "    print(\"Enter a positive number\")\n",
        "\n",
        "\n",
        "else:\n",
        "    sum = 0\n",
        "   # use while loop to iterate until zero\n",
        "    while(num > 0):\n",
        "        sum += num\n",
        "        num -= 1\n",
        "\n",
        "    print(\"The sum is\", sum)"
      ]
    },
    {
      "cell_type": "code",
      "execution_count": null,
      "id": "4430e3a1",
      "metadata": {
        "deletable": false,
        "editable": false,
        "id": "4430e3a1"
      },
      "outputs": [],
      "source": [
        "#write a python program using while loop make a simple calculator which calculate addition,mul,division,subtraction and give output based on user requirement"
      ]
    },
    {
      "cell_type": "code",
      "execution_count": null,
      "id": "6b155843",
      "metadata": {
        "cellId": "e3",
        "deletable": false,
        "id": "6b155843"
      },
      "outputs": [],
      "source": [
        "#answer here\n",
        "\n"
      ]
    },
    {
      "cell_type": "code",
      "execution_count": null,
      "id": "d7094389",
      "metadata": {
        "id": "d7094389",
        "outputId": "295debee-cedb-473a-8d2b-3e549c41c015"
      },
      "outputs": [
        {
          "name": "stdout",
          "output_type": "stream",
          "text": [
            "0  is  less than 5\n",
            "1  is  less than 5\n",
            "2  is  less than 5\n",
            "3  is  less than 5\n",
            "4  is  less than 5\n",
            "5  is not less than 5\n"
          ]
        }
      ],
      "source": [
        "count = 0\n",
        "while count < 5:\n",
        "   print (count, \" is  less than 5\")\n",
        "   count = count + 1\n",
        "else:\n",
        "   print (count, \" is not less than 5\")"
      ]
    },
    {
      "cell_type": "markdown",
      "id": "d264841e",
      "metadata": {
        "id": "d264841e"
      },
      "source": [
        "# Exception Handeling"
      ]
    },
    {
      "cell_type": "markdown",
      "id": "7afd1c9a",
      "metadata": {
        "id": "7afd1c9a"
      },
      "source": [
        "Error in Python can be of two types i.e. Syntax errors and Exceptions. Errors are the problems in a program due to which the program will stop the execution. On the other hand, exceptions are raised when some internal events occur which changes the normal flow of the program.\n",
        "\n",
        "Try and Except Statement\n",
        "\n",
        "Try and except statements are used to catch and handle exceptions in Python. statements that can raise exceptions are kept inside the try clause and the statements that handle the exception are written inside except clause."
      ]
    },
    {
      "cell_type": "code",
      "execution_count": null,
      "id": "105c9660",
      "metadata": {
        "id": "105c9660",
        "outputId": "0510096e-aa3d-4bb8-e421-20bfd0c3bb8b"
      },
      "outputs": [
        {
          "name": "stdout",
          "output_type": "stream",
          "text": [
            "Enter your Age: 40\n",
            "You are eligible for voting\n"
          ]
        }
      ],
      "source": [
        "# eligiblity check for voting\n",
        "age=int(input('Enter your Age: '))\n",
        "\n",
        "if age>=18:\n",
        "    print('You are eligible for voting')\n",
        "else:\n",
        "    print('You are not eligible for voting')"
      ]
    },
    {
      "cell_type": "code",
      "execution_count": null,
      "id": "00e0b7e3",
      "metadata": {
        "id": "00e0b7e3",
        "outputId": "460f330c-f281-4cd3-aa03-22c5bd978642"
      },
      "outputs": [
        {
          "name": "stdout",
          "output_type": "stream",
          "text": [
            " enter 1 for +\n",
            "    enter 2 for -\n",
            "    enter 3 fpr *\n",
            "    enter 4 for /5\n",
            "5\n",
            "Enter numbers only\n"
          ]
        }
      ],
      "source": [
        "try:\n",
        "    operartion= input(\"\"\" enter 1 for +\n",
        "    enter 2 for -\n",
        "    enter 3 fpr *\n",
        "    enter 4 for /\"\"\")\n",
        "\n",
        "    num1,num2=map(float,input().split())\n",
        "\n",
        "    if operartion=='1':\n",
        "        print(num1+num2)\n",
        "\n",
        "    elif operartion=='2':\n",
        "        print(num1-num2)\n",
        "\n",
        "    elif operartion=='3':\n",
        "        print(num1*num2)\n",
        "\n",
        "    elif operartion=='4':\n",
        "        print(num1/num2)\n",
        "except ZeroDivisionError:\n",
        "    print('Enter num2 value other than zero')\n",
        "\n",
        "except ValueError:\n",
        "    print('Enter numbers only')\n",
        "\n",
        "except:\n",
        "    print('enter valid syntax')\n",
        "\n",
        "else:\n",
        "    print('enter valid sequence of operation')"
      ]
    },
    {
      "cell_type": "markdown",
      "id": "949fb5eb",
      "metadata": {
        "id": "949fb5eb"
      },
      "source": [
        "# try and finally\n",
        "The try statement in Python can have an optional finally clause. This clause is executed no matter what, and is generally used to release external resources."
      ]
    },
    {
      "cell_type": "code",
      "execution_count": null,
      "id": "8266e99d",
      "metadata": {
        "id": "8266e99d",
        "outputId": "75b80a37-5125-4776-de9f-4c0ef2a008fa"
      },
      "outputs": [
        {
          "name": "stdout",
          "output_type": "stream",
          "text": [
            "C is not greater\n",
            "Enter valid number\n",
            "finally I am here\n"
          ]
        }
      ],
      "source": [
        "a=3\n",
        "b=6\n",
        "c=0\n",
        "\n",
        "try:\n",
        "    if c>10:\n",
        "        print('c is greater')\n",
        "    else:\n",
        "        print('C is not greater')\n",
        "except ZeroDivisionError:\n",
        "    print('This is exception')\n",
        "else:\n",
        "    print('Enter valid number')\n",
        "finally:\n",
        "    print('finally I am here')"
      ]
    },
    {
      "cell_type": "markdown",
      "id": "ada44035",
      "metadata": {
        "id": "ada44035"
      },
      "source": [
        "# Raising Exceptions\n",
        "In Python programming, exceptions are raised when errors occur at runtime. We can also manually raise exceptions using the raise keyword.\n",
        "\n",
        "We can optionally pass values to the exception to clarify why that exception was raised."
      ]
    },
    {
      "cell_type": "code",
      "execution_count": null,
      "id": "44e534e1",
      "metadata": {
        "id": "44e534e1",
        "outputId": "dde1ba5c-1131-4554-a54f-b5e24c968305"
      },
      "outputs": [
        {
          "name": "stdout",
          "output_type": "stream",
          "text": [
            "Enter a positive integer: 5\n"
          ]
        }
      ],
      "source": [
        "a = int(input(\"Enter a positive integer: \"))\n",
        "if a <= 0:\n",
        "    raise ValueError(\"That is not a positive number!\")"
      ]
    },
    {
      "cell_type": "code",
      "execution_count": null,
      "id": "33a9093f",
      "metadata": {
        "id": "33a9093f",
        "outputId": "676960b8-0108-4ce1-8ad7-f904cde5e229"
      },
      "outputs": [
        {
          "name": "stdout",
          "output_type": "stream",
          "text": [
            "Enter a positive integer: 7\n"
          ]
        }
      ],
      "source": [
        "a = int(input(\"Enter a positive integer: \"))\n",
        "if a <= 0:\n",
        "    raise ZeroDivisionError(\"That is not a positive number!\")"
      ]
    },
    {
      "cell_type": "code",
      "execution_count": null,
      "id": "25e23b8f",
      "metadata": {
        "id": "25e23b8f",
        "outputId": "650d68a0-21ca-46b7-ca71-edf16dc307af"
      },
      "outputs": [
        {
          "name": "stdout",
          "output_type": "stream",
          "text": [
            "Enter 1st number:7\n",
            "Enter 2nd number:8\n",
            "Division of a= 7.0 and b= 8.0 is c= 0.88\n"
          ]
        }
      ],
      "source": [
        "while True:\n",
        "    try:\n",
        "        a=float(input(\"Enter 1st number:\"))\n",
        "        b=float(input(\"Enter 2nd number:\"))\n",
        "        c=a/b\n",
        "        print(\"Division of a=\",a,\"and b=\",b,\"is c=\",round(c,2))\n",
        "        break\n",
        "    except Exception:\n",
        "        print(\"Something is wrong. Please try again.\")"
      ]
    },
    {
      "cell_type": "code",
      "execution_count": null,
      "id": "35a77509",
      "metadata": {
        "deletable": false,
        "id": "35a77509"
      },
      "outputs": [],
      "source": [
        "#Take two numbers from the user and divide them if denominotor is zero  use zerodivisionerror functionality and print the result."
      ]
    },
    {
      "cell_type": "code",
      "execution_count": null,
      "id": "99569ffc",
      "metadata": {
        "cellId": "r3",
        "deletable": false,
        "id": "99569ffc"
      },
      "outputs": [],
      "source": [
        "#answer here"
      ]
    }
  ],
  "metadata": {
    "celltoolbar": "Edit Metadata",
    "kernelspec": {
      "display_name": "Python 3 (ipykernel)",
      "language": "python",
      "name": "python3"
    },
    "language_info": {
      "codemirror_mode": {
        "name": "ipython",
        "version": 3
      },
      "file_extension": ".py",
      "mimetype": "text/x-python",
      "name": "python",
      "nbconvert_exporter": "python",
      "pygments_lexer": "ipython3",
      "version": "3.9.12"
    },
    "colab": {
      "provenance": [],
      "include_colab_link": true
    }
  },
  "nbformat": 4,
  "nbformat_minor": 5
}