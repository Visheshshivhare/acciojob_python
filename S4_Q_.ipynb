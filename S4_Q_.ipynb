{
  "cells": [
    {
      "cell_type": "markdown",
      "metadata": {
        "id": "view-in-github",
        "colab_type": "text"
      },
      "source": [
        "<a href=\"https://colab.research.google.com/github/starlordali4444/acciojob_python/blob/main/S4_Q_.ipynb\" target=\"_parent\"><img src=\"https://colab.research.google.com/assets/colab-badge.svg\" alt=\"Open In Colab\"/></a>"
      ]
    },
    {
      "cell_type": "markdown",
      "id": "7d41d282",
      "metadata": {
        "id": "7d41d282"
      },
      "source": [
        "# Data Structures in Python"
      ]
    },
    {
      "cell_type": "markdown",
      "id": "dcc1769f",
      "metadata": {
        "id": "dcc1769f"
      },
      "source": [
        "Data Structures are a way of organizing data so that it can be accessed more efficiently depending upon the situation. Data Structures are fundamentals of any programming language around which a program is built."
      ]
    },
    {
      "cell_type": "markdown",
      "id": "28a746b8",
      "metadata": {
        "id": "28a746b8"
      },
      "source": [
        "# List"
      ]
    },
    {
      "cell_type": "markdown",
      "id": "59a6ce29",
      "metadata": {
        "id": "59a6ce29"
      },
      "source": [
        "Python Lists are just like the arrays, declared in other languages which is an ordered collection of data. It is very flexible as the items in a list do not need to be of the same type.\n",
        "\n",
        "A list is created by placing elements inside square brackets '[ ]' , separated by commas. A list can have any number of items and they may be of different types (integer, float, string, etc.). A list can also have another list as an item."
      ]
    },
    {
      "cell_type": "markdown",
      "id": "e67f4700",
      "metadata": {
        "id": "e67f4700"
      },
      "source": [
        "Access List Elements\n",
        "\n",
        "There are various ways in which we can access the elements of a list. List Index\n",
        "\n",
        "We can use the index operator '[ ]' to access an item in a list. In Python, indices start at 0. So, a list having 5 elements will have an index from 0 to 4.\n",
        "\n",
        "Trying to access indexes other than these will raise an IndexError. The index must be an integer. We can't use float or other types, this will result in TypeError.\n",
        "\n",
        "Nested lists are accessed using nested indexing."
      ]
    },
    {
      "cell_type": "markdown",
      "id": "4d92236c",
      "metadata": {
        "id": "4d92236c"
      },
      "source": [
        "Python allows negative indexing for its sequences. The index of -1 refers to the last item, -2 to the second last item and so on."
      ]
    },
    {
      "cell_type": "code",
      "execution_count": null,
      "id": "699593ee",
      "metadata": {
        "id": "699593ee"
      },
      "outputs": [],
      "source": [
        "a=[]            # Empty list"
      ]
    },
    {
      "cell_type": "code",
      "execution_count": null,
      "id": "9e6ec8f6",
      "metadata": {
        "id": "9e6ec8f6",
        "outputId": "27eeecf0-6ab7-4ab5-8ce9-c5971aaf460b"
      },
      "outputs": [
        {
          "data": {
            "text/plain": [
              "list"
            ]
          },
          "execution_count": 3,
          "metadata": {},
          "output_type": "execute_result"
        }
      ],
      "source": [
        "type(a)"
      ]
    },
    {
      "cell_type": "code",
      "execution_count": null,
      "id": "66373cda",
      "metadata": {
        "id": "66373cda"
      },
      "outputs": [],
      "source": [
        "a.append('Ankit')       # to add element in the list use append()"
      ]
    },
    {
      "cell_type": "code",
      "execution_count": null,
      "id": "ebf0187d",
      "metadata": {
        "id": "ebf0187d",
        "outputId": "d9e07413-5fcf-4c34-9456-49e8a1206b92"
      },
      "outputs": [
        {
          "data": {
            "text/plain": [
              "['Ankit']"
            ]
          },
          "execution_count": 5,
          "metadata": {},
          "output_type": "execute_result"
        }
      ],
      "source": [
        "a"
      ]
    },
    {
      "cell_type": "code",
      "execution_count": null,
      "id": "b0d397fb",
      "metadata": {
        "id": "b0d397fb"
      },
      "outputs": [],
      "source": [
        "a.append('Rakshita')"
      ]
    },
    {
      "cell_type": "code",
      "execution_count": null,
      "id": "3e6f59c9",
      "metadata": {
        "id": "3e6f59c9",
        "outputId": "2f81efc3-f5b9-48bf-d7fb-afab2d05a23a"
      },
      "outputs": [
        {
          "data": {
            "text/plain": [
              "['Ankit', 'Rakshita']"
            ]
          },
          "execution_count": 7,
          "metadata": {},
          "output_type": "execute_result"
        }
      ],
      "source": [
        "a"
      ]
    },
    {
      "cell_type": "code",
      "execution_count": null,
      "id": "e549e2ed",
      "metadata": {
        "id": "e549e2ed"
      },
      "outputs": [],
      "source": [
        "a.append('Medhir')"
      ]
    },
    {
      "cell_type": "code",
      "execution_count": null,
      "id": "3b9ec855",
      "metadata": {
        "id": "3b9ec855",
        "outputId": "65bf4b00-275f-4e0b-a3a1-e93ffaa5dcc9"
      },
      "outputs": [
        {
          "data": {
            "text/plain": [
              "['Ankit', 'Rakshita', 'Medhir']"
            ]
          },
          "execution_count": 9,
          "metadata": {},
          "output_type": "execute_result"
        }
      ],
      "source": [
        "a"
      ]
    },
    {
      "cell_type": "code",
      "execution_count": null,
      "id": "c5e009d9",
      "metadata": {
        "id": "c5e009d9",
        "outputId": "9abff265-c2bc-4c28-9c88-0270792ca8d8"
      },
      "outputs": [
        {
          "name": "stdout",
          "output_type": "stream",
          "text": [
            "['Ankit', 'Rakshita', 'Medhir']\n"
          ]
        }
      ],
      "source": [
        "print(a)"
      ]
    },
    {
      "cell_type": "code",
      "execution_count": null,
      "id": "4300b372",
      "metadata": {
        "id": "4300b372"
      },
      "outputs": [],
      "source": [
        "a=[]\n",
        "a.append('Shirt')"
      ]
    },
    {
      "cell_type": "code",
      "execution_count": null,
      "id": "d11e5fbc",
      "metadata": {
        "id": "d11e5fbc",
        "outputId": "75432d3a-77f2-4a76-e553-b2d5a1a93c16"
      },
      "outputs": [
        {
          "data": {
            "text/plain": [
              "['Shirt']"
            ]
          },
          "execution_count": 12,
          "metadata": {},
          "output_type": "execute_result"
        }
      ],
      "source": [
        "a"
      ]
    },
    {
      "cell_type": "code",
      "execution_count": null,
      "id": "bc19f2a9",
      "metadata": {
        "id": "bc19f2a9",
        "outputId": "a72f6df9-2cae-4acd-84b9-2e92ab12f0ee"
      },
      "outputs": [
        {
          "ename": "TypeError",
          "evalue": "can only concatenate list (not \"str\") to list",
          "output_type": "error",
          "traceback": [
            "\u001b[1;31m---------------------------------------------------------------------------\u001b[0m",
            "\u001b[1;31mTypeError\u001b[0m                                 Traceback (most recent call last)",
            "Input \u001b[1;32mIn [13]\u001b[0m, in \u001b[0;36m<cell line: 1>\u001b[1;34m()\u001b[0m\n\u001b[1;32m----> 1\u001b[0m a\u001b[38;5;241m=\u001b[39m\u001b[43ma\u001b[49m\u001b[38;5;241;43m+\u001b[39;49m\u001b[38;5;124;43m'\u001b[39;49m\u001b[38;5;124;43mPant\u001b[39;49m\u001b[38;5;124;43m'\u001b[39;49m\n",
            "\u001b[1;31mTypeError\u001b[0m: can only concatenate list (not \"str\") to list"
          ]
        }
      ],
      "source": [
        "a=a+'Pant'       # can't concatenate string to list"
      ]
    },
    {
      "cell_type": "code",
      "execution_count": null,
      "id": "53066d67",
      "metadata": {
        "id": "53066d67"
      },
      "outputs": [],
      "source": [
        "a=a+['Pant']           # concatenate list to the list"
      ]
    },
    {
      "cell_type": "code",
      "execution_count": null,
      "id": "1520f3af",
      "metadata": {
        "id": "1520f3af",
        "outputId": "3de87f74-8ce0-49a0-ccd9-98422e916337"
      },
      "outputs": [
        {
          "data": {
            "text/plain": [
              "['Shirt', 'Pant']"
            ]
          },
          "execution_count": 15,
          "metadata": {},
          "output_type": "execute_result"
        }
      ],
      "source": [
        "a"
      ]
    },
    {
      "cell_type": "code",
      "execution_count": null,
      "id": "feacb06b",
      "metadata": {
        "id": "feacb06b",
        "outputId": "cf910332-d852-40dd-9ebb-efc2da54a583"
      },
      "outputs": [
        {
          "data": {
            "text/plain": [
              "['Shirt', 'Pant', 'Jeans']"
            ]
          },
          "execution_count": 16,
          "metadata": {},
          "output_type": "execute_result"
        }
      ],
      "source": [
        "a+['Jeans']"
      ]
    },
    {
      "cell_type": "code",
      "execution_count": null,
      "id": "cd39e078",
      "metadata": {
        "id": "cd39e078",
        "outputId": "2b080cf1-d76a-475d-a6ef-ea7351f98bdd"
      },
      "outputs": [
        {
          "data": {
            "text/plain": [
              "['Shirt', 'Pant']"
            ]
          },
          "execution_count": 17,
          "metadata": {},
          "output_type": "execute_result"
        }
      ],
      "source": [
        "a"
      ]
    },
    {
      "cell_type": "code",
      "execution_count": null,
      "id": "5f1a44aa",
      "metadata": {
        "id": "5f1a44aa"
      },
      "outputs": [],
      "source": [
        "a=a+[\"Shoes\",\"Tshirt\"]"
      ]
    },
    {
      "cell_type": "code",
      "execution_count": null,
      "id": "731ce051",
      "metadata": {
        "id": "731ce051",
        "outputId": "c8b196da-9b9f-4d58-aa9a-e659dbbfcca8"
      },
      "outputs": [
        {
          "data": {
            "text/plain": [
              "['Shirt', 'Pant', 'Shoes', 'Tshirt']"
            ]
          },
          "execution_count": 19,
          "metadata": {},
          "output_type": "execute_result"
        }
      ],
      "source": [
        "a"
      ]
    },
    {
      "cell_type": "code",
      "execution_count": null,
      "id": "2be35a72",
      "metadata": {
        "id": "2be35a72",
        "outputId": "2325fc63-3617-432e-8aa6-625381a1c8e1"
      },
      "outputs": [
        {
          "data": {
            "text/plain": [
              "'Tshirt'"
            ]
          },
          "execution_count": 20,
          "metadata": {},
          "output_type": "execute_result"
        }
      ],
      "source": [
        "a.pop()   # to remove the item from the end"
      ]
    },
    {
      "cell_type": "code",
      "execution_count": null,
      "id": "5e68f05b",
      "metadata": {
        "id": "5e68f05b",
        "outputId": "0c8431d4-a8e9-4c89-8a3f-4c1382763040"
      },
      "outputs": [
        {
          "data": {
            "text/plain": [
              "['Shirt', 'Pant', 'Shoes']"
            ]
          },
          "execution_count": 21,
          "metadata": {},
          "output_type": "execute_result"
        }
      ],
      "source": [
        "a"
      ]
    },
    {
      "cell_type": "code",
      "execution_count": null,
      "id": "78a69080",
      "metadata": {
        "id": "78a69080",
        "outputId": "8d4e6b26-6e35-4dd5-e5be-2c0ab8241f84"
      },
      "outputs": [
        {
          "data": {
            "text/plain": [
              "'Shoes'"
            ]
          },
          "execution_count": 22,
          "metadata": {},
          "output_type": "execute_result"
        }
      ],
      "source": [
        "a.pop()"
      ]
    },
    {
      "cell_type": "code",
      "execution_count": null,
      "id": "e3e09245",
      "metadata": {
        "id": "e3e09245",
        "outputId": "a8e3ee6f-b467-455d-a432-c1364bca7e90"
      },
      "outputs": [
        {
          "data": {
            "text/plain": [
              "['Shirt', 'Pant']"
            ]
          },
          "execution_count": 23,
          "metadata": {},
          "output_type": "execute_result"
        }
      ],
      "source": [
        "a"
      ]
    },
    {
      "cell_type": "code",
      "execution_count": null,
      "id": "a134045e",
      "metadata": {
        "id": "a134045e"
      },
      "outputs": [],
      "source": [
        "a=a+[\"Shoes\",\"Tshirt\"]          # concatenate multiple elements in the list"
      ]
    },
    {
      "cell_type": "code",
      "execution_count": null,
      "id": "fd72755e",
      "metadata": {
        "id": "fd72755e",
        "outputId": "8b619577-f627-48fe-a8d5-3b9738a9b479"
      },
      "outputs": [
        {
          "data": {
            "text/plain": [
              "['Shirt', 'Pant', 'Shoes', 'Tshirt']"
            ]
          },
          "execution_count": 25,
          "metadata": {},
          "output_type": "execute_result"
        }
      ],
      "source": [
        "a"
      ]
    },
    {
      "cell_type": "markdown",
      "id": "6d01b7dd",
      "metadata": {
        "id": "6d01b7dd"
      },
      "source": [
        "# List slicing and list operations"
      ]
    },
    {
      "cell_type": "code",
      "execution_count": null,
      "id": "83c8bb94",
      "metadata": {
        "id": "83c8bb94",
        "outputId": "3e565348-e681-44ca-d263-d866833acee0"
      },
      "outputs": [
        {
          "data": {
            "text/plain": [
              "'Shirt'"
            ]
          },
          "execution_count": 26,
          "metadata": {},
          "output_type": "execute_result"
        }
      ],
      "source": [
        "a[0]"
      ]
    },
    {
      "cell_type": "code",
      "execution_count": null,
      "id": "26f0bed2",
      "metadata": {
        "id": "26f0bed2",
        "outputId": "e612d8ea-57b0-4b9f-a3b0-530092bff5ae"
      },
      "outputs": [
        {
          "data": {
            "text/plain": [
              "'Pant'"
            ]
          },
          "execution_count": 27,
          "metadata": {},
          "output_type": "execute_result"
        }
      ],
      "source": [
        "a[1]"
      ]
    },
    {
      "cell_type": "code",
      "execution_count": null,
      "id": "0f7d2ce0",
      "metadata": {
        "id": "0f7d2ce0",
        "outputId": "d87b1fe9-b29a-4927-9cb1-f49a32e427a3"
      },
      "outputs": [
        {
          "data": {
            "text/plain": [
              "'Tshirt'"
            ]
          },
          "execution_count": 28,
          "metadata": {},
          "output_type": "execute_result"
        }
      ],
      "source": [
        "a[-1]"
      ]
    },
    {
      "cell_type": "code",
      "execution_count": null,
      "id": "0f286e3a",
      "metadata": {
        "deletable": false,
        "editable": false,
        "id": "0f286e3a"
      },
      "outputs": [],
      "source": [
        "\n",
        "#what will be value of a at index 3 give your answer in below cell"
      ]
    },
    {
      "cell_type": "code",
      "execution_count": null,
      "id": "61796774",
      "metadata": {
        "cellId": "q4",
        "deletable": false,
        "id": "61796774"
      },
      "outputs": [],
      "source": [
        "#answer here"
      ]
    },
    {
      "cell_type": "code",
      "execution_count": null,
      "id": "3a2ac9e0",
      "metadata": {
        "id": "3a2ac9e0",
        "outputId": "5e38d3f1-fda4-457e-fd07-f0e5fac88c46"
      },
      "outputs": [
        {
          "data": {
            "text/plain": [
              "['Pant', 'Shoes']"
            ]
          },
          "execution_count": 29,
          "metadata": {},
          "output_type": "execute_result"
        }
      ],
      "source": [
        "a[1:3]    # [start: end+1: step]"
      ]
    },
    {
      "cell_type": "code",
      "execution_count": null,
      "id": "7fa6f4c3",
      "metadata": {
        "id": "7fa6f4c3"
      },
      "outputs": [],
      "source": [
        "num=[1,2,3,6,9,8,7,4,5,2,1,4,5,6,9,8,7]"
      ]
    },
    {
      "cell_type": "code",
      "execution_count": null,
      "id": "0c41365f",
      "metadata": {
        "id": "0c41365f",
        "outputId": "3b7dbd27-9f01-43ae-faa4-b40cefb51b04"
      },
      "outputs": [
        {
          "data": {
            "text/plain": [
              "17"
            ]
          },
          "execution_count": 31,
          "metadata": {},
          "output_type": "execute_result"
        }
      ],
      "source": [
        "len(num)"
      ]
    },
    {
      "cell_type": "code",
      "execution_count": null,
      "id": "4bc06143",
      "metadata": {
        "id": "4bc06143",
        "outputId": "e461c67b-62ac-4ca1-dd62-f6b47912667d"
      },
      "outputs": [
        {
          "data": {
            "text/plain": [
              "[3, 6, 9, 8, 7, 4]"
            ]
          },
          "execution_count": 32,
          "metadata": {},
          "output_type": "execute_result"
        }
      ],
      "source": [
        "# Elements from 2nd to 7th item\n",
        "\n",
        "num[2:8]"
      ]
    },
    {
      "cell_type": "code",
      "execution_count": null,
      "id": "e579ee8f",
      "metadata": {
        "id": "e579ee8f",
        "outputId": "65dabab1-6577-42f1-b4c2-a56d90664751"
      },
      "outputs": [
        {
          "data": {
            "text/plain": [
              "6"
            ]
          },
          "execution_count": 33,
          "metadata": {},
          "output_type": "execute_result"
        }
      ],
      "source": [
        "# 4th element from end\n",
        "num[-4]"
      ]
    },
    {
      "cell_type": "code",
      "execution_count": null,
      "id": "7b0bd75a",
      "metadata": {
        "deletable": false,
        "editable": false,
        "id": "7b0bd75a"
      },
      "outputs": [],
      "source": [
        "#Find the element from 1 to 5th item in below cell"
      ]
    },
    {
      "cell_type": "code",
      "execution_count": null,
      "id": "36c610cd",
      "metadata": {
        "cellId": "w4",
        "deletable": false,
        "id": "36c610cd"
      },
      "outputs": [],
      "source": [
        "#answer here"
      ]
    },
    {
      "cell_type": "code",
      "execution_count": null,
      "id": "a3cd260c",
      "metadata": {
        "id": "a3cd260c",
        "outputId": "846114bf-afdc-47de-f3a7-e03037d5d8ad"
      },
      "outputs": [
        {
          "data": {
            "text/plain": [
              "[6, 9, 8, 7]"
            ]
          },
          "execution_count": 34,
          "metadata": {},
          "output_type": "execute_result"
        }
      ],
      "source": [
        "# 4th  from end to last element\n",
        "\n",
        "num[-4:]"
      ]
    },
    {
      "cell_type": "code",
      "execution_count": null,
      "id": "6e6e784a",
      "metadata": {
        "id": "6e6e784a"
      },
      "outputs": [],
      "source": [
        "# 4th  from end to last element\n",
        "\n",
        "num1=num[-4:][-2]"
      ]
    },
    {
      "cell_type": "code",
      "execution_count": null,
      "id": "aa31e6d8",
      "metadata": {
        "id": "aa31e6d8",
        "outputId": "fbbc42c0-9616-4a67-9882-4b63bbfa25e8"
      },
      "outputs": [
        {
          "data": {
            "text/plain": [
              "8"
            ]
          },
          "execution_count": 36,
          "metadata": {},
          "output_type": "execute_result"
        }
      ],
      "source": [
        "num1"
      ]
    },
    {
      "cell_type": "code",
      "execution_count": null,
      "id": "6853f3ca",
      "metadata": {
        "id": "6853f3ca",
        "outputId": "39d79103-020d-4db7-f789-b20b19858c4c"
      },
      "outputs": [
        {
          "data": {
            "text/plain": [
              "[1, 2, 3, 6, 9, 8, 7, 4, 5, 2, 1, 4, 5, 6, 9, 8, 7]"
            ]
          },
          "execution_count": 37,
          "metadata": {},
          "output_type": "execute_result"
        }
      ],
      "source": [
        "num"
      ]
    },
    {
      "cell_type": "code",
      "execution_count": null,
      "id": "884a1aa7",
      "metadata": {
        "id": "884a1aa7",
        "outputId": "eaa5813d-fccd-4fe0-bc06-cc93191ff02d"
      },
      "outputs": [
        {
          "name": "stdout",
          "output_type": "stream",
          "text": [
            "2 6 8 4 2 4 6 8 "
          ]
        }
      ],
      "source": [
        "# find out the even numbers from the list\n",
        "\n",
        "for i in num:\n",
        "    if i%2==0:\n",
        "        print(i,end =' ')"
      ]
    },
    {
      "cell_type": "code",
      "execution_count": null,
      "id": "60726c5e",
      "metadata": {
        "id": "60726c5e"
      },
      "outputs": [],
      "source": [
        "# find out the even numbers from the list\n",
        "even=[]\n",
        "for i in num:\n",
        "    if i%2==0:\n",
        "        even.append(i)"
      ]
    },
    {
      "cell_type": "code",
      "execution_count": null,
      "id": "2f5ddb57",
      "metadata": {
        "id": "2f5ddb57",
        "outputId": "39b0f678-25a8-4175-bb99-4c91adbda792"
      },
      "outputs": [
        {
          "data": {
            "text/plain": [
              "[2, 6, 8, 4, 2, 4, 6, 8]"
            ]
          },
          "execution_count": 42,
          "metadata": {},
          "output_type": "execute_result"
        }
      ],
      "source": [
        "even"
      ]
    },
    {
      "cell_type": "code",
      "execution_count": null,
      "id": "01dcd3f3",
      "metadata": {
        "deletable": false,
        "editable": false,
        "id": "01dcd3f3"
      },
      "outputs": [],
      "source": [
        "# find out the unique even numbers from the list in the below cell\n",
        "num=[1,2,3,6,9,8,7,4,5,2,1,4,5,6,9,8,7]"
      ]
    },
    {
      "cell_type": "code",
      "execution_count": null,
      "id": "380928c7",
      "metadata": {
        "cellId": "E4",
        "deletable": false,
        "id": "380928c7"
      },
      "outputs": [],
      "source": [
        "#answer here"
      ]
    },
    {
      "cell_type": "code",
      "execution_count": null,
      "id": "a82d75b1",
      "metadata": {
        "id": "a82d75b1"
      },
      "outputs": [],
      "source": [
        "even.sort()       # to sort the list in ascending order"
      ]
    },
    {
      "cell_type": "code",
      "execution_count": null,
      "id": "6b41401a",
      "metadata": {
        "id": "6b41401a",
        "outputId": "297806e0-7982-42ac-bbbc-2609a7ccaaae"
      },
      "outputs": [
        {
          "data": {
            "text/plain": [
              "[2, 2, 4, 4, 6, 6, 8, 8]"
            ]
          },
          "execution_count": 44,
          "metadata": {},
          "output_type": "execute_result"
        }
      ],
      "source": [
        "even"
      ]
    },
    {
      "cell_type": "code",
      "execution_count": null,
      "id": "f146f8f3",
      "metadata": {
        "id": "f146f8f3"
      },
      "outputs": [],
      "source": [
        "even.sort(reverse=True)  # sort the list in the reverse"
      ]
    },
    {
      "cell_type": "code",
      "execution_count": null,
      "id": "e9fefaf6",
      "metadata": {
        "id": "e9fefaf6",
        "outputId": "e7a67016-9822-4ebb-bd56-e65fc4063621"
      },
      "outputs": [
        {
          "data": {
            "text/plain": [
              "[8, 8, 6, 6, 4, 4, 2, 2]"
            ]
          },
          "execution_count": 46,
          "metadata": {},
          "output_type": "execute_result"
        }
      ],
      "source": [
        "even"
      ]
    },
    {
      "cell_type": "code",
      "execution_count": null,
      "id": "eab27d87",
      "metadata": {
        "id": "eab27d87",
        "outputId": "0f7cd028-755b-445f-effa-c4095ca0b550"
      },
      "outputs": [
        {
          "data": {
            "text/plain": [
              "[8, 8, 6, 6, 4, 4, 2, 2]"
            ]
          },
          "execution_count": 47,
          "metadata": {},
          "output_type": "execute_result"
        }
      ],
      "source": [
        "even"
      ]
    },
    {
      "cell_type": "code",
      "execution_count": null,
      "id": "ef19f68c",
      "metadata": {
        "id": "ef19f68c"
      },
      "outputs": [],
      "source": [
        "even.extend([10,12,14])"
      ]
    },
    {
      "cell_type": "code",
      "execution_count": null,
      "id": "101f9f1f",
      "metadata": {
        "id": "101f9f1f",
        "outputId": "cabb7f93-569d-4754-9287-347e9718b78b"
      },
      "outputs": [
        {
          "data": {
            "text/plain": [
              "[8, 8, 6, 6, 4, 4, 2, 2, 10, 12, 14]"
            ]
          },
          "execution_count": 49,
          "metadata": {},
          "output_type": "execute_result"
        }
      ],
      "source": [
        "even"
      ]
    },
    {
      "cell_type": "code",
      "execution_count": null,
      "id": "bb5ca9d1",
      "metadata": {
        "id": "bb5ca9d1",
        "outputId": "c3b6de65-2645-4a3d-b84a-7b5a922f295c"
      },
      "outputs": [
        {
          "data": {
            "text/plain": [
              "6"
            ]
          },
          "execution_count": 50,
          "metadata": {},
          "output_type": "execute_result"
        }
      ],
      "source": [
        "even.pop(2)   # remove element from specific index"
      ]
    },
    {
      "cell_type": "code",
      "execution_count": null,
      "id": "9f635b8d",
      "metadata": {
        "id": "9f635b8d"
      },
      "outputs": [],
      "source": [
        "even.remove(8)  # remove a specific element"
      ]
    },
    {
      "cell_type": "code",
      "execution_count": null,
      "id": "0399ada3",
      "metadata": {
        "id": "0399ada3",
        "outputId": "6b9dc383-a4e5-42ee-8c72-3195eae95e6a"
      },
      "outputs": [
        {
          "data": {
            "text/plain": [
              "[8, 6, 4, 4, 2, 2, 10, 12, 14]"
            ]
          },
          "execution_count": 52,
          "metadata": {},
          "output_type": "execute_result"
        }
      ],
      "source": [
        "even"
      ]
    },
    {
      "cell_type": "code",
      "execution_count": null,
      "id": "69a49078",
      "metadata": {
        "id": "69a49078"
      },
      "outputs": [],
      "source": [
        "even.insert(2,'Mango')      # to insert an element at specific elements"
      ]
    },
    {
      "cell_type": "code",
      "execution_count": null,
      "id": "07a84a4b",
      "metadata": {
        "id": "07a84a4b",
        "outputId": "75dcc11d-5e5c-4e1c-85a9-d36186520226"
      },
      "outputs": [
        {
          "data": {
            "text/plain": [
              "[8, 6, 'Mango', 4, 4, 2, 2, 10, 12, 14]"
            ]
          },
          "execution_count": 54,
          "metadata": {},
          "output_type": "execute_result"
        }
      ],
      "source": [
        "even"
      ]
    },
    {
      "cell_type": "code",
      "execution_count": null,
      "id": "932cceb7",
      "metadata": {
        "id": "932cceb7"
      },
      "outputs": [],
      "source": [
        "x=[1,2,3,4]\n",
        "y=x"
      ]
    },
    {
      "cell_type": "code",
      "execution_count": null,
      "id": "ea4fd5bc",
      "metadata": {
        "id": "ea4fd5bc",
        "outputId": "0420e8e8-dbd0-4f07-d1ce-765303f3a3d5"
      },
      "outputs": [
        {
          "data": {
            "text/plain": [
              "[1, 2, 3, 4]"
            ]
          },
          "execution_count": 56,
          "metadata": {},
          "output_type": "execute_result"
        }
      ],
      "source": [
        "y"
      ]
    },
    {
      "cell_type": "code",
      "execution_count": null,
      "id": "3032f2a6",
      "metadata": {
        "id": "3032f2a6"
      },
      "outputs": [],
      "source": [
        "z=y.copy()      # to copy the list"
      ]
    },
    {
      "cell_type": "code",
      "execution_count": null,
      "id": "8714003f",
      "metadata": {
        "id": "8714003f",
        "outputId": "c2c5914b-101d-4123-befa-296cc006f629"
      },
      "outputs": [
        {
          "data": {
            "text/plain": [
              "[1, 2, 3, 4]"
            ]
          },
          "execution_count": 58,
          "metadata": {},
          "output_type": "execute_result"
        }
      ],
      "source": [
        "z"
      ]
    },
    {
      "cell_type": "code",
      "execution_count": null,
      "id": "15ebe7b0",
      "metadata": {
        "id": "15ebe7b0"
      },
      "outputs": [],
      "source": [
        "z.clear()        # to clear the list completely"
      ]
    },
    {
      "cell_type": "code",
      "execution_count": null,
      "id": "a5915126",
      "metadata": {
        "id": "a5915126",
        "outputId": "99a0f836-9dec-44b0-a04e-50e3c3a9bb77"
      },
      "outputs": [
        {
          "data": {
            "text/plain": [
              "[]"
            ]
          },
          "execution_count": 60,
          "metadata": {},
          "output_type": "execute_result"
        }
      ],
      "source": [
        "z"
      ]
    },
    {
      "cell_type": "code",
      "execution_count": null,
      "id": "3f2ba84e",
      "metadata": {
        "id": "3f2ba84e"
      },
      "outputs": [],
      "source": [
        "del y          # to delete the list"
      ]
    },
    {
      "cell_type": "code",
      "execution_count": null,
      "id": "b89a4255",
      "metadata": {
        "id": "b89a4255",
        "outputId": "15a2cdf7-55da-4d65-b992-8bd2111fcd5a"
      },
      "outputs": [
        {
          "ename": "NameError",
          "evalue": "name 'y' is not defined",
          "output_type": "error",
          "traceback": [
            "\u001b[1;31m---------------------------------------------------------------------------\u001b[0m",
            "\u001b[1;31mNameError\u001b[0m                                 Traceback (most recent call last)",
            "Input \u001b[1;32mIn [62]\u001b[0m, in \u001b[0;36m<cell line: 1>\u001b[1;34m()\u001b[0m\n\u001b[1;32m----> 1\u001b[0m \u001b[43my\u001b[49m\n",
            "\u001b[1;31mNameError\u001b[0m: name 'y' is not defined"
          ]
        }
      ],
      "source": [
        "y"
      ]
    },
    {
      "cell_type": "code",
      "execution_count": null,
      "id": "1e125eed",
      "metadata": {
        "id": "1e125eed",
        "outputId": "c7e67a60-fabb-49ec-dd84-6742b56f9ebd"
      },
      "outputs": [
        {
          "data": {
            "text/plain": [
              "[1, 2, 3, 4]"
            ]
          },
          "execution_count": 63,
          "metadata": {},
          "output_type": "execute_result"
        }
      ],
      "source": [
        "x"
      ]
    },
    {
      "cell_type": "code",
      "execution_count": null,
      "id": "eb241a47",
      "metadata": {
        "id": "eb241a47"
      },
      "outputs": [],
      "source": [
        "del x[1:3]        # to delete the portion of the list"
      ]
    },
    {
      "cell_type": "code",
      "execution_count": null,
      "id": "e99ca50f",
      "metadata": {
        "id": "e99ca50f",
        "outputId": "3b528a46-8fb3-4e7e-f975-8efbc0af8c63"
      },
      "outputs": [
        {
          "data": {
            "text/plain": [
              "[1, 4]"
            ]
          },
          "execution_count": 65,
          "metadata": {},
          "output_type": "execute_result"
        }
      ],
      "source": [
        "x"
      ]
    },
    {
      "cell_type": "code",
      "execution_count": null,
      "id": "3544f0ed",
      "metadata": {
        "id": "3544f0ed"
      },
      "outputs": [],
      "source": [
        "e=[['mango','apple','cherry'],['Shirt','Pant','Tshirt']]          # to create list of the list"
      ]
    },
    {
      "cell_type": "code",
      "execution_count": null,
      "id": "124ceff4",
      "metadata": {
        "id": "124ceff4",
        "outputId": "900a0f06-812c-4fc3-cac7-eb75132a3a47"
      },
      "outputs": [
        {
          "data": {
            "text/plain": [
              "[['mango', 'apple', 'cherry'], ['Shirt', 'Pant', 'Tshirt']]"
            ]
          },
          "execution_count": 67,
          "metadata": {},
          "output_type": "execute_result"
        }
      ],
      "source": [
        "e"
      ]
    },
    {
      "cell_type": "code",
      "execution_count": null,
      "id": "05213bd2",
      "metadata": {
        "id": "05213bd2"
      },
      "outputs": [],
      "source": [
        "fruit=e[0]"
      ]
    },
    {
      "cell_type": "code",
      "execution_count": null,
      "id": "1baa07a6",
      "metadata": {
        "id": "1baa07a6",
        "outputId": "1ddc63e8-fa24-4527-d144-0c1eba5f7ce1"
      },
      "outputs": [
        {
          "data": {
            "text/plain": [
              "['mango', 'apple', 'cherry']"
            ]
          },
          "execution_count": 69,
          "metadata": {},
          "output_type": "execute_result"
        }
      ],
      "source": [
        "fruit"
      ]
    },
    {
      "cell_type": "code",
      "execution_count": null,
      "id": "bff50cce",
      "metadata": {
        "id": "bff50cce"
      },
      "outputs": [],
      "source": [
        "fashion=e[1]"
      ]
    },
    {
      "cell_type": "code",
      "execution_count": null,
      "id": "40da9422",
      "metadata": {
        "id": "40da9422",
        "outputId": "72a24ab3-cd83-4f62-baeb-41437e9eb2d2"
      },
      "outputs": [
        {
          "data": {
            "text/plain": [
              "['Shirt', 'Pant', 'Tshirt']"
            ]
          },
          "execution_count": 71,
          "metadata": {},
          "output_type": "execute_result"
        }
      ],
      "source": [
        "fashion"
      ]
    },
    {
      "cell_type": "code",
      "execution_count": null,
      "id": "ec986e78",
      "metadata": {
        "id": "ec986e78"
      },
      "outputs": [],
      "source": [
        "e[1][-1]='Shoes'"
      ]
    },
    {
      "cell_type": "code",
      "execution_count": null,
      "id": "d4b5c4b9",
      "metadata": {
        "id": "d4b5c4b9",
        "outputId": "0d9deb90-cec2-4e36-80f9-44c5166bf439"
      },
      "outputs": [
        {
          "data": {
            "text/plain": [
              "[['mango', 'apple', 'cherry'], ['Shirt', 'Pant', 'Shoes']]"
            ]
          },
          "execution_count": 73,
          "metadata": {},
          "output_type": "execute_result"
        }
      ],
      "source": [
        "e"
      ]
    },
    {
      "cell_type": "markdown",
      "id": "79af2c41",
      "metadata": {
        "id": "79af2c41"
      },
      "source": [
        "# List comprehension"
      ]
    },
    {
      "cell_type": "markdown",
      "id": "123d0953",
      "metadata": {
        "id": "123d0953"
      },
      "source": [
        "A Python list comprehension consists of brackets containing the expression, which is executed for each element along with the for loop to iterate over each element in the Python list.\n",
        "\n",
        "Python List comprehension provides a much more short syntax for creating a new list based on the values of an existing list.\n",
        "\n"
      ]
    },
    {
      "cell_type": "code",
      "execution_count": null,
      "id": "c6aaa894",
      "metadata": {
        "id": "c6aaa894",
        "outputId": "8089c56d-9000-421f-b4dd-4cc0e11c9c7a"
      },
      "outputs": [
        {
          "data": {
            "text/plain": [
              "[2, 6, 8, 4, 2, 4, 6, 8]"
            ]
          },
          "execution_count": 74,
          "metadata": {},
          "output_type": "execute_result"
        }
      ],
      "source": [
        "num=[1,2,3,6,9,8,7,4,5,2,1,4,5,6,9,8,7]\n",
        "even=[]\n",
        "for i in num:\n",
        "    if i%2==0:\n",
        "        even.append(i)\n",
        "even\n"
      ]
    },
    {
      "cell_type": "code",
      "execution_count": null,
      "id": "19399f26",
      "metadata": {
        "id": "19399f26",
        "outputId": "31940bd0-fd08-44af-e472-6ceec707c145"
      },
      "outputs": [
        {
          "data": {
            "text/plain": [
              "[2, 6, 8, 4, 2, 4, 6, 8]"
            ]
          },
          "execution_count": 75,
          "metadata": {},
          "output_type": "execute_result"
        }
      ],
      "source": [
        "even1=[i for i in num if i%2==0]\n",
        "even1"
      ]
    },
    {
      "cell_type": "code",
      "execution_count": null,
      "id": "4a5c2eb4",
      "metadata": {
        "id": "4a5c2eb4"
      },
      "outputs": [],
      "source": [
        "even_square=[i**2 for i in num if i%2==0]"
      ]
    },
    {
      "cell_type": "code",
      "execution_count": null,
      "id": "c01bc4e5",
      "metadata": {
        "id": "c01bc4e5",
        "outputId": "43abd3df-70da-401d-f710-8afb3e4361d4"
      },
      "outputs": [
        {
          "data": {
            "text/plain": [
              "[4, 36, 64, 16, 4, 16, 36, 64]"
            ]
          },
          "execution_count": 77,
          "metadata": {},
          "output_type": "execute_result"
        }
      ],
      "source": [
        "even_square"
      ]
    },
    {
      "cell_type": "code",
      "execution_count": null,
      "id": "6d6762e3",
      "metadata": {
        "id": "6d6762e3"
      },
      "outputs": [],
      "source": []
    },
    {
      "cell_type": "code",
      "execution_count": null,
      "id": "d80a5c8b",
      "metadata": {
        "id": "d80a5c8b",
        "outputId": "abf7fa08-f4f4-4d18-e1f5-59a62afb3399"
      },
      "outputs": [
        {
          "name": "stdout",
          "output_type": "stream",
          "text": [
            "[[0, 1, 2, 3], [0, 1, 2, 3], [0, 1, 2, 3]]\n"
          ]
        }
      ],
      "source": [
        "# Nested list comprehension\n",
        "list_list = [[j for j in range(4)] for i in range(3)]\n",
        "\n",
        "print(list_list)"
      ]
    },
    {
      "cell_type": "code",
      "execution_count": null,
      "id": "299b9671",
      "metadata": {
        "id": "299b9671",
        "outputId": "d2758780-4e19-495e-f48f-dda384097e42"
      },
      "outputs": [
        {
          "name": "stdout",
          "output_type": "stream",
          "text": [
            "[0, 10, 20, 30, 40, 50, 60, 70, 80, 90]\n"
          ]
        }
      ],
      "source": [
        "# Nested IF with List Comprehension\n",
        "num_list = [y for y in range(100) if y % 2 == 0 if y % 5 == 0]\n",
        "print(num_list)"
      ]
    },
    {
      "cell_type": "code",
      "execution_count": null,
      "id": "dae21e3e",
      "metadata": {
        "id": "dae21e3e",
        "outputId": "34908234-3214-42f0-906d-ede3ba7a580b"
      },
      "outputs": [
        {
          "name": "stdout",
          "output_type": "stream",
          "text": [
            "['Even', 'Odd', 'Even', 'Odd', 'Even', 'Odd', 'Even', 'Odd', 'Even', 'Odd']\n"
          ]
        }
      ],
      "source": [
        "#  if...else With List Comprehension\n",
        "\n",
        "obj = [\"Even\" if i%2==0 else \"Odd\" for i in range(10)]\n",
        "print(obj)"
      ]
    },
    {
      "cell_type": "code",
      "execution_count": null,
      "id": "6574ee7b",
      "metadata": {
        "id": "6574ee7b"
      },
      "outputs": [],
      "source": []
    }
  ],
  "metadata": {
    "celltoolbar": "Edit Metadata",
    "kernelspec": {
      "display_name": "Python 3 (ipykernel)",
      "language": "python",
      "name": "python3"
    },
    "language_info": {
      "codemirror_mode": {
        "name": "ipython",
        "version": 3
      },
      "file_extension": ".py",
      "mimetype": "text/x-python",
      "name": "python",
      "nbconvert_exporter": "python",
      "pygments_lexer": "ipython3",
      "version": "3.9.12"
    },
    "colab": {
      "provenance": [],
      "include_colab_link": true
    }
  },
  "nbformat": 4,
  "nbformat_minor": 5
}